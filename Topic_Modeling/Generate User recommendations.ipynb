{
 "cells": [
  {
   "cell_type": "code",
   "execution_count": 1,
   "metadata": {},
   "outputs": [
    {
     "name": "stdout",
     "output_type": "stream",
     "text": [
      "[nltk_data] Downloading package stopwords to\n",
      "[nltk_data]     C:\\Users\\tanma\\AppData\\Roaming\\nltk_data...\n",
      "[nltk_data]   Package stopwords is already up-to-date!\n"
     ]
    },
    {
     "name": "stderr",
     "output_type": "stream",
     "text": [
      "C:\\Users\\tanma\\Anaconda3\\lib\\site-packages\\matplotlib\\colors.py:53: DeprecationWarning: Using or importing the ABCs from 'collections' instead of from 'collections.abc' is deprecated, and in 3.8 it will stop working\n",
      "  from collections import Sized\n"
     ]
    }
   ],
   "source": [
    "import warnings\n",
    "\n",
    "\n",
    "warnings.filterwarnings(\"ignore\")\n",
    "\n",
    "import nltk\n",
    "from nltk import FreqDist\n",
    "nltk.download('stopwords')\n",
    "\n",
    "# !pip install pyLDAvis\n",
    "\n",
    "import pandas as pd\n",
    "# pd.set_option(\"display.max_colwidth\", 200)\n",
    "import numpy as np\n",
    "import json\n",
    "import re\n",
    "import gzip\n",
    "import spacy\n",
    "\n",
    "import gensim\n",
    "from gensim import corpora\n",
    "\n",
    "import pyLDAvis\n",
    "# import pyLDAvis.gensim\n",
    "import pyLDAvis.gensim_models as gensimvis\n",
    "pyLDAvis.enable_notebook()\n",
    "import matplotlib.pyplot as plt\n",
    "import seaborn as sns\n",
    "%matplotlib inline\n",
    "\n",
    "from gensim.models.coherencemodel import CoherenceModel\n",
    "\n",
    "from nltk.corpus import stopwords\n",
    "\n",
    "import nltk\n",
    "\n",
    "from nltk.tokenize import sent_tokenize, word_tokenize\n",
    "from nltk.stem import PorterStemmer\n",
    "\n",
    "from nltk.stem import WordNetLemmatizer\n",
    "\n",
    "from tqdm import tqdm\n",
    "\n",
    "import gensim\n",
    "from gensim import corpora\n",
    "\n",
    "import pyLDAvis\n",
    "# import pyLDAvis.gensim\n",
    "import pyLDAvis.gensim_models as gensimvis\n",
    "pyLDAvis.enable_notebook()\n",
    "import matplotlib.pyplot as plt\n",
    "import seaborn as sns\n",
    "%matplotlib inline"
   ]
  },
  {
   "cell_type": "code",
   "execution_count": 2,
   "metadata": {},
   "outputs": [],
   "source": [
    "import json"
   ]
  },
  {
   "cell_type": "code",
   "execution_count": 3,
   "metadata": {},
   "outputs": [],
   "source": [
    "from gensim.test.utils import datapath"
   ]
  },
  {
   "cell_type": "code",
   "execution_count": 5,
   "metadata": {},
   "outputs": [],
   "source": [
    "import random"
   ]
  },
  {
   "cell_type": "markdown",
   "metadata": {},
   "source": [
    "## Load all the required data\n",
    "\n",
    "In the real world this will be equivalent to querying a table"
   ]
  },
  {
   "cell_type": "code",
   "execution_count": 60,
   "metadata": {},
   "outputs": [],
   "source": [
    "inter_df = pd.read_csv('./data/interactions.csv')"
   ]
  },
  {
   "cell_type": "code",
   "execution_count": 20,
   "metadata": {},
   "outputs": [],
   "source": [
    "engaged_df = pd.read_csv(\"./data/engaged_df.csv\")"
   ]
  },
  {
   "cell_type": "code",
   "execution_count": 21,
   "metadata": {
    "scrolled": true
   },
   "outputs": [
    {
     "data": {
      "text/html": [
       "<div>\n",
       "<style scoped>\n",
       "    .dataframe tbody tr th:only-of-type {\n",
       "        vertical-align: middle;\n",
       "    }\n",
       "\n",
       "    .dataframe tbody tr th {\n",
       "        vertical-align: top;\n",
       "    }\n",
       "\n",
       "    .dataframe thead th {\n",
       "        text-align: right;\n",
       "    }\n",
       "</style>\n",
       "<table border=\"1\" class=\"dataframe\">\n",
       "  <thead>\n",
       "    <tr style=\"text-align: right;\">\n",
       "      <th></th>\n",
       "      <th>book_id</th>\n",
       "      <th>user_id</th>\n",
       "      <th>review_id</th>\n",
       "      <th>rating</th>\n",
       "      <th>review_text</th>\n",
       "      <th>date_added</th>\n",
       "      <th>date_updated</th>\n",
       "      <th>read_at</th>\n",
       "      <th>started_at</th>\n",
       "      <th>n_votes</th>\n",
       "      <th>n_comments</th>\n",
       "      <th>clean_reviews</th>\n",
       "    </tr>\n",
       "  </thead>\n",
       "  <tbody>\n",
       "    <tr>\n",
       "      <th>0</th>\n",
       "      <td>5805</td>\n",
       "      <td>4cbecbc15af3db041a8e0f594c642bb5</td>\n",
       "      <td>58f2301bd2d4bbfc1b51e4e5fb161cfe</td>\n",
       "      <td>5</td>\n",
       "      <td>Remember, remember, the fifth of November. Thi...</td>\n",
       "      <td>Wed Jun 13 17:55:53 -0700 2012</td>\n",
       "      <td>Mon Jan 30 05:58:01 -0800 2017</td>\n",
       "      <td>Thu Jun 14 00:00:00 -0700 2012</td>\n",
       "      <td>NaN</td>\n",
       "      <td>7</td>\n",
       "      <td>0</td>\n",
       "      <td>['remember', 'remember', 'fifth', 'part', 'quo...</td>\n",
       "    </tr>\n",
       "    <tr>\n",
       "      <th>1</th>\n",
       "      <td>5805</td>\n",
       "      <td>49cc59f1c479d698507627b401d47ecf</td>\n",
       "      <td>761a17f52538341a085b629a316204a1</td>\n",
       "      <td>4</td>\n",
       "      <td>Tinha apontado este livro como um dos que tinh...</td>\n",
       "      <td>Sun Jan 05 03:27:10 -0800 2014</td>\n",
       "      <td>Tue Oct 28 15:58:20 -0700 2014</td>\n",
       "      <td>Tue Oct 28 15:58:20 -0700 2014</td>\n",
       "      <td>NaN</td>\n",
       "      <td>1</td>\n",
       "      <td>0</td>\n",
       "      <td>['tinha', 'visto', 'portman', 'hora', 'livro',...</td>\n",
       "    </tr>\n",
       "    <tr>\n",
       "      <th>2</th>\n",
       "      <td>5805</td>\n",
       "      <td>5f03864c758bfceb6d7d5e93eeb20044</td>\n",
       "      <td>ac54c3ce0c9f660c03881b0668f79c60</td>\n",
       "      <td>5</td>\n",
       "      <td>Review coming soon! www.youtube.com/ReadTomes</td>\n",
       "      <td>Tue Feb 12 11:38:36 -0800 2013</td>\n",
       "      <td>Tue Feb 12 12:00:47 -0800 2013</td>\n",
       "      <td>Tue Feb 12 12:00:47 -0800 2013</td>\n",
       "      <td>Tue Feb 12 00:00:00 -0800 2013</td>\n",
       "      <td>1</td>\n",
       "      <td>0</td>\n",
       "      <td>['review', 'ing', 'soon', 'readtome']</td>\n",
       "    </tr>\n",
       "    <tr>\n",
       "      <th>3</th>\n",
       "      <td>5805</td>\n",
       "      <td>c309dff1695ed8558b29ea8dcd7479b8</td>\n",
       "      <td>0da0bcc469c2acd15350f9a8f0a74e2b</td>\n",
       "      <td>5</td>\n",
       "      <td>What better way to celebrate Guy Fawkes Day, t...</td>\n",
       "      <td>Tue May 20 09:52:36 -0700 2014</td>\n",
       "      <td>Thu Mar 16 09:49:11 -0700 2017</td>\n",
       "      <td>Wed Nov 05 14:22:10 -0800 2014</td>\n",
       "      <td>Wed Nov 05 00:00:00 -0800 2014</td>\n",
       "      <td>2</td>\n",
       "      <td>0</td>\n",
       "      <td>['well', 'way', 'celebrate', 'guy', 'day', 're...</td>\n",
       "    </tr>\n",
       "    <tr>\n",
       "      <th>4</th>\n",
       "      <td>5805</td>\n",
       "      <td>0f6b8c04f811e05c8978bd6b66ce7685</td>\n",
       "      <td>7d670b6c8cac0c086e21ae2f1af6eccb</td>\n",
       "      <td>4</td>\n",
       "      <td>To note - I am writing this review a quarter c...</td>\n",
       "      <td>Tue Jul 03 16:43:26 -0700 2012</td>\n",
       "      <td>Fri Feb 27 14:46:00 -0800 2015</td>\n",
       "      <td>Tue Jan 01 00:00:00 -0800 1991</td>\n",
       "      <td>NaN</td>\n",
       "      <td>10</td>\n",
       "      <td>0</td>\n",
       "      <td>['note', 'write', 'review', 'quarter', 'centur...</td>\n",
       "    </tr>\n",
       "  </tbody>\n",
       "</table>\n",
       "</div>"
      ],
      "text/plain": [
       "   book_id                           user_id  \\\n",
       "0     5805  4cbecbc15af3db041a8e0f594c642bb5   \n",
       "1     5805  49cc59f1c479d698507627b401d47ecf   \n",
       "2     5805  5f03864c758bfceb6d7d5e93eeb20044   \n",
       "3     5805  c309dff1695ed8558b29ea8dcd7479b8   \n",
       "4     5805  0f6b8c04f811e05c8978bd6b66ce7685   \n",
       "\n",
       "                          review_id  rating  \\\n",
       "0  58f2301bd2d4bbfc1b51e4e5fb161cfe       5   \n",
       "1  761a17f52538341a085b629a316204a1       4   \n",
       "2  ac54c3ce0c9f660c03881b0668f79c60       5   \n",
       "3  0da0bcc469c2acd15350f9a8f0a74e2b       5   \n",
       "4  7d670b6c8cac0c086e21ae2f1af6eccb       4   \n",
       "\n",
       "                                         review_text  \\\n",
       "0  Remember, remember, the fifth of November. Thi...   \n",
       "1  Tinha apontado este livro como um dos que tinh...   \n",
       "2      Review coming soon! www.youtube.com/ReadTomes   \n",
       "3  What better way to celebrate Guy Fawkes Day, t...   \n",
       "4  To note - I am writing this review a quarter c...   \n",
       "\n",
       "                       date_added                    date_updated  \\\n",
       "0  Wed Jun 13 17:55:53 -0700 2012  Mon Jan 30 05:58:01 -0800 2017   \n",
       "1  Sun Jan 05 03:27:10 -0800 2014  Tue Oct 28 15:58:20 -0700 2014   \n",
       "2  Tue Feb 12 11:38:36 -0800 2013  Tue Feb 12 12:00:47 -0800 2013   \n",
       "3  Tue May 20 09:52:36 -0700 2014  Thu Mar 16 09:49:11 -0700 2017   \n",
       "4  Tue Jul 03 16:43:26 -0700 2012  Fri Feb 27 14:46:00 -0800 2015   \n",
       "\n",
       "                          read_at                      started_at  n_votes  \\\n",
       "0  Thu Jun 14 00:00:00 -0700 2012                             NaN        7   \n",
       "1  Tue Oct 28 15:58:20 -0700 2014                             NaN        1   \n",
       "2  Tue Feb 12 12:00:47 -0800 2013  Tue Feb 12 00:00:00 -0800 2013        1   \n",
       "3  Wed Nov 05 14:22:10 -0800 2014  Wed Nov 05 00:00:00 -0800 2014        2   \n",
       "4  Tue Jan 01 00:00:00 -0800 1991                             NaN       10   \n",
       "\n",
       "   n_comments                                      clean_reviews  \n",
       "0           0  ['remember', 'remember', 'fifth', 'part', 'quo...  \n",
       "1           0  ['tinha', 'visto', 'portman', 'hora', 'livro',...  \n",
       "2           0              ['review', 'ing', 'soon', 'readtome']  \n",
       "3           0  ['well', 'way', 'celebrate', 'guy', 'day', 're...  \n",
       "4           0  ['note', 'write', 'review', 'quarter', 'centur...  "
      ]
     },
     "execution_count": 21,
     "metadata": {},
     "output_type": "execute_result"
    }
   ],
   "source": [
    "engaged_df.head()"
   ]
  },
  {
   "cell_type": "code",
   "execution_count": 41,
   "metadata": {},
   "outputs": [],
   "source": [
    "def to_list(x):\n",
    "    x = x.strip('][').split(', ')\n",
    "#     print(x)\n",
    "    x = [i.strip(\"'\") for i in x]\n",
    "    return x"
   ]
  },
  {
   "cell_type": "code",
   "execution_count": 44,
   "metadata": {},
   "outputs": [],
   "source": [
    "engaged_df['clean_reviews'] = engaged_df['clean_reviews'].apply(lambda x: to_list(x))"
   ]
  },
  {
   "cell_type": "code",
   "execution_count": 10,
   "metadata": {},
   "outputs": [],
   "source": [
    "book_df = pd.read_csv('./data/books_with_topics.csv')"
   ]
  },
  {
   "cell_type": "code",
   "execution_count": 48,
   "metadata": {},
   "outputs": [],
   "source": [
    "book_df['processed_description'] = book_df['processed_description'].apply(lambda x: to_list(x))"
   ]
  },
  {
   "cell_type": "code",
   "execution_count": null,
   "metadata": {},
   "outputs": [],
   "source": [
    "lda_review_model = gensim.models.ldamodel.LdaModel.load(datapath(\"./data/best_review_model\"))"
   ]
  },
  {
   "cell_type": "code",
   "execution_count": 48,
   "metadata": {},
   "outputs": [
    {
     "data": {
      "text/plain": [
       "[(0,\n",
       "  '0.027*\"book\" + 0.011*\"read\" + 0.010*\"life\" + 0.009*\"story\" + 0.008*\"make\" + 0.007*\"one\" + 0.006*\"would\" + 0.006*\"like\" + 0.006*\"time\" + 0.005*\"school\"'),\n",
       " (1,\n",
       "  '0.140*\"novel\" + 0.133*\"graphic\" + 0.011*\"con\" + 0.008*\"deadpool\" + 0.008*\"die\" + 0.008*\"yang\" + 0.007*\"kai\" + 0.006*\"para\" + 0.006*\"che\" + 0.006*\"manga\"'),\n",
       " (2,\n",
       "  '0.012*\"get\" + 0.009*\"like\" + 0.007*\"volume\" + 0.006*\"one\" + 0.006*\"character\" + 0.006*\"man\" + 0.005*\"girl\" + 0.005*\"make\" + 0.005*\"thing\" + 0.005*\"see\"'),\n",
       " (3,\n",
       "  '0.024*\"story\" + 0.014*\"batman\" + 0.009*\"one\" + 0.008*\"character\" + 0.007*\"good\" + 0.007*\"book\" + 0.006*\"make\" + 0.006*\"dark\" + 0.006*\"work\" + 0.006*\"well\"'),\n",
       " (4,\n",
       "  '0.030*\"read\" + 0.022*\"like\" + 0.022*\"story\" + 0.021*\"really\" + 0.020*\"love\" + 0.017*\"book\" + 0.016*\"character\" + 0.015*\"volume\" + 0.015*\"one\" + 0.014*\"get\"')]"
      ]
     },
     "execution_count": 48,
     "metadata": {},
     "output_type": "execute_result"
    }
   ],
   "source": [
    "lda_review_model.print_topics()"
   ]
  },
  {
   "cell_type": "code",
   "execution_count": null,
   "metadata": {},
   "outputs": [],
   "source": []
  },
  {
   "cell_type": "markdown",
   "metadata": {},
   "source": [
    "## Get a recommendation for a User"
   ]
  },
  {
   "cell_type": "code",
   "execution_count": 4,
   "metadata": {},
   "outputs": [],
   "source": [
    "# Let us choose a random user"
   ]
  },
  {
   "cell_type": "code",
   "execution_count": null,
   "metadata": {},
   "outputs": [],
   "source": [
    "c = np.random.choice(engaged_df['user_id'].unique())"
   ]
  },
  {
   "cell_type": "code",
   "execution_count": 4,
   "metadata": {},
   "outputs": [],
   "source": [
    "def generate_recommendations(c, inter_df, engaged_df, book_df, is_debug = True):\n",
    "    \n",
    "    #get all the books the user is reviewing\n",
    "    r_books = engaged_df[engaged_df['user_id'] == c]['book_id'].unique()\n",
    "    #get all the books the user has interacted with\n",
    "    r_books = np.concatenate((r_books , inter_df[inter_df['user_id'] == c]['book_id'].unique()))\n",
    "    \n",
    "    if is_debug:\n",
    "        print(\"These are the books that the user has interacted with:\")\n",
    "        print()\n",
    "    #Get the distribution of topics\n",
    "    book_dist = book_df[book_df['book_id'].isin(r_books)]['dom_topic_reviews'].value_counts() \n",
    "    book_dist = book_dist/sum(book_dist)\n",
    "    \n",
    "    if is_debug:\n",
    "        \n",
    "        print(book_dist)\n",
    "    \n",
    "    reco = []\n",
    "    \n",
    "    count = 0\n",
    "    \n",
    "    #Generate a recommnedation using the LDA model\n",
    "    #If the user has already interacted with the books, just ignore and try to generate a new recommendation\n",
    "    \n",
    "    while count< 10:\n",
    "        idx = random.choices(book_dist.index, weights=book_dist.values)[0]\n",
    "        id_reco = np.random.choice(book_df_t[book_df_t['dom_topic_reviews'] == idx].index)\n",
    "        if is_debug:\n",
    "            print(id_reco)\n",
    "        if book_df_t.iloc[id_reco]['book_id'] in engaged_df[engaged_df['user_id'] == c]['book_id']:\n",
    "            pass\n",
    "        else:\n",
    "            reco.append((book_df_t.iloc[id_reco]['title'], idx))\n",
    "            count = count + 1\n",
    "    "
   ]
  },
  {
   "cell_type": "code",
   "execution_count": null,
   "metadata": {},
   "outputs": [],
   "source": [
    "recos = generate_recommendations()"
   ]
  },
  {
   "cell_type": "code",
   "execution_count": null,
   "metadata": {},
   "outputs": [],
   "source": [
    "print(recos)"
   ]
  },
  {
   "cell_type": "code",
   "execution_count": null,
   "metadata": {},
   "outputs": [],
   "source": []
  }
 ],
 "metadata": {
  "kernelspec": {
   "display_name": "Python 3",
   "language": "python",
   "name": "python3"
  },
  "language_info": {
   "codemirror_mode": {
    "name": "ipython",
    "version": 3
   },
   "file_extension": ".py",
   "mimetype": "text/x-python",
   "name": "python",
   "nbconvert_exporter": "python",
   "pygments_lexer": "ipython3",
   "version": "3.7.0"
  }
 },
 "nbformat": 4,
 "nbformat_minor": 2
}
