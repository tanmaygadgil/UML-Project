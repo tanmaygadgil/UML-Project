{
 "cells": [
  {
   "cell_type": "markdown",
   "id": "40934b68",
   "metadata": {},
   "source": [
    "## UML Project : Data EDA"
   ]
  },
  {
   "cell_type": "code",
   "execution_count": 2,
   "id": "98437f23",
   "metadata": {},
   "outputs": [],
   "source": [
    "import pandas as pd\n",
    "import numpy as np\n",
    "import matplotlib.pyplot as plt\n",
    "import json\n",
    "import re\n",
    "from textwrap import wrap"
   ]
  },
  {
   "cell_type": "code",
   "execution_count": 3,
   "id": "c4349c67",
   "metadata": {},
   "outputs": [],
   "source": [
    "#Importing data for comic books\n",
    "\n",
    "books_comic = pd.read_csv(\"./data/top_1000_books.csv\")\n",
    "interactions_comic = pd.read_csv(\"./data/top_1000_books_interactions.csv\")\n",
    "reviews_comic = pd.read_csv(\"./data/top_1000_books_reviews.csv\")"
   ]
  },
  {
   "cell_type": "code",
   "execution_count": 3,
   "id": "6a7c427a",
   "metadata": {},
   "outputs": [],
   "source": [
    "#Importing books data for all genres except comic\n",
    "\n",
    "books_children = pd.read_csv(\"./data/goodreads_books_children.csv\")\n",
    "books_fp = pd.read_csv(\"./data/goodreads_books_fantasy_paranormal.csv\")\n",
    "books_hb = pd.read_csv(\"./data/goodreads_books_history_biography.csv\")\n",
    "books_mys = pd.read_csv(\"./data/goodreads_books_mystery_thriller_crime.csv\")\n",
    "books_po = pd.read_csv(\"./data/goodreads_books_poetry.csv\")\n",
    "books_rom = pd.read_csv(\"./data/goodreads_books_romance.csv\")"
   ]
  },
  {
   "cell_type": "code",
   "execution_count": 95,
   "id": "b9e894b1",
   "metadata": {},
   "outputs": [],
   "source": [
    "#Importing data for comic books\n",
    "\n",
    "books_comic_all = pd.read_csv(\"./data/Project/Data/books_comic.csv\")\n",
    "reviews_comic_all = pd.read_csv(\"./data/review_comic.csv\")"
   ]
  },
  {
   "cell_type": "code",
   "execution_count": 6,
   "id": "e2bf07f4",
   "metadata": {},
   "outputs": [
    {
     "data": {
      "text/plain": [
       "(1000, 30)"
      ]
     },
     "execution_count": 6,
     "metadata": {},
     "output_type": "execute_result"
    }
   ],
   "source": [
    "books_comic.shape"
   ]
  },
  {
   "cell_type": "code",
   "execution_count": 7,
   "id": "7730f636",
   "metadata": {},
   "outputs": [
    {
     "data": {
      "text/plain": [
       "(2396877, 12)"
      ]
     },
     "execution_count": 7,
     "metadata": {},
     "output_type": "execute_result"
    }
   ],
   "source": [
    "interactions_comic.shape"
   ]
  },
  {
   "cell_type": "code",
   "execution_count": 8,
   "id": "9dcff979",
   "metadata": {},
   "outputs": [
    {
     "data": {
      "text/plain": [
       "(146970, 12)"
      ]
     },
     "execution_count": 8,
     "metadata": {},
     "output_type": "execute_result"
    }
   ],
   "source": [
    "reviews_comic.shape"
   ]
  },
  {
   "cell_type": "code",
   "execution_count": 9,
   "id": "4ebf13e2",
   "metadata": {},
   "outputs": [
    {
     "data": {
      "text/plain": [
       "(124082, 30)"
      ]
     },
     "execution_count": 9,
     "metadata": {},
     "output_type": "execute_result"
    }
   ],
   "source": [
    "books_children.shape"
   ]
  },
  {
   "cell_type": "code",
   "execution_count": 10,
   "id": "c2be33a0",
   "metadata": {},
   "outputs": [
    {
     "data": {
      "text/plain": [
       "(258585, 30)"
      ]
     },
     "execution_count": 10,
     "metadata": {},
     "output_type": "execute_result"
    }
   ],
   "source": [
    "books_fp.shape"
   ]
  },
  {
   "cell_type": "code",
   "execution_count": 11,
   "id": "975b61eb",
   "metadata": {},
   "outputs": [
    {
     "data": {
      "text/plain": [
       "(302935, 30)"
      ]
     },
     "execution_count": 11,
     "metadata": {},
     "output_type": "execute_result"
    }
   ],
   "source": [
    "books_hb.shape"
   ]
  },
  {
   "cell_type": "code",
   "execution_count": 12,
   "id": "2b6c2571",
   "metadata": {},
   "outputs": [
    {
     "data": {
      "text/plain": [
       "(219235, 30)"
      ]
     },
     "execution_count": 12,
     "metadata": {},
     "output_type": "execute_result"
    }
   ],
   "source": [
    "books_mys.shape"
   ]
  },
  {
   "cell_type": "code",
   "execution_count": 13,
   "id": "767928cc",
   "metadata": {},
   "outputs": [
    {
     "data": {
      "text/plain": [
       "(36514, 30)"
      ]
     },
     "execution_count": 13,
     "metadata": {},
     "output_type": "execute_result"
    }
   ],
   "source": [
    "books_po.shape"
   ]
  },
  {
   "cell_type": "code",
   "execution_count": 14,
   "id": "161eda91",
   "metadata": {},
   "outputs": [
    {
     "data": {
      "text/plain": [
       "(335449, 30)"
      ]
     },
     "execution_count": 14,
     "metadata": {},
     "output_type": "execute_result"
    }
   ],
   "source": [
    "books_rom.shape"
   ]
  },
  {
   "cell_type": "code",
   "execution_count": 21,
   "id": "76556e90",
   "metadata": {},
   "outputs": [
    {
     "data": {
      "text/plain": [
       "(89411, 30)"
      ]
     },
     "execution_count": 21,
     "metadata": {},
     "output_type": "execute_result"
    }
   ],
   "source": [
    "books_comic_all.shape"
   ]
  },
  {
   "cell_type": "code",
   "execution_count": 22,
   "id": "ad67db7e",
   "metadata": {},
   "outputs": [
    {
     "data": {
      "text/plain": [
       "(542338, 12)"
      ]
     },
     "execution_count": 22,
     "metadata": {},
     "output_type": "execute_result"
    }
   ],
   "source": [
    "reviews_comic_all.shape"
   ]
  },
  {
   "cell_type": "markdown",
   "id": "b1a8e365",
   "metadata": {},
   "source": [
    "##### EDA 1 - Across genres"
   ]
  },
  {
   "cell_type": "markdown",
   "id": "4cb129c3",
   "metadata": {},
   "source": [
    "###### Find the number of books across genres\n"
   ]
  },
  {
   "cell_type": "code",
   "execution_count": 23,
   "id": "d303514f",
   "metadata": {},
   "outputs": [],
   "source": [
    "df_com = pd.DataFrame([['Comic', books_comic_all.shape[0]]], columns = ['genre', 'n_books'])"
   ]
  },
  {
   "cell_type": "code",
   "execution_count": 24,
   "id": "ed15fcd2",
   "metadata": {},
   "outputs": [],
   "source": [
    "df_ch = pd.DataFrame([['Children', books_children.shape[0]]], columns = ['genre', 'n_books'])"
   ]
  },
  {
   "cell_type": "code",
   "execution_count": 25,
   "id": "0dfeb06e",
   "metadata": {},
   "outputs": [],
   "source": [
    "df_fp = pd.DataFrame([['Fantasy Paranormal', books_fp.shape[0]]], columns = ['genre', 'n_books'])"
   ]
  },
  {
   "cell_type": "code",
   "execution_count": 26,
   "id": "b8344e0b",
   "metadata": {},
   "outputs": [],
   "source": [
    "df_hb = pd.DataFrame([['History Biography', books_hb.shape[0]]], columns = ['genre', 'n_books'])"
   ]
  },
  {
   "cell_type": "code",
   "execution_count": 27,
   "id": "37777fea",
   "metadata": {},
   "outputs": [],
   "source": [
    "df_mys = pd.DataFrame([['Mystery Thriller Crime', books_hb.shape[0]]], columns = ['genre', 'n_books'])"
   ]
  },
  {
   "cell_type": "code",
   "execution_count": 28,
   "id": "84fcc7d2",
   "metadata": {},
   "outputs": [],
   "source": [
    "df_po = pd.DataFrame([['Poetry', books_po.shape[0]]], columns = ['genre', 'n_books'])"
   ]
  },
  {
   "cell_type": "code",
   "execution_count": 29,
   "id": "d18a9a36",
   "metadata": {},
   "outputs": [],
   "source": [
    "df_rom = pd.DataFrame([['Romance', books_rom.shape[0]]], columns = ['genre', 'n_books'])"
   ]
  },
  {
   "cell_type": "code",
   "execution_count": 30,
   "id": "8ef0c92a",
   "metadata": {},
   "outputs": [],
   "source": [
    "df_all = df_com.append(df_ch, ignore_index = True)"
   ]
  },
  {
   "cell_type": "code",
   "execution_count": 31,
   "id": "1ff3fae1",
   "metadata": {},
   "outputs": [],
   "source": [
    "df_all = df_all.append(df_fp, ignore_index = True)"
   ]
  },
  {
   "cell_type": "code",
   "execution_count": 32,
   "id": "f77d1be4",
   "metadata": {},
   "outputs": [],
   "source": [
    "df_all = df_all.append(df_hb, ignore_index = True)"
   ]
  },
  {
   "cell_type": "code",
   "execution_count": 33,
   "id": "de56f616",
   "metadata": {},
   "outputs": [],
   "source": [
    "df_all = df_all.append(df_mys, ignore_index = True)"
   ]
  },
  {
   "cell_type": "code",
   "execution_count": 34,
   "id": "910a49c9",
   "metadata": {},
   "outputs": [],
   "source": [
    "df_all = df_all.append(df_po, ignore_index = True)"
   ]
  },
  {
   "cell_type": "code",
   "execution_count": 35,
   "id": "ae8fc3d3",
   "metadata": {},
   "outputs": [],
   "source": [
    "df_all = df_all.append(df_rom, ignore_index = True)"
   ]
  },
  {
   "cell_type": "code",
   "execution_count": 36,
   "id": "bf9b3129",
   "metadata": {},
   "outputs": [
    {
     "data": {
      "text/html": [
       "<div>\n",
       "<style scoped>\n",
       "    .dataframe tbody tr th:only-of-type {\n",
       "        vertical-align: middle;\n",
       "    }\n",
       "\n",
       "    .dataframe tbody tr th {\n",
       "        vertical-align: top;\n",
       "    }\n",
       "\n",
       "    .dataframe thead th {\n",
       "        text-align: right;\n",
       "    }\n",
       "</style>\n",
       "<table border=\"1\" class=\"dataframe\">\n",
       "  <thead>\n",
       "    <tr style=\"text-align: right;\">\n",
       "      <th></th>\n",
       "      <th>genre</th>\n",
       "      <th>n_books</th>\n",
       "    </tr>\n",
       "  </thead>\n",
       "  <tbody>\n",
       "    <tr>\n",
       "      <th>0</th>\n",
       "      <td>Comic</td>\n",
       "      <td>89411</td>\n",
       "    </tr>\n",
       "    <tr>\n",
       "      <th>1</th>\n",
       "      <td>Children</td>\n",
       "      <td>124082</td>\n",
       "    </tr>\n",
       "    <tr>\n",
       "      <th>2</th>\n",
       "      <td>Fantasy Paranormal</td>\n",
       "      <td>258585</td>\n",
       "    </tr>\n",
       "    <tr>\n",
       "      <th>3</th>\n",
       "      <td>History Biography</td>\n",
       "      <td>302935</td>\n",
       "    </tr>\n",
       "    <tr>\n",
       "      <th>4</th>\n",
       "      <td>Mystery Thriller Crime</td>\n",
       "      <td>302935</td>\n",
       "    </tr>\n",
       "    <tr>\n",
       "      <th>5</th>\n",
       "      <td>Poetry</td>\n",
       "      <td>36514</td>\n",
       "    </tr>\n",
       "    <tr>\n",
       "      <th>6</th>\n",
       "      <td>Romance</td>\n",
       "      <td>335449</td>\n",
       "    </tr>\n",
       "  </tbody>\n",
       "</table>\n",
       "</div>"
      ],
      "text/plain": [
       "                    genre  n_books\n",
       "0                   Comic    89411\n",
       "1                Children   124082\n",
       "2      Fantasy Paranormal   258585\n",
       "3       History Biography   302935\n",
       "4  Mystery Thriller Crime   302935\n",
       "5                  Poetry    36514\n",
       "6                 Romance   335449"
      ]
     },
     "execution_count": 36,
     "metadata": {},
     "output_type": "execute_result"
    }
   ],
   "source": [
    "df_all"
   ]
  },
  {
   "cell_type": "code",
   "execution_count": 37,
   "id": "33f5771a",
   "metadata": {},
   "outputs": [
    {
     "data": {
      "image/png": "[encoded data removed]",
      "text/plain": [
       "<Figure size 432x288 with 1 Axes>"
      ]
     },
     "metadata": {
      "needs_background": "light"
     },
     "output_type": "display_data"
    }
   ],
   "source": [
    "colors = [\"skyblue\" if i != \"Comic\" else \"navy\" for i in df_all['genre']]\n",
    "plt.bar(df_all['genre'], df_all['n_books'], color = colors)\n",
    "labels = ['\\n'.join(wrap(x, 6)) for x in  df_all['genre']]\n",
    "plt.xlabel(\"Book Genre\")\n",
    "plt.ylabel(\"Number of books\")\n",
    "plt.title(\"Number of books in each genre\")\n",
    "plt.xticks([0,1,2,3,4,5,6], labels)\n",
    "plt.show()"
   ]
  },
  {
   "cell_type": "markdown",
   "id": "9eefe7be",
   "metadata": {},
   "source": [
    "#### Comic Dataset"
   ]
  },
  {
   "cell_type": "markdown",
   "id": "01dfee8a",
   "metadata": {},
   "source": [
    "##### EDA 2 - Number of books in prominent shelves "
   ]
  },
  {
   "cell_type": "code",
   "execution_count": 4,
   "id": "d3d9f859",
   "metadata": {},
   "outputs": [],
   "source": [
    "#Converting the jason object columns to desired format - popular_shelves\n",
    "\n",
    "books_comic['popular_shelves'] = books_comic.popular_shelves.apply(lambda x: re.sub(\"\\'\", '\\\"', x))\n",
    "books_comic['popular_shelves'] = books_comic.popular_shelves.apply(lambda x: json.loads(x, strict = False))"
   ]
  },
  {
   "cell_type": "code",
   "execution_count": 5,
   "id": "33e9c5d1",
   "metadata": {},
   "outputs": [],
   "source": [
    "#Removing names of shelves that are not genres\n",
    "\n",
    "keyValList = ['to-read', 'currently-reading', 'favorites', 'owned', 'i-own', 'to-buy', 'favourites', 'wish-list', 'default', 'my-books', 'alan-moore', 'borrowed',\n",
    "'my-library', 'book-club', 'other', 'read-in-2013', 'books-i-own', 'library', 'owned-books', 'manga-read', 'read-for-school', 'read-2014', 'scott-pilgrim', 'read-in-2016', 'read-in-2015']\n",
    "\n",
    "books_comic['popular_shelves'] = books_comic.popular_shelves.apply(lambda x: [d for d in x if (d['name'] not in keyValList) & ('read' not in d['name']) & ('comic' not in d['name'])]) "
   ]
  },
  {
   "cell_type": "code",
   "execution_count": 6,
   "id": "3270618c",
   "metadata": {},
   "outputs": [],
   "source": [
    "books_comic['genre'] = books_comic.popular_shelves.apply(lambda x: max(x, key = lambda x:x['count']))"
   ]
  },
  {
   "cell_type": "code",
   "execution_count": 7,
   "id": "b83227c8",
   "metadata": {},
   "outputs": [],
   "source": [
    "#Making the genre names consistent after looking at the data - not exhuastive\n",
    "\n",
    "books_comic['genre'] = [x['name'] for x in books_comic['genre']]\n",
    "\n",
    "#b.loc[(b['genre'] == \"for-school\"), 'genre'] = \"children\"\n",
    "books_comic.loc[(books_comic['genre'].str.contains('gn')), 'genre'] = \"graphic-novel\"\n",
    "books_comic.loc[(books_comic['genre'].str.contains('graphic')), 'genre'] = \"graphic-novel\"\n",
    "books_comic.loc[(books_comic['genre'].str.contains('comic')), 'genre'] = \"comic\"\n",
    "books_comic.loc[(books_comic['genre'] == \"manga-graphic-novels\"), 'genre'] = \"mangas\"\n",
    "#b.loc[(b['genre'] == \"young-adult\"), 'genre'] = \"adult-fiction\"\n",
    "books_comic.loc[(books_comic['genre'] == 'ya'), 'genre'] = \"young-adult\"\n",
    "books_comic.loc[(books_comic['genre'] == \"sf\"), 'genre'] = \"science-fiction\"\n",
    "books_comic.loc[(books_comic['genre'] == \"bd\"), 'genre'] = \"bandes-dessinees\"\n",
    "books_comic.loc[(books_comic['genre'].str.contains('ww2', 'war')), 'genre'] = \"history\"\n",
    "books_comic.loc[(books_comic['genre'] == \"graphic-novels\"), 'genre'] = \"graphic-novel\"\n",
    "books_comic.loc[(books_comic['genre'] == \"mangas\"), 'genre'] = \"manga\"\n",
    "books_comic.loc[(books_comic['genre'] == \"sci-fi\"), 'genre'] = \"science-fiction\""
   ]
  },
  {
   "cell_type": "code",
   "execution_count": 8,
   "id": "7fb3e232",
   "metadata": {},
   "outputs": [
    {
     "data": {
      "text/plain": [
       "(276, 2)"
      ]
     },
     "execution_count": 8,
     "metadata": {},
     "output_type": "execute_result"
    }
   ],
   "source": [
    "books_com_shel = books_comic.groupby(['genre'])['book_id'].count()\n",
    "books_com_shel = books_com_shel.to_frame().rename(columns = {'book_id':'n_books'})\n",
    "books_com_shel.reset_index(inplace = True)\n",
    "books_com_shel.shape"
   ]
  },
  {
   "cell_type": "code",
   "execution_count": 9,
   "id": "fd94f704",
   "metadata": {},
   "outputs": [],
   "source": [
    "books_com_shel = books_com_shel.sort_values(by = ['n_books'], axis = 0, ascending = False, inplace = False)"
   ]
  },
  {
   "cell_type": "code",
   "execution_count": 10,
   "id": "b1d84d1f",
   "metadata": {},
   "outputs": [],
   "source": [
    "books_com_shel_top10 = books_com_shel.head(10) "
   ]
  },
  {
   "cell_type": "code",
   "execution_count": 11,
   "id": "8362675c",
   "metadata": {
    "scrolled": true
   },
   "outputs": [
    {
     "data": {
      "image/png": "[encoded data removed]",
      "text/plain": [
       "<Figure size 432x288 with 1 Axes>"
      ]
     },
     "metadata": {
      "needs_background": "light"
     },
     "output_type": "display_data"
    }
   ],
   "source": [
    "plt.barh(books_com_shel_top10['genre'], books_com_shel_top10['n_books'], color = 'burlywood')\n",
    "plt.xlabel(\"Number of books\")\n",
    "plt.ylabel(\"Prominent Shelve\")\n",
    "plt.title(\"Distribution of books across genres in comic books\")\n",
    "#plt.xticks([1,2,3,4,5,6,7,8,9,10], labels)\n",
    "plt.show()"
   ]
  },
  {
   "cell_type": "code",
   "execution_count": 12,
   "id": "fec60a63",
   "metadata": {},
   "outputs": [
    {
     "data": {
      "text/html": [
       "<div>\n",
       "<style scoped>\n",
       "    .dataframe tbody tr th:only-of-type {\n",
       "        vertical-align: middle;\n",
       "    }\n",
       "\n",
       "    .dataframe tbody tr th {\n",
       "        vertical-align: top;\n",
       "    }\n",
       "\n",
       "    .dataframe thead th {\n",
       "        text-align: right;\n",
       "    }\n",
       "</style>\n",
       "<table border=\"1\" class=\"dataframe\">\n",
       "  <thead>\n",
       "    <tr style=\"text-align: right;\">\n",
       "      <th></th>\n",
       "      <th>genre</th>\n",
       "      <th>n_books</th>\n",
       "    </tr>\n",
       "  </thead>\n",
       "  <tbody>\n",
       "    <tr>\n",
       "      <th>107</th>\n",
       "      <td>graphic-novel</td>\n",
       "      <td>141</td>\n",
       "    </tr>\n",
       "    <tr>\n",
       "      <th>94</th>\n",
       "      <td>fiction</td>\n",
       "      <td>42</td>\n",
       "    </tr>\n",
       "    <tr>\n",
       "      <th>216</th>\n",
       "      <td>series</td>\n",
       "      <td>34</td>\n",
       "    </tr>\n",
       "    <tr>\n",
       "      <th>211</th>\n",
       "      <td>science-fiction</td>\n",
       "      <td>34</td>\n",
       "    </tr>\n",
       "    <tr>\n",
       "      <th>87</th>\n",
       "      <td>fantasy</td>\n",
       "      <td>34</td>\n",
       "    </tr>\n",
       "    <tr>\n",
       "      <th>149</th>\n",
       "      <td>manga</td>\n",
       "      <td>32</td>\n",
       "    </tr>\n",
       "    <tr>\n",
       "      <th>270</th>\n",
       "      <td>young-adult</td>\n",
       "      <td>29</td>\n",
       "    </tr>\n",
       "    <tr>\n",
       "      <th>52</th>\n",
       "      <td>comix</td>\n",
       "      <td>18</td>\n",
       "    </tr>\n",
       "    <tr>\n",
       "      <th>26</th>\n",
       "      <td>bandes-dessinees</td>\n",
       "      <td>16</td>\n",
       "    </tr>\n",
       "    <tr>\n",
       "      <th>204</th>\n",
       "      <td>romance</td>\n",
       "      <td>14</td>\n",
       "    </tr>\n",
       "  </tbody>\n",
       "</table>\n",
       "</div>"
      ],
      "text/plain": [
       "                genre  n_books\n",
       "107     graphic-novel      141\n",
       "94            fiction       42\n",
       "216            series       34\n",
       "211   science-fiction       34\n",
       "87            fantasy       34\n",
       "149             manga       32\n",
       "270       young-adult       29\n",
       "52              comix       18\n",
       "26   bandes-dessinees       16\n",
       "204           romance       14"
      ]
     },
     "execution_count": 12,
     "metadata": {},
     "output_type": "execute_result"
    }
   ],
   "source": [
    "books_com_shel_top10"
   ]
  },
  {
   "cell_type": "markdown",
   "id": "ef415647",
   "metadata": {},
   "source": [
    "##### EDA 3 - Popular books"
   ]
  },
  {
   "cell_type": "code",
   "execution_count": 13,
   "id": "9d3ba8d1",
   "metadata": {},
   "outputs": [],
   "source": [
    "#Filtering for read books\n",
    "\n",
    "interactions_read = interactions_comic[interactions_comic['is_read'] == True]"
   ]
  },
  {
   "cell_type": "code",
   "execution_count": 14,
   "id": "c4ddd555",
   "metadata": {},
   "outputs": [
    {
     "data": {
      "text/plain": [
       "(1588897, 12)"
      ]
     },
     "execution_count": 14,
     "metadata": {},
     "output_type": "execute_result"
    }
   ],
   "source": [
    "interactions_read.shape"
   ]
  },
  {
   "cell_type": "code",
   "execution_count": 15,
   "id": "2bd0e4e7",
   "metadata": {},
   "outputs": [
    {
     "data": {
      "text/plain": [
       "(1000, 2)"
      ]
     },
     "execution_count": 15,
     "metadata": {},
     "output_type": "execute_result"
    }
   ],
   "source": [
    "#Finding number of readers per book to find popularity\n",
    "\n",
    "int_book_read_1 = interactions_read[['user_id', 'book_id']].groupby(['book_id'])['user_id'].count()\n",
    "int_book_read_2 = int_book_read_1.to_frame().rename(columns = {'user_id':'n_readers'})\n",
    "int_book_read_2.reset_index(inplace = True)\n",
    "int_book_read_2.shape"
   ]
  },
  {
   "cell_type": "code",
   "execution_count": 16,
   "id": "1c5258a6",
   "metadata": {},
   "outputs": [
    {
     "data": {
      "text/html": [
       "<div>\n",
       "<style scoped>\n",
       "    .dataframe tbody tr th:only-of-type {\n",
       "        vertical-align: middle;\n",
       "    }\n",
       "\n",
       "    .dataframe tbody tr th {\n",
       "        vertical-align: top;\n",
       "    }\n",
       "\n",
       "    .dataframe thead th {\n",
       "        text-align: right;\n",
       "    }\n",
       "</style>\n",
       "<table border=\"1\" class=\"dataframe\">\n",
       "  <thead>\n",
       "    <tr style=\"text-align: right;\">\n",
       "      <th></th>\n",
       "      <th>book_id</th>\n",
       "      <th>n_readers</th>\n",
       "    </tr>\n",
       "  </thead>\n",
       "  <tbody>\n",
       "    <tr>\n",
       "      <th>0</th>\n",
       "      <td>866</td>\n",
       "      <td>1025</td>\n",
       "    </tr>\n",
       "    <tr>\n",
       "      <th>1</th>\n",
       "      <td>868</td>\n",
       "      <td>1468</td>\n",
       "    </tr>\n",
       "    <tr>\n",
       "      <th>2</th>\n",
       "      <td>869</td>\n",
       "      <td>1038</td>\n",
       "    </tr>\n",
       "    <tr>\n",
       "      <th>3</th>\n",
       "      <td>870</td>\n",
       "      <td>6000</td>\n",
       "    </tr>\n",
       "    <tr>\n",
       "      <th>4</th>\n",
       "      <td>871</td>\n",
       "      <td>1247</td>\n",
       "    </tr>\n",
       "    <tr>\n",
       "      <th>...</th>\n",
       "      <td>...</td>\n",
       "      <td>...</td>\n",
       "    </tr>\n",
       "    <tr>\n",
       "      <th>995</th>\n",
       "      <td>29772863</td>\n",
       "      <td>2140</td>\n",
       "    </tr>\n",
       "    <tr>\n",
       "      <th>996</th>\n",
       "      <td>30754980</td>\n",
       "      <td>1574</td>\n",
       "    </tr>\n",
       "    <tr>\n",
       "      <th>997</th>\n",
       "      <td>31145178</td>\n",
       "      <td>744</td>\n",
       "    </tr>\n",
       "    <tr>\n",
       "      <th>998</th>\n",
       "      <td>31338724</td>\n",
       "      <td>2198</td>\n",
       "    </tr>\n",
       "    <tr>\n",
       "      <th>999</th>\n",
       "      <td>32497573</td>\n",
       "      <td>357</td>\n",
       "    </tr>\n",
       "  </tbody>\n",
       "</table>\n",
       "<p>1000 rows × 2 columns</p>\n",
       "</div>"
      ],
      "text/plain": [
       "      book_id  n_readers\n",
       "0         866       1025\n",
       "1         868       1468\n",
       "2         869       1038\n",
       "3         870       6000\n",
       "4         871       1247\n",
       "..        ...        ...\n",
       "995  29772863       2140\n",
       "996  30754980       1574\n",
       "997  31145178        744\n",
       "998  31338724       2198\n",
       "999  32497573        357\n",
       "\n",
       "[1000 rows x 2 columns]"
      ]
     },
     "execution_count": 16,
     "metadata": {},
     "output_type": "execute_result"
    }
   ],
   "source": [
    "int_book_read_2"
   ]
  },
  {
   "cell_type": "code",
   "execution_count": 17,
   "id": "21c9c266",
   "metadata": {},
   "outputs": [],
   "source": [
    "#Merge book data with user interation data \n",
    "\n",
    "int_book_read =  pd.merge(int_book_read_2, books_comic[['book_id', 'title']], how = \"inner\", on = ['book_id'])"
   ]
  },
  {
   "cell_type": "code",
   "execution_count": 18,
   "id": "4f76df09",
   "metadata": {},
   "outputs": [],
   "source": [
    "#Find top 10 most popular books\n",
    "\n",
    "int_book_read_1 = int_book_read.sort_values(by = ['n_readers'], ascending = False)"
   ]
  },
  {
   "cell_type": "code",
   "execution_count": 19,
   "id": "d73e870c",
   "metadata": {},
   "outputs": [],
   "source": [
    "int_book_read_2 = int_book_read_1.head(10)"
   ]
  },
  {
   "cell_type": "code",
   "execution_count": 20,
   "id": "25dca59f",
   "metadata": {},
   "outputs": [
    {
     "data": {
      "text/html": [
       "<div>\n",
       "<style scoped>\n",
       "    .dataframe tbody tr th:only-of-type {\n",
       "        vertical-align: middle;\n",
       "    }\n",
       "\n",
       "    .dataframe tbody tr th {\n",
       "        vertical-align: top;\n",
       "    }\n",
       "\n",
       "    .dataframe thead th {\n",
       "        text-align: right;\n",
       "    }\n",
       "</style>\n",
       "<table border=\"1\" class=\"dataframe\">\n",
       "  <thead>\n",
       "    <tr style=\"text-align: right;\">\n",
       "      <th></th>\n",
       "      <th>book_id</th>\n",
       "      <th>n_readers</th>\n",
       "      <th>title</th>\n",
       "    </tr>\n",
       "  </thead>\n",
       "  <tbody>\n",
       "    <tr>\n",
       "      <th>828</th>\n",
       "      <td>15704307</td>\n",
       "      <td>17689</td>\n",
       "      <td>Saga, Vol. 1 (Saga, #1)</td>\n",
       "    </tr>\n",
       "    <tr>\n",
       "      <th>11</th>\n",
       "      <td>5805</td>\n",
       "      <td>16074</td>\n",
       "      <td>V for Vendetta</td>\n",
       "    </tr>\n",
       "    <tr>\n",
       "      <th>39</th>\n",
       "      <td>15196</td>\n",
       "      <td>15836</td>\n",
       "      <td>Maus I: A Survivor's Tale: My Father Bleeds Hi...</td>\n",
       "    </tr>\n",
       "    <tr>\n",
       "      <th>15</th>\n",
       "      <td>9516</td>\n",
       "      <td>14677</td>\n",
       "      <td>Persepolis: The Story of a Childhood (Persepol...</td>\n",
       "    </tr>\n",
       "    <tr>\n",
       "      <th>81</th>\n",
       "      <td>23754</td>\n",
       "      <td>13326</td>\n",
       "      <td>Preludes &amp; Nocturnes (The Sandman #1)</td>\n",
       "    </tr>\n",
       "    <tr>\n",
       "      <th>853</th>\n",
       "      <td>17131869</td>\n",
       "      <td>12588</td>\n",
       "      <td>Saga, Vol. 2 (Saga, #2)</td>\n",
       "    </tr>\n",
       "    <tr>\n",
       "      <th>871</th>\n",
       "      <td>17571564</td>\n",
       "      <td>12225</td>\n",
       "      <td>Hyperbole and a Half: Unfortunate Situations, ...</td>\n",
       "    </tr>\n",
       "    <tr>\n",
       "      <th>904</th>\n",
       "      <td>19358975</td>\n",
       "      <td>10739</td>\n",
       "      <td>Saga, Vol. 3 (Saga, #3)</td>\n",
       "    </tr>\n",
       "    <tr>\n",
       "      <th>24</th>\n",
       "      <td>13615</td>\n",
       "      <td>10104</td>\n",
       "      <td>Death Note, Vol. 1: Boredom (Death Note, #1)</td>\n",
       "    </tr>\n",
       "    <tr>\n",
       "      <th>104</th>\n",
       "      <td>29800</td>\n",
       "      <td>10055</td>\n",
       "      <td>Scott Pilgrim, Volume 1: Scott Pilgrim's Preci...</td>\n",
       "    </tr>\n",
       "  </tbody>\n",
       "</table>\n",
       "</div>"
      ],
      "text/plain": [
       "      book_id  n_readers                                              title\n",
       "828  15704307      17689                            Saga, Vol. 1 (Saga, #1)\n",
       "11       5805      16074                                     V for Vendetta\n",
       "39      15196      15836  Maus I: A Survivor's Tale: My Father Bleeds Hi...\n",
       "15       9516      14677  Persepolis: The Story of a Childhood (Persepol...\n",
       "81      23754      13326              Preludes & Nocturnes (The Sandman #1)\n",
       "853  17131869      12588                            Saga, Vol. 2 (Saga, #2)\n",
       "871  17571564      12225  Hyperbole and a Half: Unfortunate Situations, ...\n",
       "904  19358975      10739                            Saga, Vol. 3 (Saga, #3)\n",
       "24      13615      10104       Death Note, Vol. 1: Boredom (Death Note, #1)\n",
       "104     29800      10055  Scott Pilgrim, Volume 1: Scott Pilgrim's Preci..."
      ]
     },
     "execution_count": 20,
     "metadata": {},
     "output_type": "execute_result"
    }
   ],
   "source": [
    "int_book_read_2"
   ]
  },
  {
   "cell_type": "code",
   "execution_count": 21,
   "id": "cb61263a",
   "metadata": {
    "scrolled": true
   },
   "outputs": [
    {
     "name": "stderr",
     "output_type": "stream",
     "text": [
      "<ipython-input-21-f2ca443668df>:1: SettingWithCopyWarning: \n",
      "A value is trying to be set on a copy of a slice from a DataFrame.\n",
      "Try using .loc[row_indexer,col_indexer] = value instead\n",
      "\n",
      "See the caveats in the documentation: https://pandas.pydata.org/pandas-docs/stable/user_guide/indexing.html#returning-a-view-versus-a-copy\n",
      "  int_book_read_2['title_1'] = int_book_read_2['title'].str.split('(').str[0]\n"
     ]
    }
   ],
   "source": [
    "int_book_read_2['title_1'] = int_book_read_2['title'].str.split('(').str[0]"
   ]
  },
  {
   "cell_type": "code",
   "execution_count": 22,
   "id": "a5cd810d",
   "metadata": {
    "scrolled": true
   },
   "outputs": [
    {
     "name": "stderr",
     "output_type": "stream",
     "text": [
      "<ipython-input-22-d55e396e98e9>:1: SettingWithCopyWarning: \n",
      "A value is trying to be set on a copy of a slice from a DataFrame.\n",
      "Try using .loc[row_indexer,col_indexer] = value instead\n",
      "\n",
      "See the caveats in the documentation: https://pandas.pydata.org/pandas-docs/stable/user_guide/indexing.html#returning-a-view-versus-a-copy\n",
      "  int_book_read_2['title_2'] = np.where(int_book_read_2['book_id'] == 17571564, int_book_read_2['title_1'].str.split(',').str[0], int_book_read_2['title_1'])\n"
     ]
    }
   ],
   "source": [
    "int_book_read_2['title_2'] = np.where(int_book_read_2['book_id'] == 17571564, int_book_read_2['title_1'].str.split(',').str[0], int_book_read_2['title_1'])"
   ]
  },
  {
   "cell_type": "code",
   "execution_count": 23,
   "id": "a18651f7",
   "metadata": {
    "scrolled": true
   },
   "outputs": [
    {
     "name": "stderr",
     "output_type": "stream",
     "text": [
      "<ipython-input-23-aaf18c0e8301>:1: SettingWithCopyWarning: \n",
      "A value is trying to be set on a copy of a slice from a DataFrame.\n",
      "Try using .loc[row_indexer,col_indexer] = value instead\n",
      "\n",
      "See the caveats in the documentation: https://pandas.pydata.org/pandas-docs/stable/user_guide/indexing.html#returning-a-view-versus-a-copy\n",
      "  int_book_read_2['title_3'] = np.where(int_book_read_2['book_id'] == 29800, int_book_read_2['title_2'].str.split(':').str[0], int_book_read_2['title_2'])\n"
     ]
    }
   ],
   "source": [
    "int_book_read_2['title_3'] = np.where(int_book_read_2['book_id'] == 29800, int_book_read_2['title_2'].str.split(':').str[0], int_book_read_2['title_2'])"
   ]
  },
  {
   "cell_type": "code",
   "execution_count": 85,
   "id": "06d322f9",
   "metadata": {
    "scrolled": true
   },
   "outputs": [
    {
     "name": "stderr",
     "output_type": "stream",
     "text": [
      "<ipython-input-85-c13cad357567>:1: SettingWithCopyWarning: \n",
      "A value is trying to be set on a copy of a slice from a DataFrame.\n",
      "Try using .loc[row_indexer,col_indexer] = value instead\n",
      "\n",
      "See the caveats in the documentation: https://pandas.pydata.org/pandas-docs/stable/user_guide/indexing.html#returning-a-view-versus-a-copy\n",
      "  int_book_read_2['title_4'] = np.where(int_book_read_2['book_id'] == 15196, int_book_read_2['title_3'].str.split('My').str[0], int_book_read_2['title_3'])\n"
     ]
    }
   ],
   "source": [
    "int_book_read_2['title_4'] = np.where(int_book_read_2['book_id'] == 15196, int_book_read_2['title_3'].str.split('My').str[0], int_book_read_2['title_3'])"
   ]
  },
  {
   "cell_type": "code",
   "execution_count": 87,
   "id": "0deb9cfb",
   "metadata": {},
   "outputs": [
    {
     "name": "stderr",
     "output_type": "stream",
     "text": [
      "<ipython-input-87-7fa5be3f2653>:1: SettingWithCopyWarning: \n",
      "A value is trying to be set on a copy of a slice from a DataFrame.\n",
      "Try using .loc[row_indexer,col_indexer] = value instead\n",
      "\n",
      "See the caveats in the documentation: https://pandas.pydata.org/pandas-docs/stable/user_guide/indexing.html#returning-a-view-versus-a-copy\n",
      "  int_book_read_2['title_5'] = np.where(int_book_read_2['book_id'] == 17571564, int_book_read_2['title_4'].str.split('Un').str[0], int_book_read_2['title_4'])\n"
     ]
    }
   ],
   "source": [
    "int_book_read_2['title_5'] = np.where(int_book_read_2['book_id'] == 17571564, int_book_read_2['title_4'].str.split('Un').str[0], int_book_read_2['title_4'])"
   ]
  },
  {
   "cell_type": "code",
   "execution_count": 88,
   "id": "d9ff5507",
   "metadata": {
    "scrolled": true
   },
   "outputs": [
    {
     "data": {
      "image/png": "[encoded data removed]",
      "text/plain": [
       "<Figure size 432x288 with 1 Axes>"
      ]
     },
     "metadata": {
      "needs_background": "light"
     },
     "output_type": "display_data"
    }
   ],
   "source": [
    "plt.bar(int_book_read_2['title_5'], int_book_read_2['n_readers'], color = 'mediumaquamarine')\n",
    "labels = ['\\n'.join(wrap(x, 5)) for x in  int_book_read_2['title_5']]\n",
    "plt.xlabel(\"Book Title\")\n",
    "plt.ylabel(\"Number of readers\")\n",
    "plt.title(\"Top 10 popular books in comic based on the number of readers\")\n",
    "plt.xticks([0,1,2,3,4,5,6,7,8,9], labels)\n",
    "plt.show()"
   ]
  },
  {
   "cell_type": "code",
   "execution_count": 80,
   "id": "117facc5",
   "metadata": {},
   "outputs": [
    {
     "data": {
      "text/html": [
       "<div>\n",
       "<style scoped>\n",
       "    .dataframe tbody tr th:only-of-type {\n",
       "        vertical-align: middle;\n",
       "    }\n",
       "\n",
       "    .dataframe tbody tr th {\n",
       "        vertical-align: top;\n",
       "    }\n",
       "\n",
       "    .dataframe thead th {\n",
       "        text-align: right;\n",
       "    }\n",
       "</style>\n",
       "<table border=\"1\" class=\"dataframe\">\n",
       "  <thead>\n",
       "    <tr style=\"text-align: right;\">\n",
       "      <th></th>\n",
       "      <th>book_id</th>\n",
       "      <th>n_readers</th>\n",
       "      <th>title</th>\n",
       "      <th>title_1</th>\n",
       "      <th>title_2</th>\n",
       "      <th>title_3</th>\n",
       "    </tr>\n",
       "  </thead>\n",
       "  <tbody>\n",
       "    <tr>\n",
       "      <th>828</th>\n",
       "      <td>15704307</td>\n",
       "      <td>17689</td>\n",
       "      <td>Saga, Vol. 1 (Saga, #1)</td>\n",
       "      <td>Saga, Vol. 1</td>\n",
       "      <td>Saga, Vol. 1</td>\n",
       "      <td>Saga, Vol. 1</td>\n",
       "    </tr>\n",
       "    <tr>\n",
       "      <th>11</th>\n",
       "      <td>5805</td>\n",
       "      <td>16074</td>\n",
       "      <td>V for Vendetta</td>\n",
       "      <td>V for Vendetta</td>\n",
       "      <td>V for Vendetta</td>\n",
       "      <td>V for Vendetta</td>\n",
       "    </tr>\n",
       "    <tr>\n",
       "      <th>39</th>\n",
       "      <td>15196</td>\n",
       "      <td>15836</td>\n",
       "      <td>Maus I: A Survivor's Tale: My Father Bleeds Hi...</td>\n",
       "      <td>Maus I: A Survivor's Tale: My Father Bleeds Hi...</td>\n",
       "      <td>Maus I: A Survivor's Tale: My Father Bleeds Hi...</td>\n",
       "      <td>Maus I: A Survivor's Tale: My Father Bleeds Hi...</td>\n",
       "    </tr>\n",
       "    <tr>\n",
       "      <th>15</th>\n",
       "      <td>9516</td>\n",
       "      <td>14677</td>\n",
       "      <td>Persepolis: The Story of a Childhood (Persepol...</td>\n",
       "      <td>Persepolis: The Story of a Childhood</td>\n",
       "      <td>Persepolis: The Story of a Childhood</td>\n",
       "      <td>Persepolis: The Story of a Childhood</td>\n",
       "    </tr>\n",
       "    <tr>\n",
       "      <th>81</th>\n",
       "      <td>23754</td>\n",
       "      <td>13326</td>\n",
       "      <td>Preludes &amp; Nocturnes (The Sandman #1)</td>\n",
       "      <td>Preludes &amp; Nocturnes</td>\n",
       "      <td>Preludes &amp; Nocturnes</td>\n",
       "      <td>Preludes &amp; Nocturnes</td>\n",
       "    </tr>\n",
       "    <tr>\n",
       "      <th>853</th>\n",
       "      <td>17131869</td>\n",
       "      <td>12588</td>\n",
       "      <td>Saga, Vol. 2 (Saga, #2)</td>\n",
       "      <td>Saga, Vol. 2</td>\n",
       "      <td>Saga, Vol. 2</td>\n",
       "      <td>Saga, Vol. 2</td>\n",
       "    </tr>\n",
       "    <tr>\n",
       "      <th>871</th>\n",
       "      <td>17571564</td>\n",
       "      <td>12225</td>\n",
       "      <td>Hyperbole and a Half: Unfortunate Situations, ...</td>\n",
       "      <td>Hyperbole and a Half: Unfortunate Situations, ...</td>\n",
       "      <td>Hyperbole and a Half: Unfortunate Situations</td>\n",
       "      <td>Hyperbole and a Half: Unfortunate Situations</td>\n",
       "    </tr>\n",
       "    <tr>\n",
       "      <th>904</th>\n",
       "      <td>19358975</td>\n",
       "      <td>10739</td>\n",
       "      <td>Saga, Vol. 3 (Saga, #3)</td>\n",
       "      <td>Saga, Vol. 3</td>\n",
       "      <td>Saga, Vol. 3</td>\n",
       "      <td>Saga, Vol. 3</td>\n",
       "    </tr>\n",
       "    <tr>\n",
       "      <th>24</th>\n",
       "      <td>13615</td>\n",
       "      <td>10104</td>\n",
       "      <td>Death Note, Vol. 1: Boredom (Death Note, #1)</td>\n",
       "      <td>Death Note, Vol. 1: Boredom</td>\n",
       "      <td>Death Note, Vol. 1: Boredom</td>\n",
       "      <td>Death Note, Vol. 1: Boredom</td>\n",
       "    </tr>\n",
       "    <tr>\n",
       "      <th>104</th>\n",
       "      <td>29800</td>\n",
       "      <td>10055</td>\n",
       "      <td>Scott Pilgrim, Volume 1: Scott Pilgrim's Preci...</td>\n",
       "      <td>Scott Pilgrim, Volume 1: Scott Pilgrim's Preci...</td>\n",
       "      <td>Scott Pilgrim, Volume 1: Scott Pilgrim's Preci...</td>\n",
       "      <td>Scott Pilgrim, Volume 1</td>\n",
       "    </tr>\n",
       "  </tbody>\n",
       "</table>\n",
       "</div>"
      ],
      "text/plain": [
       "      book_id  n_readers                                              title  \\\n",
       "828  15704307      17689                            Saga, Vol. 1 (Saga, #1)   \n",
       "11       5805      16074                                     V for Vendetta   \n",
       "39      15196      15836  Maus I: A Survivor's Tale: My Father Bleeds Hi...   \n",
       "15       9516      14677  Persepolis: The Story of a Childhood (Persepol...   \n",
       "81      23754      13326              Preludes & Nocturnes (The Sandman #1)   \n",
       "853  17131869      12588                            Saga, Vol. 2 (Saga, #2)   \n",
       "871  17571564      12225  Hyperbole and a Half: Unfortunate Situations, ...   \n",
       "904  19358975      10739                            Saga, Vol. 3 (Saga, #3)   \n",
       "24      13615      10104       Death Note, Vol. 1: Boredom (Death Note, #1)   \n",
       "104     29800      10055  Scott Pilgrim, Volume 1: Scott Pilgrim's Preci...   \n",
       "\n",
       "                                               title_1  \\\n",
       "828                                      Saga, Vol. 1    \n",
       "11                                      V for Vendetta   \n",
       "39   Maus I: A Survivor's Tale: My Father Bleeds Hi...   \n",
       "15               Persepolis: The Story of a Childhood    \n",
       "81                               Preludes & Nocturnes    \n",
       "853                                      Saga, Vol. 2    \n",
       "871  Hyperbole and a Half: Unfortunate Situations, ...   \n",
       "904                                      Saga, Vol. 3    \n",
       "24                        Death Note, Vol. 1: Boredom    \n",
       "104  Scott Pilgrim, Volume 1: Scott Pilgrim's Preci...   \n",
       "\n",
       "                                               title_2  \\\n",
       "828                                      Saga, Vol. 1    \n",
       "11                                      V for Vendetta   \n",
       "39   Maus I: A Survivor's Tale: My Father Bleeds Hi...   \n",
       "15               Persepolis: The Story of a Childhood    \n",
       "81                               Preludes & Nocturnes    \n",
       "853                                      Saga, Vol. 2    \n",
       "871       Hyperbole and a Half: Unfortunate Situations   \n",
       "904                                      Saga, Vol. 3    \n",
       "24                        Death Note, Vol. 1: Boredom    \n",
       "104  Scott Pilgrim, Volume 1: Scott Pilgrim's Preci...   \n",
       "\n",
       "                                               title_3  \n",
       "828                                      Saga, Vol. 1   \n",
       "11                                      V for Vendetta  \n",
       "39   Maus I: A Survivor's Tale: My Father Bleeds Hi...  \n",
       "15               Persepolis: The Story of a Childhood   \n",
       "81                               Preludes & Nocturnes   \n",
       "853                                      Saga, Vol. 2   \n",
       "871       Hyperbole and a Half: Unfortunate Situations  \n",
       "904                                      Saga, Vol. 3   \n",
       "24                        Death Note, Vol. 1: Boredom   \n",
       "104                            Scott Pilgrim, Volume 1  "
      ]
     },
     "execution_count": 80,
     "metadata": {},
     "output_type": "execute_result"
    }
   ],
   "source": [
    "int_book_read_2"
   ]
  },
  {
   "cell_type": "markdown",
   "id": "561b2fc7",
   "metadata": {},
   "source": [
    "##### EDA 4 - Ratings Vs Readers"
   ]
  },
  {
   "cell_type": "code",
   "execution_count": 25,
   "id": "7fd4890e",
   "metadata": {},
   "outputs": [],
   "source": [
    "interactions_comic_fil = interactions_comic[interactions_comic['rating'] != 0]"
   ]
  },
  {
   "cell_type": "code",
   "execution_count": 26,
   "id": "97022bb9",
   "metadata": {},
   "outputs": [
    {
     "data": {
      "text/plain": [
       "(1000, 2)"
      ]
     },
     "execution_count": 26,
     "metadata": {},
     "output_type": "execute_result"
    }
   ],
   "source": [
    "book_rati = interactions_comic_fil[['book_id', 'rating']].groupby(['book_id'])['rating'].mean()\n",
    "book_rati = book_rati.to_frame().rename(columns = {'rating':'avg_rating_calc'})\n",
    "book_rati.reset_index(inplace = True)\n",
    "book_rati.shape"
   ]
  },
  {
   "cell_type": "code",
   "execution_count": 27,
   "id": "fa480037",
   "metadata": {},
   "outputs": [],
   "source": [
    "conditions = [\n",
    "    (book_rati['avg_rating_calc'] <= 2),\n",
    "    (book_rati['avg_rating_calc'] > 2) & (book_rati['avg_rating_calc'] <= 3),\n",
    "    (book_rati['avg_rating_calc'] > 3) & (book_rati['avg_rating_calc'] <= 4), \n",
    "    (book_rati['avg_rating_calc'] > 4) & (book_rati['avg_rating_calc'] <= 5),\n",
    "    ]"
   ]
  },
  {
   "cell_type": "code",
   "execution_count": 28,
   "id": "54f02c63",
   "metadata": {},
   "outputs": [],
   "source": [
    "values = ['1-2', '2-3', '3-4', '4-5']"
   ]
  },
  {
   "cell_type": "code",
   "execution_count": 29,
   "id": "0ce129e6",
   "metadata": {},
   "outputs": [],
   "source": [
    "book_rati['rating_range'] = np.select(conditions, values)"
   ]
  },
  {
   "cell_type": "code",
   "execution_count": 30,
   "id": "448d4f13",
   "metadata": {},
   "outputs": [],
   "source": [
    "interactions_read = interactions_comic[interactions_comic['is_read'] == True]"
   ]
  },
  {
   "cell_type": "code",
   "execution_count": 31,
   "id": "47cd6a41",
   "metadata": {},
   "outputs": [],
   "source": [
    "#Merge book data with user interation data \n",
    "\n",
    "user_b =  pd.merge(interactions_read[['user_id', 'book_id']], book_rati[['book_id', 'rating_range']], how = \"left\", on = ['book_id'])"
   ]
  },
  {
   "cell_type": "code",
   "execution_count": 32,
   "id": "c447dab9",
   "metadata": {
    "scrolled": true
   },
   "outputs": [
    {
     "data": {
      "text/plain": [
       "(1588897, 3)"
      ]
     },
     "execution_count": 32,
     "metadata": {},
     "output_type": "execute_result"
    }
   ],
   "source": [
    "user_b.shape"
   ]
  },
  {
   "cell_type": "code",
   "execution_count": 33,
   "id": "234c111b",
   "metadata": {},
   "outputs": [
    {
     "data": {
      "text/plain": [
       "(1000, 3)"
      ]
     },
     "execution_count": 33,
     "metadata": {},
     "output_type": "execute_result"
    }
   ],
   "source": [
    "user_b_1 = user_b[['user_id', 'book_id', 'rating_range']].groupby(['book_id', 'rating_range'])['user_id'].count() \n",
    "user_b_1 = user_b_1.to_frame().rename(columns = {'user_id':'n_readers'})\n",
    "user_b_1.reset_index(inplace = True)\n",
    "user_b_1.shape"
   ]
  },
  {
   "cell_type": "code",
   "execution_count": 34,
   "id": "155e078b",
   "metadata": {},
   "outputs": [
    {
     "data": {
      "text/html": [
       "<div>\n",
       "<style scoped>\n",
       "    .dataframe tbody tr th:only-of-type {\n",
       "        vertical-align: middle;\n",
       "    }\n",
       "\n",
       "    .dataframe tbody tr th {\n",
       "        vertical-align: top;\n",
       "    }\n",
       "\n",
       "    .dataframe thead th {\n",
       "        text-align: right;\n",
       "    }\n",
       "</style>\n",
       "<table border=\"1\" class=\"dataframe\">\n",
       "  <thead>\n",
       "    <tr style=\"text-align: right;\">\n",
       "      <th></th>\n",
       "      <th>book_id</th>\n",
       "      <th>rating_range</th>\n",
       "      <th>n_readers</th>\n",
       "    </tr>\n",
       "  </thead>\n",
       "  <tbody>\n",
       "    <tr>\n",
       "      <th>0</th>\n",
       "      <td>866</td>\n",
       "      <td>4-5</td>\n",
       "      <td>1025</td>\n",
       "    </tr>\n",
       "    <tr>\n",
       "      <th>1</th>\n",
       "      <td>868</td>\n",
       "      <td>4-5</td>\n",
       "      <td>1468</td>\n",
       "    </tr>\n",
       "    <tr>\n",
       "      <th>2</th>\n",
       "      <td>869</td>\n",
       "      <td>4-5</td>\n",
       "      <td>1038</td>\n",
       "    </tr>\n",
       "    <tr>\n",
       "      <th>3</th>\n",
       "      <td>870</td>\n",
       "      <td>4-5</td>\n",
       "      <td>6000</td>\n",
       "    </tr>\n",
       "    <tr>\n",
       "      <th>4</th>\n",
       "      <td>871</td>\n",
       "      <td>4-5</td>\n",
       "      <td>1247</td>\n",
       "    </tr>\n",
       "    <tr>\n",
       "      <th>...</th>\n",
       "      <td>...</td>\n",
       "      <td>...</td>\n",
       "      <td>...</td>\n",
       "    </tr>\n",
       "    <tr>\n",
       "      <th>995</th>\n",
       "      <td>29772863</td>\n",
       "      <td>4-5</td>\n",
       "      <td>2140</td>\n",
       "    </tr>\n",
       "    <tr>\n",
       "      <th>996</th>\n",
       "      <td>30754980</td>\n",
       "      <td>4-5</td>\n",
       "      <td>1574</td>\n",
       "    </tr>\n",
       "    <tr>\n",
       "      <th>997</th>\n",
       "      <td>31145178</td>\n",
       "      <td>4-5</td>\n",
       "      <td>744</td>\n",
       "    </tr>\n",
       "    <tr>\n",
       "      <th>998</th>\n",
       "      <td>31338724</td>\n",
       "      <td>4-5</td>\n",
       "      <td>2198</td>\n",
       "    </tr>\n",
       "    <tr>\n",
       "      <th>999</th>\n",
       "      <td>32497573</td>\n",
       "      <td>4-5</td>\n",
       "      <td>357</td>\n",
       "    </tr>\n",
       "  </tbody>\n",
       "</table>\n",
       "<p>1000 rows × 3 columns</p>\n",
       "</div>"
      ],
      "text/plain": [
       "      book_id rating_range  n_readers\n",
       "0         866          4-5       1025\n",
       "1         868          4-5       1468\n",
       "2         869          4-5       1038\n",
       "3         870          4-5       6000\n",
       "4         871          4-5       1247\n",
       "..        ...          ...        ...\n",
       "995  29772863          4-5       2140\n",
       "996  30754980          4-5       1574\n",
       "997  31145178          4-5        744\n",
       "998  31338724          4-5       2198\n",
       "999  32497573          4-5        357\n",
       "\n",
       "[1000 rows x 3 columns]"
      ]
     },
     "execution_count": 34,
     "metadata": {},
     "output_type": "execute_result"
    }
   ],
   "source": [
    "user_b_1"
   ]
  },
  {
   "cell_type": "code",
   "execution_count": 35,
   "id": "816386f1",
   "metadata": {},
   "outputs": [
    {
     "data": {
      "text/plain": [
       "(3, 2)"
      ]
     },
     "execution_count": 35,
     "metadata": {},
     "output_type": "execute_result"
    }
   ],
   "source": [
    "user_b_2 = user_b_1[['n_readers', 'rating_range']].groupby(['rating_range'])['n_readers'].mean() \n",
    "user_b_2 = user_b_2.to_frame().rename(columns = {'n_readers':'readers_per_book'})\n",
    "user_b_2.reset_index(inplace = True)\n",
    "user_b_2.shape"
   ]
  },
  {
   "cell_type": "code",
   "execution_count": 36,
   "id": "af39824c",
   "metadata": {},
   "outputs": [
    {
     "data": {
      "text/html": [
       "<div>\n",
       "<style scoped>\n",
       "    .dataframe tbody tr th:only-of-type {\n",
       "        vertical-align: middle;\n",
       "    }\n",
       "\n",
       "    .dataframe tbody tr th {\n",
       "        vertical-align: top;\n",
       "    }\n",
       "\n",
       "    .dataframe thead th {\n",
       "        text-align: right;\n",
       "    }\n",
       "</style>\n",
       "<table border=\"1\" class=\"dataframe\">\n",
       "  <thead>\n",
       "    <tr style=\"text-align: right;\">\n",
       "      <th></th>\n",
       "      <th>rating_range</th>\n",
       "      <th>readers_per_book</th>\n",
       "    </tr>\n",
       "  </thead>\n",
       "  <tbody>\n",
       "    <tr>\n",
       "      <th>0</th>\n",
       "      <td>2-3</td>\n",
       "      <td>541.000000</td>\n",
       "    </tr>\n",
       "    <tr>\n",
       "      <th>1</th>\n",
       "      <td>3-4</td>\n",
       "      <td>1194.669014</td>\n",
       "    </tr>\n",
       "    <tr>\n",
       "      <th>2</th>\n",
       "      <td>4-5</td>\n",
       "      <td>1746.951049</td>\n",
       "    </tr>\n",
       "  </tbody>\n",
       "</table>\n",
       "</div>"
      ],
      "text/plain": [
       "  rating_range  readers_per_book\n",
       "0          2-3        541.000000\n",
       "1          3-4       1194.669014\n",
       "2          4-5       1746.951049"
      ]
     },
     "execution_count": 36,
     "metadata": {},
     "output_type": "execute_result"
    }
   ],
   "source": [
    "user_b_2"
   ]
  },
  {
   "cell_type": "code",
   "execution_count": 37,
   "id": "84b79ed4",
   "metadata": {},
   "outputs": [
    {
     "data": {
      "image/png": "[encoded data removed]",
      "text/plain": [
       "<Figure size 432x288 with 1 Axes>"
      ]
     },
     "metadata": {
      "needs_background": "light"
     },
     "output_type": "display_data"
    }
   ],
   "source": [
    "plt.bar(user_b_2['rating_range'], user_b_2['readers_per_book'], color = 'darkturquoise')\n",
    "plt.xlabel(\"Book Rating Range\")\n",
    "plt.ylabel(\"Average readers per book\")\n",
    "plt.title(\"Readers per Book Vs Rating of book\")\n",
    "plt.show()"
   ]
  },
  {
   "cell_type": "markdown",
   "id": "92aa2c07",
   "metadata": {},
   "source": [
    "##### EDA 5 - Readers per book and number of book pages"
   ]
  },
  {
   "cell_type": "code",
   "execution_count": 38,
   "id": "c3a1dad1",
   "metadata": {},
   "outputs": [],
   "source": [
    "#Merge book data with user interation data \n",
    "\n",
    "reader_pag =  pd.merge(interactions_read[['user_id', 'book_id']], books_comic[['book_id', 'num_pages']], how = \"left\", on = ['book_id'])"
   ]
  },
  {
   "cell_type": "code",
   "execution_count": 39,
   "id": "6642adab",
   "metadata": {},
   "outputs": [],
   "source": [
    "reader_pag = reader_pag[~reader_pag['num_pages'].isnull()]"
   ]
  },
  {
   "cell_type": "code",
   "execution_count": 40,
   "id": "f8463988",
   "metadata": {},
   "outputs": [
    {
     "data": {
      "text/plain": [
       "(911, 3)"
      ]
     },
     "execution_count": 40,
     "metadata": {},
     "output_type": "execute_result"
    }
   ],
   "source": [
    "reader_pag_1 = reader_pag[['user_id', 'book_id', 'num_pages']].groupby(['book_id', 'num_pages'])['user_id'].count() \n",
    "reader_pag_1 = reader_pag_1.to_frame().rename(columns = {'user_id':'n_readers'})\n",
    "reader_pag_1.reset_index(inplace = True)\n",
    "reader_pag_1.shape"
   ]
  },
  {
   "cell_type": "code",
   "execution_count": 41,
   "id": "836d4122",
   "metadata": {},
   "outputs": [
    {
     "data": {
      "text/plain": [
       "24.0"
      ]
     },
     "execution_count": 41,
     "metadata": {},
     "output_type": "execute_result"
    }
   ],
   "source": [
    "reader_pag_1['num_pages'].min()"
   ]
  },
  {
   "cell_type": "code",
   "execution_count": 42,
   "id": "8934a16c",
   "metadata": {},
   "outputs": [
    {
     "data": {
      "text/plain": [
       "1440.0"
      ]
     },
     "execution_count": 42,
     "metadata": {},
     "output_type": "execute_result"
    }
   ],
   "source": [
    "reader_pag_1['num_pages'].max()"
   ]
  },
  {
   "cell_type": "code",
   "execution_count": 43,
   "id": "cf9223ff",
   "metadata": {},
   "outputs": [],
   "source": [
    "conditions = [\n",
    "    (reader_pag_1['num_pages'] <= 150),\n",
    "    (reader_pag_1['num_pages'] > 150) & (reader_pag_1['num_pages'] <= 300),\n",
    "    (reader_pag_1['num_pages'] > 300) & (reader_pag_1['num_pages'] <= 450), \n",
    "    (reader_pag_1['num_pages'] > 450) & (reader_pag_1['num_pages'] <= 600),\n",
    "    (reader_pag_1['num_pages'] > 600) & (reader_pag_1['num_pages'] <= 750),\n",
    "    (reader_pag_1['num_pages'] > 750) & (reader_pag_1['num_pages'] <= 900),\n",
    "    (reader_pag_1['num_pages'] > 900) & (reader_pag_1['num_pages'] <= 1050),\n",
    "    (reader_pag_1['num_pages'] > 1050) & (reader_pag_1['num_pages'] <= 1200),\n",
    "    (reader_pag_1['num_pages'] > 1200) & (reader_pag_1['num_pages'] <= 1350),\n",
    "    (reader_pag_1['num_pages'] > 1350) & (reader_pag_1['num_pages'] <= 1500),\n",
    "    ]"
   ]
  },
  {
   "cell_type": "code",
   "execution_count": 44,
   "id": "4a01f763",
   "metadata": {},
   "outputs": [],
   "source": [
    "values = ['1-150', '150-300', '300-450', '450-600', '600-750', '750-900', '900-1050', '1050-1200', '1200-1350', '1350-1500']"
   ]
  },
  {
   "cell_type": "code",
   "execution_count": 45,
   "id": "ba3c2e14",
   "metadata": {},
   "outputs": [],
   "source": [
    "values1 = [1,2,3,4,5,6,7,8,9,10]"
   ]
  },
  {
   "cell_type": "code",
   "execution_count": 46,
   "id": "714b9b25",
   "metadata": {},
   "outputs": [],
   "source": [
    "reader_pag_1['num_pages_range'] = np.select(conditions, values)"
   ]
  },
  {
   "cell_type": "code",
   "execution_count": 47,
   "id": "1e6e0f57",
   "metadata": {},
   "outputs": [],
   "source": [
    "reader_pag_1['order'] = np.select(conditions, values1)"
   ]
  },
  {
   "cell_type": "code",
   "execution_count": 48,
   "id": "c3bc944f",
   "metadata": {},
   "outputs": [
    {
     "data": {
      "text/plain": [
       "(8, 3)"
      ]
     },
     "execution_count": 48,
     "metadata": {},
     "output_type": "execute_result"
    }
   ],
   "source": [
    "reader_pag_2 = reader_pag_1[['n_readers', 'num_pages_range', 'order']].groupby(['num_pages_range', 'order'])['n_readers'].mean() \n",
    "reader_pag_2 = reader_pag_2.to_frame().rename(columns = {'n_readers':'readers_per_book'})\n",
    "reader_pag_2.reset_index(inplace = True)\n",
    "reader_pag_2.shape"
   ]
  },
  {
   "cell_type": "code",
   "execution_count": 49,
   "id": "78bad367",
   "metadata": {},
   "outputs": [
    {
     "data": {
      "image/png": "[encoded data removed]",
      "text/plain": [
       "<Figure size 432x288 with 1 Axes>"
      ]
     },
     "metadata": {
      "needs_background": "light"
     },
     "output_type": "display_data"
    }
   ],
   "source": [
    "plt.bar(reader_pag_2['order'], reader_pag_2['readers_per_book'], color = 'gray')\n",
    "plt.xlabel(\"Number of pages in book\")\n",
    "plt.ylabel(\"Average readers per book\")\n",
    "plt.xticks(reader_pag_2['order'], labels = ['1-150', '150-300', '300-450', '450-600', '600-750', '1050-1200', '1200-1350', '1350-1500'], rotation = 90)\n",
    "plt.title(\"Readers per Book Vs Book length\")\n",
    "plt.show()"
   ]
  },
  {
   "cell_type": "markdown",
   "id": "87037e6a",
   "metadata": {},
   "source": [
    "##### EDA 6 - Number of reviews in each shelve"
   ]
  },
  {
   "cell_type": "code",
   "execution_count": 89,
   "id": "04d5e3ed",
   "metadata": {},
   "outputs": [],
   "source": [
    "books_genre_sub =  pd.merge(books_comic[['book_id', 'genre']], books_com_shel_top10[['genre', 'n_books']], how = \"inner\", on = ['genre'])"
   ]
  },
  {
   "cell_type": "code",
   "execution_count": 90,
   "id": "4f8d4428",
   "metadata": {},
   "outputs": [],
   "source": [
    "## FOR BOOK READ"
   ]
  },
  {
   "cell_type": "code",
   "execution_count": 91,
   "id": "9c23b07f",
   "metadata": {},
   "outputs": [],
   "source": [
    "#Merge book data with user interation data \n",
    "\n",
    "book_reviews =  pd.merge(interactions_read[['user_id', 'book_id', 'review_id']], books_genre_sub[['book_id', 'genre', 'n_books']], how = \"inner\", on = ['book_id'])"
   ]
  },
  {
   "cell_type": "code",
   "execution_count": 92,
   "id": "9b92f9dd",
   "metadata": {},
   "outputs": [
    {
     "data": {
      "text/plain": [
       "(10, 3)"
      ]
     },
     "execution_count": 92,
     "metadata": {},
     "output_type": "execute_result"
    }
   ],
   "source": [
    "book_reviews_1 = book_reviews[['review_id', 'genre', 'n_books']].groupby(['genre', 'n_books'])['review_id'].count() \n",
    "book_reviews_1 = book_reviews_1.to_frame().rename(columns = {'review_id':'n_reviews'})\n",
    "book_reviews_1.reset_index(inplace = True)\n",
    "book_reviews_1.shape"
   ]
  },
  {
   "cell_type": "code",
   "execution_count": 93,
   "id": "012bb4c1",
   "metadata": {
    "scrolled": true
   },
   "outputs": [
    {
     "data": {
      "text/html": [
       "<div>\n",
       "<style scoped>\n",
       "    .dataframe tbody tr th:only-of-type {\n",
       "        vertical-align: middle;\n",
       "    }\n",
       "\n",
       "    .dataframe tbody tr th {\n",
       "        vertical-align: top;\n",
       "    }\n",
       "\n",
       "    .dataframe thead th {\n",
       "        text-align: right;\n",
       "    }\n",
       "</style>\n",
       "<table border=\"1\" class=\"dataframe\">\n",
       "  <thead>\n",
       "    <tr style=\"text-align: right;\">\n",
       "      <th></th>\n",
       "      <th>genre</th>\n",
       "      <th>n_books</th>\n",
       "      <th>n_reviews</th>\n",
       "    </tr>\n",
       "  </thead>\n",
       "  <tbody>\n",
       "    <tr>\n",
       "      <th>0</th>\n",
       "      <td>bandes-dessinees</td>\n",
       "      <td>16</td>\n",
       "      <td>23306</td>\n",
       "    </tr>\n",
       "    <tr>\n",
       "      <th>1</th>\n",
       "      <td>comix</td>\n",
       "      <td>18</td>\n",
       "      <td>41008</td>\n",
       "    </tr>\n",
       "    <tr>\n",
       "      <th>2</th>\n",
       "      <td>fantasy</td>\n",
       "      <td>34</td>\n",
       "      <td>49321</td>\n",
       "    </tr>\n",
       "    <tr>\n",
       "      <th>3</th>\n",
       "      <td>fiction</td>\n",
       "      <td>42</td>\n",
       "      <td>73158</td>\n",
       "    </tr>\n",
       "    <tr>\n",
       "      <th>4</th>\n",
       "      <td>graphic-novel</td>\n",
       "      <td>141</td>\n",
       "      <td>211112</td>\n",
       "    </tr>\n",
       "    <tr>\n",
       "      <th>5</th>\n",
       "      <td>manga</td>\n",
       "      <td>32</td>\n",
       "      <td>35727</td>\n",
       "    </tr>\n",
       "    <tr>\n",
       "      <th>6</th>\n",
       "      <td>romance</td>\n",
       "      <td>14</td>\n",
       "      <td>16215</td>\n",
       "    </tr>\n",
       "    <tr>\n",
       "      <th>7</th>\n",
       "      <td>science-fiction</td>\n",
       "      <td>34</td>\n",
       "      <td>51234</td>\n",
       "    </tr>\n",
       "    <tr>\n",
       "      <th>8</th>\n",
       "      <td>series</td>\n",
       "      <td>34</td>\n",
       "      <td>47440</td>\n",
       "    </tr>\n",
       "    <tr>\n",
       "      <th>9</th>\n",
       "      <td>young-adult</td>\n",
       "      <td>29</td>\n",
       "      <td>56120</td>\n",
       "    </tr>\n",
       "  </tbody>\n",
       "</table>\n",
       "</div>"
      ],
      "text/plain": [
       "              genre  n_books  n_reviews\n",
       "0  bandes-dessinees       16      23306\n",
       "1             comix       18      41008\n",
       "2           fantasy       34      49321\n",
       "3           fiction       42      73158\n",
       "4     graphic-novel      141     211112\n",
       "5             manga       32      35727\n",
       "6           romance       14      16215\n",
       "7   science-fiction       34      51234\n",
       "8            series       34      47440\n",
       "9       young-adult       29      56120"
      ]
     },
     "execution_count": 93,
     "metadata": {},
     "output_type": "execute_result"
    }
   ],
   "source": [
    "book_reviews_1"
   ]
  },
  {
   "cell_type": "code",
   "execution_count": 94,
   "id": "67748286",
   "metadata": {},
   "outputs": [],
   "source": [
    "## FOR BOOKS NOT READ"
   ]
  },
  {
   "cell_type": "code",
   "execution_count": 95,
   "id": "d59a3a2c",
   "metadata": {},
   "outputs": [],
   "source": [
    "interactions_unread = interactions_comic[interactions_comic['is_read'] == False]"
   ]
  },
  {
   "cell_type": "code",
   "execution_count": 96,
   "id": "1fa9b47f",
   "metadata": {},
   "outputs": [],
   "source": [
    "book_reviews_un =  pd.merge(interactions_unread[['user_id', 'book_id', 'review_id']], books_genre_sub[['book_id', 'genre', 'n_books']], how = \"inner\", on = ['book_id'])"
   ]
  },
  {
   "cell_type": "code",
   "execution_count": 97,
   "id": "dac3260c",
   "metadata": {},
   "outputs": [
    {
     "data": {
      "text/plain": [
       "(10, 3)"
      ]
     },
     "execution_count": 97,
     "metadata": {},
     "output_type": "execute_result"
    }
   ],
   "source": [
    "book_reviews_2 = book_reviews_un[['review_id', 'genre', 'n_books']].groupby(['genre', 'n_books'])['review_id'].count() \n",
    "book_reviews_2 = book_reviews_2.to_frame().rename(columns = {'review_id':'n_reviews'})\n",
    "book_reviews_2.reset_index(inplace = True)\n",
    "book_reviews_2.shape"
   ]
  },
  {
   "cell_type": "code",
   "execution_count": 98,
   "id": "ec28e37a",
   "metadata": {},
   "outputs": [
    {
     "data": {
      "text/html": [
       "<div>\n",
       "<style scoped>\n",
       "    .dataframe tbody tr th:only-of-type {\n",
       "        vertical-align: middle;\n",
       "    }\n",
       "\n",
       "    .dataframe tbody tr th {\n",
       "        vertical-align: top;\n",
       "    }\n",
       "\n",
       "    .dataframe thead th {\n",
       "        text-align: right;\n",
       "    }\n",
       "</style>\n",
       "<table border=\"1\" class=\"dataframe\">\n",
       "  <thead>\n",
       "    <tr style=\"text-align: right;\">\n",
       "      <th></th>\n",
       "      <th>genre</th>\n",
       "      <th>n_books</th>\n",
       "      <th>n_reviews</th>\n",
       "    </tr>\n",
       "  </thead>\n",
       "  <tbody>\n",
       "    <tr>\n",
       "      <th>0</th>\n",
       "      <td>bandes-dessinees</td>\n",
       "      <td>16</td>\n",
       "      <td>6846</td>\n",
       "    </tr>\n",
       "    <tr>\n",
       "      <th>1</th>\n",
       "      <td>comix</td>\n",
       "      <td>18</td>\n",
       "      <td>25360</td>\n",
       "    </tr>\n",
       "    <tr>\n",
       "      <th>2</th>\n",
       "      <td>fantasy</td>\n",
       "      <td>34</td>\n",
       "      <td>27678</td>\n",
       "    </tr>\n",
       "    <tr>\n",
       "      <th>3</th>\n",
       "      <td>fiction</td>\n",
       "      <td>42</td>\n",
       "      <td>37759</td>\n",
       "    </tr>\n",
       "    <tr>\n",
       "      <th>4</th>\n",
       "      <td>graphic-novel</td>\n",
       "      <td>141</td>\n",
       "      <td>116992</td>\n",
       "    </tr>\n",
       "    <tr>\n",
       "      <th>5</th>\n",
       "      <td>manga</td>\n",
       "      <td>32</td>\n",
       "      <td>12820</td>\n",
       "    </tr>\n",
       "    <tr>\n",
       "      <th>6</th>\n",
       "      <td>romance</td>\n",
       "      <td>14</td>\n",
       "      <td>13702</td>\n",
       "    </tr>\n",
       "    <tr>\n",
       "      <th>7</th>\n",
       "      <td>science-fiction</td>\n",
       "      <td>34</td>\n",
       "      <td>23619</td>\n",
       "    </tr>\n",
       "    <tr>\n",
       "      <th>8</th>\n",
       "      <td>series</td>\n",
       "      <td>34</td>\n",
       "      <td>17098</td>\n",
       "    </tr>\n",
       "    <tr>\n",
       "      <th>9</th>\n",
       "      <td>young-adult</td>\n",
       "      <td>29</td>\n",
       "      <td>28016</td>\n",
       "    </tr>\n",
       "  </tbody>\n",
       "</table>\n",
       "</div>"
      ],
      "text/plain": [
       "              genre  n_books  n_reviews\n",
       "0  bandes-dessinees       16       6846\n",
       "1             comix       18      25360\n",
       "2           fantasy       34      27678\n",
       "3           fiction       42      37759\n",
       "4     graphic-novel      141     116992\n",
       "5             manga       32      12820\n",
       "6           romance       14      13702\n",
       "7   science-fiction       34      23619\n",
       "8            series       34      17098\n",
       "9       young-adult       29      28016"
      ]
     },
     "execution_count": 98,
     "metadata": {},
     "output_type": "execute_result"
    }
   ],
   "source": [
    "book_reviews_2"
   ]
  },
  {
   "cell_type": "code",
   "execution_count": 99,
   "id": "76883f24",
   "metadata": {},
   "outputs": [],
   "source": [
    "book_reviews_1 = book_reviews_1.sort_values(by = ['n_books'], axis = 0, ascending = False, inplace = False)\n",
    "book_reviews_2 = book_reviews_2.sort_values(by = ['n_books'], axis = 0, ascending = False, inplace = False)"
   ]
  },
  {
   "cell_type": "code",
   "execution_count": 100,
   "id": "351f6c0a",
   "metadata": {},
   "outputs": [
    {
     "data": {
      "image/png": "[encoded data removed]",
      "text/plain": [
       "<Figure size 432x288 with 1 Axes>"
      ]
     },
     "metadata": {
      "needs_background": "light"
     },
     "output_type": "display_data"
    }
   ],
   "source": [
    "a = plt.barh(book_reviews_1['genre'], book_reviews_1['n_reviews'], color = 'darkseagreen')\n",
    "b = plt.barh(book_reviews_2['genre'], book_reviews_2['n_reviews'], left = book_reviews_1['n_reviews'], color = 'lightsalmon')\n",
    "\n",
    "plt.legend([a, b], [\"User read the book\", \"User didn't read the book\"], loc = \"upper right\")\n",
    "\n",
    "\n",
    "plt.xlabel(\"Number of reviews\")\n",
    "plt.ylabel(\"Prominent Shelve\")\n",
    "#plt.xticks(reader_pag_2['order'], labels = ['1-150', '150-300', '300-450', '450-600', '600-750', '1050-1200', '1200-1350', '1350-1500'], rotation = 90)\n",
    "plt.title(\"Number of reviews across genres in comic books\")\n",
    "plt.show()"
   ]
  }
 ],
 "metadata": {
  "kernelspec": {
   "display_name": "Python 3",
   "language": "python",
   "name": "python3"
  },
  "language_info": {
   "codemirror_mode": {
    "name": "ipython",
    "version": 3
   },
   "file_extension": ".py",
   "mimetype": "text/x-python",
   "name": "python",
   "nbconvert_exporter": "python",
   "pygments_lexer": "ipython3",
   "version": "3.8.8"
  }
 },
 "nbformat": 4,
 "nbformat_minor": 5
}
