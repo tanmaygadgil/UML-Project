{
 "cells": [
  {
   "cell_type": "markdown",
   "id": "da92d6a8",
   "metadata": {},
   "source": [
    "## UML Project : Data checks for clustering"
   ]
  },
  {
   "cell_type": "code",
   "execution_count": 1,
   "id": "d3d46abb",
   "metadata": {},
   "outputs": [],
   "source": [
    "import pandas as pd\n",
    "import numpy as np"
   ]
  },
  {
   "cell_type": "code",
   "execution_count": 2,
   "id": "3cb66c20",
   "metadata": {},
   "outputs": [],
   "source": [
    "#Importing data : top 1000 english books from Comic genre, ranked on ratings\n",
    "\n",
    "books = pd.read_csv(\"./data/top_1000_books.csv\")\n",
    "interactions = pd.read_csv(\"./data/top_1000_books_interactions.csv\")\n",
    "reviews = pd.read_csv(\"./data/top_1000_books_reviews.csv\")"
   ]
  },
  {
   "cell_type": "code",
   "execution_count": 3,
   "id": "1e8d8b4e",
   "metadata": {},
   "outputs": [],
   "source": [
    "#Checking the data import"
   ]
  },
  {
   "cell_type": "code",
   "execution_count": 4,
   "id": "10f72566",
   "metadata": {
    "scrolled": true
   },
   "outputs": [
    {
     "data": {
      "text/html": [
       "<div>\n",
       "<style scoped>\n",
       "    .dataframe tbody tr th:only-of-type {\n",
       "        vertical-align: middle;\n",
       "    }\n",
       "\n",
       "    .dataframe tbody tr th {\n",
       "        vertical-align: top;\n",
       "    }\n",
       "\n",
       "    .dataframe thead th {\n",
       "        text-align: right;\n",
       "    }\n",
       "</style>\n",
       "<table border=\"1\" class=\"dataframe\">\n",
       "  <thead>\n",
       "    <tr style=\"text-align: right;\">\n",
       "      <th></th>\n",
       "      <th>Unnamed: 0</th>\n",
       "      <th>isbn</th>\n",
       "      <th>text_reviews_count</th>\n",
       "      <th>series</th>\n",
       "      <th>country_code</th>\n",
       "      <th>language_code</th>\n",
       "      <th>popular_shelves</th>\n",
       "      <th>asin</th>\n",
       "      <th>is_ebook</th>\n",
       "      <th>average_rating</th>\n",
       "      <th>...</th>\n",
       "      <th>publication_month</th>\n",
       "      <th>edition_information</th>\n",
       "      <th>publication_year</th>\n",
       "      <th>url</th>\n",
       "      <th>image_url</th>\n",
       "      <th>book_id</th>\n",
       "      <th>ratings_count</th>\n",
       "      <th>work_id</th>\n",
       "      <th>title</th>\n",
       "      <th>title_without_series</th>\n",
       "    </tr>\n",
       "  </thead>\n",
       "  <tbody>\n",
       "    <tr>\n",
       "      <th>0</th>\n",
       "      <td>31264</td>\n",
       "      <td>1401207928</td>\n",
       "      <td>3400</td>\n",
       "      <td>['631559']</td>\n",
       "      <td>US</td>\n",
       "      <td>eng</td>\n",
       "      <td>[{'count': '42534', 'name': 'to-read'}, {'coun...</td>\n",
       "      <td>NaN</td>\n",
       "      <td>False</td>\n",
       "      <td>4.25</td>\n",
       "      <td>...</td>\n",
       "      <td>11.0</td>\n",
       "      <td>NaN</td>\n",
       "      <td>2005.0</td>\n",
       "      <td>https://www.goodreads.com/book/show/5805.V_for...</td>\n",
       "      <td>https://images.gr-assets.com/books/1343668985m...</td>\n",
       "      <td>5805</td>\n",
       "      <td>212464</td>\n",
       "      <td>392838</td>\n",
       "      <td>V for Vendetta</td>\n",
       "      <td>V for Vendetta</td>\n",
       "    </tr>\n",
       "    <tr>\n",
       "      <th>1</th>\n",
       "      <td>7453</td>\n",
       "      <td>394541553</td>\n",
       "      <td>4402</td>\n",
       "      <td>['186595']</td>\n",
       "      <td>US</td>\n",
       "      <td>eng</td>\n",
       "      <td>[{'count': '92915', 'name': 'to-read'}, {'coun...</td>\n",
       "      <td>NaN</td>\n",
       "      <td>False</td>\n",
       "      <td>4.35</td>\n",
       "      <td>...</td>\n",
       "      <td>11.0</td>\n",
       "      <td>NaN</td>\n",
       "      <td>1991.0</td>\n",
       "      <td>https://www.goodreads.com/book/show/15196.Maus_I</td>\n",
       "      <td>https://images.gr-assets.com/books/1327884972m...</td>\n",
       "      <td>15196</td>\n",
       "      <td>189288</td>\n",
       "      <td>1947012</td>\n",
       "      <td>Maus I: A Survivor's Tale: My Father Bleeds Hi...</td>\n",
       "      <td>Maus I: A Survivor's Tale: My Father Bleeds Hi...</td>\n",
       "    </tr>\n",
       "    <tr>\n",
       "      <th>2</th>\n",
       "      <td>469</td>\n",
       "      <td>1401207529</td>\n",
       "      <td>1790</td>\n",
       "      <td>['482441', '300099', '194163', '636672']</td>\n",
       "      <td>US</td>\n",
       "      <td>eng</td>\n",
       "      <td>[{'count': '7924', 'name': 'to-read'}, {'count...</td>\n",
       "      <td>NaN</td>\n",
       "      <td>False</td>\n",
       "      <td>4.22</td>\n",
       "      <td>...</td>\n",
       "      <td>NaN</td>\n",
       "      <td>NaN</td>\n",
       "      <td>2005.0</td>\n",
       "      <td>https://www.goodreads.com/book/show/59980.Batman</td>\n",
       "      <td>https://images.gr-assets.com/books/1327940389m...</td>\n",
       "      <td>59980</td>\n",
       "      <td>154013</td>\n",
       "      <td>2501570</td>\n",
       "      <td>Batman: Year One</td>\n",
       "      <td>Batman: Year One</td>\n",
       "    </tr>\n",
       "    <tr>\n",
       "      <th>3</th>\n",
       "      <td>49402</td>\n",
       "      <td>1421501686</td>\n",
       "      <td>2399</td>\n",
       "      <td>['205782']</td>\n",
       "      <td>US</td>\n",
       "      <td>eng</td>\n",
       "      <td>[{'count': '9727', 'name': 'to-read'}, {'count...</td>\n",
       "      <td>NaN</td>\n",
       "      <td>False</td>\n",
       "      <td>4.42</td>\n",
       "      <td>...</td>\n",
       "      <td>10.0</td>\n",
       "      <td>NaN</td>\n",
       "      <td>2005.0</td>\n",
       "      <td>https://www.goodreads.com/book/show/13615.Deat...</td>\n",
       "      <td>https://images.gr-assets.com/books/1419952134m...</td>\n",
       "      <td>13615</td>\n",
       "      <td>142755</td>\n",
       "      <td>1782155</td>\n",
       "      <td>Death Note, Vol. 1: Boredom (Death Note, #1)</td>\n",
       "      <td>Death Note, Vol. 1: Boredom (Death Note, #1)</td>\n",
       "    </tr>\n",
       "    <tr>\n",
       "      <th>4</th>\n",
       "      <td>3495</td>\n",
       "      <td>1607066017</td>\n",
       "      <td>8700</td>\n",
       "      <td>['736247']</td>\n",
       "      <td>US</td>\n",
       "      <td>eng</td>\n",
       "      <td>[{'count': '78762', 'name': 'to-read'}, {'coun...</td>\n",
       "      <td>NaN</td>\n",
       "      <td>False</td>\n",
       "      <td>4.24</td>\n",
       "      <td>...</td>\n",
       "      <td>10.0</td>\n",
       "      <td>NaN</td>\n",
       "      <td>2012.0</td>\n",
       "      <td>https://www.goodreads.com/book/show/15704307-s...</td>\n",
       "      <td>https://images.gr-assets.com/books/1486028947m...</td>\n",
       "      <td>15704307</td>\n",
       "      <td>142640</td>\n",
       "      <td>19113524</td>\n",
       "      <td>Saga, Vol. 1 (Saga, #1)</td>\n",
       "      <td>Saga, Vol. 1 (Saga, #1)</td>\n",
       "    </tr>\n",
       "  </tbody>\n",
       "</table>\n",
       "<p>5 rows × 30 columns</p>\n",
       "</div>"
      ],
      "text/plain": [
       "   Unnamed: 0        isbn  text_reviews_count  \\\n",
       "0       31264  1401207928                3400   \n",
       "1        7453   394541553                4402   \n",
       "2         469  1401207529                1790   \n",
       "3       49402  1421501686                2399   \n",
       "4        3495  1607066017                8700   \n",
       "\n",
       "                                     series country_code language_code  \\\n",
       "0                                ['631559']           US           eng   \n",
       "1                                ['186595']           US           eng   \n",
       "2  ['482441', '300099', '194163', '636672']           US           eng   \n",
       "3                                ['205782']           US           eng   \n",
       "4                                ['736247']           US           eng   \n",
       "\n",
       "                                     popular_shelves asin  is_ebook  \\\n",
       "0  [{'count': '42534', 'name': 'to-read'}, {'coun...  NaN     False   \n",
       "1  [{'count': '92915', 'name': 'to-read'}, {'coun...  NaN     False   \n",
       "2  [{'count': '7924', 'name': 'to-read'}, {'count...  NaN     False   \n",
       "3  [{'count': '9727', 'name': 'to-read'}, {'count...  NaN     False   \n",
       "4  [{'count': '78762', 'name': 'to-read'}, {'coun...  NaN     False   \n",
       "\n",
       "   average_rating  ... publication_month edition_information publication_year  \\\n",
       "0            4.25  ...              11.0                 NaN           2005.0   \n",
       "1            4.35  ...              11.0                 NaN           1991.0   \n",
       "2            4.22  ...               NaN                 NaN           2005.0   \n",
       "3            4.42  ...              10.0                 NaN           2005.0   \n",
       "4            4.24  ...              10.0                 NaN           2012.0   \n",
       "\n",
       "                                                 url  \\\n",
       "0  https://www.goodreads.com/book/show/5805.V_for...   \n",
       "1   https://www.goodreads.com/book/show/15196.Maus_I   \n",
       "2   https://www.goodreads.com/book/show/59980.Batman   \n",
       "3  https://www.goodreads.com/book/show/13615.Deat...   \n",
       "4  https://www.goodreads.com/book/show/15704307-s...   \n",
       "\n",
       "                                           image_url   book_id ratings_count  \\\n",
       "0  https://images.gr-assets.com/books/1343668985m...      5805        212464   \n",
       "1  https://images.gr-assets.com/books/1327884972m...     15196        189288   \n",
       "2  https://images.gr-assets.com/books/1327940389m...     59980        154013   \n",
       "3  https://images.gr-assets.com/books/1419952134m...     13615        142755   \n",
       "4  https://images.gr-assets.com/books/1486028947m...  15704307        142640   \n",
       "\n",
       "    work_id                                              title  \\\n",
       "0    392838                                     V for Vendetta   \n",
       "1   1947012  Maus I: A Survivor's Tale: My Father Bleeds Hi...   \n",
       "2   2501570                                   Batman: Year One   \n",
       "3   1782155       Death Note, Vol. 1: Boredom (Death Note, #1)   \n",
       "4  19113524                            Saga, Vol. 1 (Saga, #1)   \n",
       "\n",
       "                                title_without_series  \n",
       "0                                     V for Vendetta  \n",
       "1  Maus I: A Survivor's Tale: My Father Bleeds Hi...  \n",
       "2                                   Batman: Year One  \n",
       "3       Death Note, Vol. 1: Boredom (Death Note, #1)  \n",
       "4                            Saga, Vol. 1 (Saga, #1)  \n",
       "\n",
       "[5 rows x 30 columns]"
      ]
     },
     "execution_count": 4,
     "metadata": {},
     "output_type": "execute_result"
    }
   ],
   "source": [
    "books.head()"
   ]
  },
  {
   "cell_type": "code",
   "execution_count": 5,
   "id": "49365521",
   "metadata": {},
   "outputs": [
    {
     "data": {
      "text/html": [
       "<div>\n",
       "<style scoped>\n",
       "    .dataframe tbody tr th:only-of-type {\n",
       "        vertical-align: middle;\n",
       "    }\n",
       "\n",
       "    .dataframe tbody tr th {\n",
       "        vertical-align: top;\n",
       "    }\n",
       "\n",
       "    .dataframe thead th {\n",
       "        text-align: right;\n",
       "    }\n",
       "</style>\n",
       "<table border=\"1\" class=\"dataframe\">\n",
       "  <thead>\n",
       "    <tr style=\"text-align: right;\">\n",
       "      <th></th>\n",
       "      <th>Unnamed: 0</th>\n",
       "      <th>book_id</th>\n",
       "      <th>Unnamed: 0.1</th>\n",
       "      <th>user_id</th>\n",
       "      <th>review_id</th>\n",
       "      <th>is_read</th>\n",
       "      <th>rating</th>\n",
       "      <th>review_text_incomplete</th>\n",
       "      <th>date_added</th>\n",
       "      <th>date_updated</th>\n",
       "      <th>read_at</th>\n",
       "      <th>started_at</th>\n",
       "    </tr>\n",
       "  </thead>\n",
       "  <tbody>\n",
       "    <tr>\n",
       "      <th>0</th>\n",
       "      <td>0</td>\n",
       "      <td>5805</td>\n",
       "      <td>69</td>\n",
       "      <td>06316bec7a49286f1f98d5acce24f923</td>\n",
       "      <td>94fb3ec3a16941c3deaf5b45d9df32c5</td>\n",
       "      <td>True</td>\n",
       "      <td>2</td>\n",
       "      <td>NaN</td>\n",
       "      <td>Mon Jun 04 19:15:00 -0700 2012</td>\n",
       "      <td>Mon Jun 04 19:15:00 -0700 2012</td>\n",
       "      <td>NaN</td>\n",
       "      <td>NaN</td>\n",
       "    </tr>\n",
       "    <tr>\n",
       "      <th>1</th>\n",
       "      <td>1</td>\n",
       "      <td>5805</td>\n",
       "      <td>524</td>\n",
       "      <td>0b9a0d35734107c5df4a1e3787193afb</td>\n",
       "      <td>cd3c9f155cebe80e88a7a9c411c24360</td>\n",
       "      <td>True</td>\n",
       "      <td>3</td>\n",
       "      <td>NaN</td>\n",
       "      <td>Sun Dec 09 16:14:38 -0800 2012</td>\n",
       "      <td>Mon Jul 14 08:38:20 -0700 2014</td>\n",
       "      <td>Wed Apr 10 08:14:47 -0700 2013</td>\n",
       "      <td>NaN</td>\n",
       "    </tr>\n",
       "    <tr>\n",
       "      <th>2</th>\n",
       "      <td>2</td>\n",
       "      <td>5805</td>\n",
       "      <td>619</td>\n",
       "      <td>8489357f2f485c1a961d4cbdc54ea84b</td>\n",
       "      <td>d25d8656ccf1824f12c212e7d99bd153</td>\n",
       "      <td>False</td>\n",
       "      <td>0</td>\n",
       "      <td>NaN</td>\n",
       "      <td>Sun Jul 29 12:00:06 -0700 2012</td>\n",
       "      <td>Sun Jul 29 12:00:06 -0700 2012</td>\n",
       "      <td>NaN</td>\n",
       "      <td>NaN</td>\n",
       "    </tr>\n",
       "    <tr>\n",
       "      <th>3</th>\n",
       "      <td>3</td>\n",
       "      <td>5805</td>\n",
       "      <td>630</td>\n",
       "      <td>5d99e945d98169c37484b38244ac444b</td>\n",
       "      <td>5e5b70ece9ff47b73a12bd9c2461fcc8</td>\n",
       "      <td>False</td>\n",
       "      <td>0</td>\n",
       "      <td>NaN</td>\n",
       "      <td>Mon Jun 04 22:12:25 -0700 2012</td>\n",
       "      <td>Mon Jun 04 22:12:25 -0700 2012</td>\n",
       "      <td>NaN</td>\n",
       "      <td>NaN</td>\n",
       "    </tr>\n",
       "    <tr>\n",
       "      <th>4</th>\n",
       "      <td>4</td>\n",
       "      <td>5805</td>\n",
       "      <td>727</td>\n",
       "      <td>26b5bed05bcabbabdaec4ee08fc43244</td>\n",
       "      <td>64956c237056a385a30ce71978484001</td>\n",
       "      <td>True</td>\n",
       "      <td>4</td>\n",
       "      <td>NaN</td>\n",
       "      <td>Mon Jun 04 22:36:29 -0700 2012</td>\n",
       "      <td>Mon Jun 04 22:36:29 -0700 2012</td>\n",
       "      <td>NaN</td>\n",
       "      <td>NaN</td>\n",
       "    </tr>\n",
       "  </tbody>\n",
       "</table>\n",
       "</div>"
      ],
      "text/plain": [
       "   Unnamed: 0  book_id  Unnamed: 0.1                           user_id  \\\n",
       "0           0     5805            69  06316bec7a49286f1f98d5acce24f923   \n",
       "1           1     5805           524  0b9a0d35734107c5df4a1e3787193afb   \n",
       "2           2     5805           619  8489357f2f485c1a961d4cbdc54ea84b   \n",
       "3           3     5805           630  5d99e945d98169c37484b38244ac444b   \n",
       "4           4     5805           727  26b5bed05bcabbabdaec4ee08fc43244   \n",
       "\n",
       "                          review_id  is_read  rating review_text_incomplete  \\\n",
       "0  94fb3ec3a16941c3deaf5b45d9df32c5     True       2                    NaN   \n",
       "1  cd3c9f155cebe80e88a7a9c411c24360     True       3                    NaN   \n",
       "2  d25d8656ccf1824f12c212e7d99bd153    False       0                    NaN   \n",
       "3  5e5b70ece9ff47b73a12bd9c2461fcc8    False       0                    NaN   \n",
       "4  64956c237056a385a30ce71978484001     True       4                    NaN   \n",
       "\n",
       "                       date_added                    date_updated  \\\n",
       "0  Mon Jun 04 19:15:00 -0700 2012  Mon Jun 04 19:15:00 -0700 2012   \n",
       "1  Sun Dec 09 16:14:38 -0800 2012  Mon Jul 14 08:38:20 -0700 2014   \n",
       "2  Sun Jul 29 12:00:06 -0700 2012  Sun Jul 29 12:00:06 -0700 2012   \n",
       "3  Mon Jun 04 22:12:25 -0700 2012  Mon Jun 04 22:12:25 -0700 2012   \n",
       "4  Mon Jun 04 22:36:29 -0700 2012  Mon Jun 04 22:36:29 -0700 2012   \n",
       "\n",
       "                          read_at started_at  \n",
       "0                             NaN        NaN  \n",
       "1  Wed Apr 10 08:14:47 -0700 2013        NaN  \n",
       "2                             NaN        NaN  \n",
       "3                             NaN        NaN  \n",
       "4                             NaN        NaN  "
      ]
     },
     "execution_count": 5,
     "metadata": {},
     "output_type": "execute_result"
    }
   ],
   "source": [
    "interactions.head()"
   ]
  },
  {
   "cell_type": "code",
   "execution_count": 6,
   "id": "35758d27",
   "metadata": {},
   "outputs": [
    {
     "data": {
      "text/html": [
       "<div>\n",
       "<style scoped>\n",
       "    .dataframe tbody tr th:only-of-type {\n",
       "        vertical-align: middle;\n",
       "    }\n",
       "\n",
       "    .dataframe tbody tr th {\n",
       "        vertical-align: top;\n",
       "    }\n",
       "\n",
       "    .dataframe thead th {\n",
       "        text-align: right;\n",
       "    }\n",
       "</style>\n",
       "<table border=\"1\" class=\"dataframe\">\n",
       "  <thead>\n",
       "    <tr style=\"text-align: right;\">\n",
       "      <th></th>\n",
       "      <th>Unnamed: 0</th>\n",
       "      <th>book_id</th>\n",
       "      <th>user_id</th>\n",
       "      <th>review_id</th>\n",
       "      <th>rating</th>\n",
       "      <th>review_text</th>\n",
       "      <th>date_added</th>\n",
       "      <th>date_updated</th>\n",
       "      <th>read_at</th>\n",
       "      <th>started_at</th>\n",
       "      <th>n_votes</th>\n",
       "      <th>n_comments</th>\n",
       "    </tr>\n",
       "  </thead>\n",
       "  <tbody>\n",
       "    <tr>\n",
       "      <th>0</th>\n",
       "      <td>0</td>\n",
       "      <td>5805</td>\n",
       "      <td>6baf45d03466a5858403d892286ff222</td>\n",
       "      <td>8d680b828c9b260423f5740e67b03291</td>\n",
       "      <td>4</td>\n",
       "      <td>Could use less misogyny and stockholm syndrome.</td>\n",
       "      <td>Thu Apr 21 11:27:06 -0700 2016</td>\n",
       "      <td>Thu Apr 21 11:27:36 -0700 2016</td>\n",
       "      <td>Thu Apr 21 11:27:36 -0700 2016</td>\n",
       "      <td>NaN</td>\n",
       "      <td>0</td>\n",
       "      <td>0</td>\n",
       "    </tr>\n",
       "    <tr>\n",
       "      <th>1</th>\n",
       "      <td>1</td>\n",
       "      <td>5805</td>\n",
       "      <td>76413aa32ae6debd29ff7c2c437f17ca</td>\n",
       "      <td>80a09e6153378edbe685b640b1b957f0</td>\n",
       "      <td>4</td>\n",
       "      <td>I love the artwork. I love the ideas that V re...</td>\n",
       "      <td>Tue Nov 18 09:14:16 -0800 2014</td>\n",
       "      <td>Sun Dec 21 16:14:29 -0800 2014</td>\n",
       "      <td>Sun Dec 21 00:00:00 -0800 2014</td>\n",
       "      <td>Tue Nov 18 00:00:00 -0800 2014</td>\n",
       "      <td>0</td>\n",
       "      <td>0</td>\n",
       "    </tr>\n",
       "    <tr>\n",
       "      <th>2</th>\n",
       "      <td>2</td>\n",
       "      <td>5805</td>\n",
       "      <td>c001efe2d798df0bbac0ba51dbed1f9b</td>\n",
       "      <td>65715d42615cf1ca8c7151bd25a22544</td>\n",
       "      <td>3</td>\n",
       "      <td>interesting graphic novel. Interesting created...</td>\n",
       "      <td>Sun Sep 07 12:35:48 -0700 2008</td>\n",
       "      <td>Sun Sep 07 12:39:38 -0700 2008</td>\n",
       "      <td>Sun Sep 07 00:00:00 -0700 2008</td>\n",
       "      <td>NaN</td>\n",
       "      <td>0</td>\n",
       "      <td>0</td>\n",
       "    </tr>\n",
       "    <tr>\n",
       "      <th>3</th>\n",
       "      <td>3</td>\n",
       "      <td>5805</td>\n",
       "      <td>2d43e0a1f7e9c0946fdf7f71fddbf7a8</td>\n",
       "      <td>d55a8c7950191477cf62cc76677bbf19</td>\n",
       "      <td>2</td>\n",
       "      <td>Honestly, I was really disappointed by this. O...</td>\n",
       "      <td>Sun Jun 10 11:07:52 -0700 2012</td>\n",
       "      <td>Sat Jan 30 11:14:07 -0800 2016</td>\n",
       "      <td>Sat Jan 01 00:00:00 -0800 2011</td>\n",
       "      <td>NaN</td>\n",
       "      <td>0</td>\n",
       "      <td>0</td>\n",
       "    </tr>\n",
       "    <tr>\n",
       "      <th>4</th>\n",
       "      <td>4</td>\n",
       "      <td>5805</td>\n",
       "      <td>d6804aa6e3a96b8e1104b8b9ac3fe882</td>\n",
       "      <td>77ad3c07806bb88c5a1bfa46b9357b20</td>\n",
       "      <td>3</td>\n",
       "      <td>I enjoyed this book---and the idea of a \"Robin...</td>\n",
       "      <td>Sat Jan 09 18:46:54 -0800 2010</td>\n",
       "      <td>Sun Jan 17 18:24:13 -0800 2010</td>\n",
       "      <td>Sat Jan 16 00:00:00 -0800 2010</td>\n",
       "      <td>NaN</td>\n",
       "      <td>0</td>\n",
       "      <td>0</td>\n",
       "    </tr>\n",
       "  </tbody>\n",
       "</table>\n",
       "</div>"
      ],
      "text/plain": [
       "   Unnamed: 0  book_id                           user_id  \\\n",
       "0           0     5805  6baf45d03466a5858403d892286ff222   \n",
       "1           1     5805  76413aa32ae6debd29ff7c2c437f17ca   \n",
       "2           2     5805  c001efe2d798df0bbac0ba51dbed1f9b   \n",
       "3           3     5805  2d43e0a1f7e9c0946fdf7f71fddbf7a8   \n",
       "4           4     5805  d6804aa6e3a96b8e1104b8b9ac3fe882   \n",
       "\n",
       "                          review_id  rating  \\\n",
       "0  8d680b828c9b260423f5740e67b03291       4   \n",
       "1  80a09e6153378edbe685b640b1b957f0       4   \n",
       "2  65715d42615cf1ca8c7151bd25a22544       3   \n",
       "3  d55a8c7950191477cf62cc76677bbf19       2   \n",
       "4  77ad3c07806bb88c5a1bfa46b9357b20       3   \n",
       "\n",
       "                                         review_text  \\\n",
       "0    Could use less misogyny and stockholm syndrome.   \n",
       "1  I love the artwork. I love the ideas that V re...   \n",
       "2  interesting graphic novel. Interesting created...   \n",
       "3  Honestly, I was really disappointed by this. O...   \n",
       "4  I enjoyed this book---and the idea of a \"Robin...   \n",
       "\n",
       "                       date_added                    date_updated  \\\n",
       "0  Thu Apr 21 11:27:06 -0700 2016  Thu Apr 21 11:27:36 -0700 2016   \n",
       "1  Tue Nov 18 09:14:16 -0800 2014  Sun Dec 21 16:14:29 -0800 2014   \n",
       "2  Sun Sep 07 12:35:48 -0700 2008  Sun Sep 07 12:39:38 -0700 2008   \n",
       "3  Sun Jun 10 11:07:52 -0700 2012  Sat Jan 30 11:14:07 -0800 2016   \n",
       "4  Sat Jan 09 18:46:54 -0800 2010  Sun Jan 17 18:24:13 -0800 2010   \n",
       "\n",
       "                          read_at                      started_at  n_votes  \\\n",
       "0  Thu Apr 21 11:27:36 -0700 2016                             NaN        0   \n",
       "1  Sun Dec 21 00:00:00 -0800 2014  Tue Nov 18 00:00:00 -0800 2014        0   \n",
       "2  Sun Sep 07 00:00:00 -0700 2008                             NaN        0   \n",
       "3  Sat Jan 01 00:00:00 -0800 2011                             NaN        0   \n",
       "4  Sat Jan 16 00:00:00 -0800 2010                             NaN        0   \n",
       "\n",
       "   n_comments  \n",
       "0           0  \n",
       "1           0  \n",
       "2           0  \n",
       "3           0  \n",
       "4           0  "
      ]
     },
     "execution_count": 6,
     "metadata": {},
     "output_type": "execute_result"
    }
   ],
   "source": [
    "reviews.head()"
   ]
  },
  {
   "cell_type": "code",
   "execution_count": 7,
   "id": "1d88dad9",
   "metadata": {},
   "outputs": [],
   "source": [
    "#Checking column names"
   ]
  },
  {
   "cell_type": "code",
   "execution_count": 8,
   "id": "9d1b7558",
   "metadata": {},
   "outputs": [
    {
     "data": {
      "text/plain": [
       "Index(['Unnamed: 0', 'isbn', 'text_reviews_count', 'series', 'country_code',\n",
       "       'language_code', 'popular_shelves', 'asin', 'is_ebook',\n",
       "       'average_rating', 'kindle_asin', 'similar_books', 'description',\n",
       "       'format', 'link', 'authors', 'publisher', 'num_pages',\n",
       "       'publication_day', 'isbn13', 'publication_month', 'edition_information',\n",
       "       'publication_year', 'url', 'image_url', 'book_id', 'ratings_count',\n",
       "       'work_id', 'title', 'title_without_series'],\n",
       "      dtype='object')"
      ]
     },
     "execution_count": 8,
     "metadata": {},
     "output_type": "execute_result"
    }
   ],
   "source": [
    "books.columns"
   ]
  },
  {
   "cell_type": "code",
   "execution_count": 9,
   "id": "fe4a386f",
   "metadata": {},
   "outputs": [
    {
     "data": {
      "text/plain": [
       "Index(['Unnamed: 0', 'book_id', 'Unnamed: 0.1', 'user_id', 'review_id',\n",
       "       'is_read', 'rating', 'review_text_incomplete', 'date_added',\n",
       "       'date_updated', 'read_at', 'started_at'],\n",
       "      dtype='object')"
      ]
     },
     "execution_count": 9,
     "metadata": {},
     "output_type": "execute_result"
    }
   ],
   "source": [
    "interactions.columns"
   ]
  },
  {
   "cell_type": "code",
   "execution_count": 10,
   "id": "7c9d252b",
   "metadata": {},
   "outputs": [
    {
     "data": {
      "text/plain": [
       "Index(['Unnamed: 0', 'book_id', 'user_id', 'review_id', 'rating',\n",
       "       'review_text', 'date_added', 'date_updated', 'read_at', 'started_at',\n",
       "       'n_votes', 'n_comments'],\n",
       "      dtype='object')"
      ]
     },
     "execution_count": 10,
     "metadata": {},
     "output_type": "execute_result"
    }
   ],
   "source": [
    "reviews.columns"
   ]
  },
  {
   "cell_type": "code",
   "execution_count": 11,
   "id": "ede11239",
   "metadata": {},
   "outputs": [],
   "source": [
    "#Checking the total rows and columns in the data"
   ]
  },
  {
   "cell_type": "code",
   "execution_count": 12,
   "id": "f0a98606",
   "metadata": {},
   "outputs": [
    {
     "data": {
      "text/plain": [
       "(1000, 30)"
      ]
     },
     "execution_count": 12,
     "metadata": {},
     "output_type": "execute_result"
    }
   ],
   "source": [
    "books.shape"
   ]
  },
  {
   "cell_type": "code",
   "execution_count": 13,
   "id": "71a9d904",
   "metadata": {},
   "outputs": [
    {
     "data": {
      "text/plain": [
       "(2396877, 12)"
      ]
     },
     "execution_count": 13,
     "metadata": {},
     "output_type": "execute_result"
    }
   ],
   "source": [
    "interactions.shape"
   ]
  },
  {
   "cell_type": "code",
   "execution_count": 14,
   "id": "51070ced",
   "metadata": {},
   "outputs": [
    {
     "data": {
      "text/plain": [
       "(146970, 12)"
      ]
     },
     "execution_count": 14,
     "metadata": {},
     "output_type": "execute_result"
    }
   ],
   "source": [
    "reviews.shape"
   ]
  },
  {
   "cell_type": "code",
   "execution_count": 15,
   "id": "31acfa90",
   "metadata": {},
   "outputs": [],
   "source": [
    "#Checking column data types"
   ]
  },
  {
   "cell_type": "code",
   "execution_count": 16,
   "id": "9cc35fd5",
   "metadata": {},
   "outputs": [
    {
     "data": {
      "text/plain": [
       "Unnamed: 0                int64\n",
       "isbn                     object\n",
       "text_reviews_count        int64\n",
       "series                   object\n",
       "country_code             object\n",
       "language_code            object\n",
       "popular_shelves          object\n",
       "asin                     object\n",
       "is_ebook                   bool\n",
       "average_rating          float64\n",
       "kindle_asin              object\n",
       "similar_books            object\n",
       "description              object\n",
       "format                   object\n",
       "link                     object\n",
       "authors                  object\n",
       "publisher                object\n",
       "num_pages               float64\n",
       "publication_day         float64\n",
       "isbn13                   object\n",
       "publication_month       float64\n",
       "edition_information      object\n",
       "publication_year        float64\n",
       "url                      object\n",
       "image_url                object\n",
       "book_id                   int64\n",
       "ratings_count             int64\n",
       "work_id                   int64\n",
       "title                    object\n",
       "title_without_series     object\n",
       "dtype: object"
      ]
     },
     "execution_count": 16,
     "metadata": {},
     "output_type": "execute_result"
    }
   ],
   "source": [
    "books.dtypes"
   ]
  },
  {
   "cell_type": "code",
   "execution_count": 17,
   "id": "027466cb",
   "metadata": {},
   "outputs": [
    {
     "data": {
      "text/plain": [
       "Unnamed: 0                 int64\n",
       "book_id                    int64\n",
       "Unnamed: 0.1               int64\n",
       "user_id                   object\n",
       "review_id                 object\n",
       "is_read                     bool\n",
       "rating                     int64\n",
       "review_text_incomplete    object\n",
       "date_added                object\n",
       "date_updated              object\n",
       "read_at                   object\n",
       "started_at                object\n",
       "dtype: object"
      ]
     },
     "execution_count": 17,
     "metadata": {},
     "output_type": "execute_result"
    }
   ],
   "source": [
    "interactions.dtypes"
   ]
  },
  {
   "cell_type": "code",
   "execution_count": 18,
   "id": "401403a8",
   "metadata": {},
   "outputs": [
    {
     "data": {
      "text/plain": [
       "Unnamed: 0       int64\n",
       "book_id          int64\n",
       "user_id         object\n",
       "review_id       object\n",
       "rating           int64\n",
       "review_text     object\n",
       "date_added      object\n",
       "date_updated    object\n",
       "read_at         object\n",
       "started_at      object\n",
       "n_votes          int64\n",
       "n_comments       int64\n",
       "dtype: object"
      ]
     },
     "execution_count": 18,
     "metadata": {},
     "output_type": "execute_result"
    }
   ],
   "source": [
    "reviews.dtypes"
   ]
  },
  {
   "cell_type": "code",
   "execution_count": 19,
   "id": "4604c5ad",
   "metadata": {},
   "outputs": [
    {
     "data": {
      "text/html": [
       "<div>\n",
       "<style scoped>\n",
       "    .dataframe tbody tr th:only-of-type {\n",
       "        vertical-align: middle;\n",
       "    }\n",
       "\n",
       "    .dataframe tbody tr th {\n",
       "        vertical-align: top;\n",
       "    }\n",
       "\n",
       "    .dataframe thead th {\n",
       "        text-align: right;\n",
       "    }\n",
       "</style>\n",
       "<table border=\"1\" class=\"dataframe\">\n",
       "  <thead>\n",
       "    <tr style=\"text-align: right;\">\n",
       "      <th></th>\n",
       "      <th>Unnamed: 0</th>\n",
       "      <th>text_reviews_count</th>\n",
       "      <th>average_rating</th>\n",
       "      <th>num_pages</th>\n",
       "      <th>publication_day</th>\n",
       "      <th>publication_month</th>\n",
       "      <th>publication_year</th>\n",
       "      <th>book_id</th>\n",
       "      <th>ratings_count</th>\n",
       "      <th>work_id</th>\n",
       "    </tr>\n",
       "  </thead>\n",
       "  <tbody>\n",
       "    <tr>\n",
       "      <th>count</th>\n",
       "      <td>1000.000000</td>\n",
       "      <td>1000.000000</td>\n",
       "      <td>1000.000000</td>\n",
       "      <td>911.000000</td>\n",
       "      <td>874.000000</td>\n",
       "      <td>896.000000</td>\n",
       "      <td>908.000000</td>\n",
       "      <td>1.000000e+03</td>\n",
       "      <td>1000.000000</td>\n",
       "      <td>1.000000e+03</td>\n",
       "    </tr>\n",
       "    <tr>\n",
       "      <th>mean</th>\n",
       "      <td>44960.825000</td>\n",
       "      <td>536.297000</td>\n",
       "      <td>4.200910</td>\n",
       "      <td>196.994512</td>\n",
       "      <td>11.556064</td>\n",
       "      <td>6.674107</td>\n",
       "      <td>2007.275330</td>\n",
       "      <td>6.123915e+06</td>\n",
       "      <td>14437.599000</td>\n",
       "      <td>9.836872e+06</td>\n",
       "    </tr>\n",
       "    <tr>\n",
       "      <th>std</th>\n",
       "      <td>25605.261751</td>\n",
       "      <td>841.084323</td>\n",
       "      <td>0.230944</td>\n",
       "      <td>119.973518</td>\n",
       "      <td>9.446525</td>\n",
       "      <td>3.260880</td>\n",
       "      <td>6.115857</td>\n",
       "      <td>7.989765e+06</td>\n",
       "      <td>20321.057719</td>\n",
       "      <td>1.320003e+07</td>\n",
       "    </tr>\n",
       "    <tr>\n",
       "      <th>min</th>\n",
       "      <td>166.000000</td>\n",
       "      <td>25.000000</td>\n",
       "      <td>3.200000</td>\n",
       "      <td>24.000000</td>\n",
       "      <td>1.000000</td>\n",
       "      <td>1.000000</td>\n",
       "      <td>1974.000000</td>\n",
       "      <td>8.660000e+02</td>\n",
       "      <td>4196.000000</td>\n",
       "      <td>7.970000e+02</td>\n",
       "    </tr>\n",
       "    <tr>\n",
       "      <th>25%</th>\n",
       "      <td>23077.000000</td>\n",
       "      <td>115.750000</td>\n",
       "      <td>4.060000</td>\n",
       "      <td>144.000000</td>\n",
       "      <td>3.000000</td>\n",
       "      <td>4.000000</td>\n",
       "      <td>2005.000000</td>\n",
       "      <td>1.330178e+05</td>\n",
       "      <td>5615.500000</td>\n",
       "      <td>7.291252e+05</td>\n",
       "    </tr>\n",
       "    <tr>\n",
       "      <th>50%</th>\n",
       "      <td>46660.500000</td>\n",
       "      <td>257.000000</td>\n",
       "      <td>4.210000</td>\n",
       "      <td>191.000000</td>\n",
       "      <td>9.000000</td>\n",
       "      <td>7.000000</td>\n",
       "      <td>2008.000000</td>\n",
       "      <td>1.386229e+06</td>\n",
       "      <td>7946.000000</td>\n",
       "      <td>2.569915e+06</td>\n",
       "    </tr>\n",
       "    <tr>\n",
       "      <th>75%</th>\n",
       "      <td>67248.250000</td>\n",
       "      <td>575.750000</td>\n",
       "      <td>4.360000</td>\n",
       "      <td>208.000000</td>\n",
       "      <td>19.000000</td>\n",
       "      <td>9.000000</td>\n",
       "      <td>2012.000000</td>\n",
       "      <td>1.029330e+07</td>\n",
       "      <td>14033.750000</td>\n",
       "      <td>1.614749e+07</td>\n",
       "    </tr>\n",
       "    <tr>\n",
       "      <th>max</th>\n",
       "      <td>89398.000000</td>\n",
       "      <td>9098.000000</td>\n",
       "      <td>4.820000</td>\n",
       "      <td>1440.000000</td>\n",
       "      <td>31.000000</td>\n",
       "      <td>12.000000</td>\n",
       "      <td>2017.000000</td>\n",
       "      <td>3.249757e+07</td>\n",
       "      <td>212464.000000</td>\n",
       "      <td>5.309002e+07</td>\n",
       "    </tr>\n",
       "  </tbody>\n",
       "</table>\n",
       "</div>"
      ],
      "text/plain": [
       "         Unnamed: 0  text_reviews_count  average_rating    num_pages  \\\n",
       "count   1000.000000         1000.000000     1000.000000   911.000000   \n",
       "mean   44960.825000          536.297000        4.200910   196.994512   \n",
       "std    25605.261751          841.084323        0.230944   119.973518   \n",
       "min      166.000000           25.000000        3.200000    24.000000   \n",
       "25%    23077.000000          115.750000        4.060000   144.000000   \n",
       "50%    46660.500000          257.000000        4.210000   191.000000   \n",
       "75%    67248.250000          575.750000        4.360000   208.000000   \n",
       "max    89398.000000         9098.000000        4.820000  1440.000000   \n",
       "\n",
       "       publication_day  publication_month  publication_year       book_id  \\\n",
       "count       874.000000         896.000000        908.000000  1.000000e+03   \n",
       "mean         11.556064           6.674107       2007.275330  6.123915e+06   \n",
       "std           9.446525           3.260880          6.115857  7.989765e+06   \n",
       "min           1.000000           1.000000       1974.000000  8.660000e+02   \n",
       "25%           3.000000           4.000000       2005.000000  1.330178e+05   \n",
       "50%           9.000000           7.000000       2008.000000  1.386229e+06   \n",
       "75%          19.000000           9.000000       2012.000000  1.029330e+07   \n",
       "max          31.000000          12.000000       2017.000000  3.249757e+07   \n",
       "\n",
       "       ratings_count       work_id  \n",
       "count    1000.000000  1.000000e+03  \n",
       "mean    14437.599000  9.836872e+06  \n",
       "std     20321.057719  1.320003e+07  \n",
       "min      4196.000000  7.970000e+02  \n",
       "25%      5615.500000  7.291252e+05  \n",
       "50%      7946.000000  2.569915e+06  \n",
       "75%     14033.750000  1.614749e+07  \n",
       "max    212464.000000  5.309002e+07  "
      ]
     },
     "execution_count": 19,
     "metadata": {},
     "output_type": "execute_result"
    }
   ],
   "source": [
    "#Checking data summary and checking for outliers\n",
    "\n",
    "books.describe()"
   ]
  },
  {
   "cell_type": "code",
   "execution_count": 20,
   "id": "b2152b90",
   "metadata": {
    "scrolled": true
   },
   "outputs": [
    {
     "data": {
      "text/html": [
       "<div>\n",
       "<style scoped>\n",
       "    .dataframe tbody tr th:only-of-type {\n",
       "        vertical-align: middle;\n",
       "    }\n",
       "\n",
       "    .dataframe tbody tr th {\n",
       "        vertical-align: top;\n",
       "    }\n",
       "\n",
       "    .dataframe thead th {\n",
       "        text-align: right;\n",
       "    }\n",
       "</style>\n",
       "<table border=\"1\" class=\"dataframe\">\n",
       "  <thead>\n",
       "    <tr style=\"text-align: right;\">\n",
       "      <th></th>\n",
       "      <th>Unnamed: 0</th>\n",
       "      <th>book_id</th>\n",
       "      <th>rating</th>\n",
       "      <th>n_votes</th>\n",
       "      <th>n_comments</th>\n",
       "    </tr>\n",
       "  </thead>\n",
       "  <tbody>\n",
       "    <tr>\n",
       "      <th>count</th>\n",
       "      <td>146970.000000</td>\n",
       "      <td>1.469700e+05</td>\n",
       "      <td>146970.000000</td>\n",
       "      <td>146970.000000</td>\n",
       "      <td>146970.000000</td>\n",
       "    </tr>\n",
       "    <tr>\n",
       "      <th>mean</th>\n",
       "      <td>73484.500000</td>\n",
       "      <td>1.104313e+07</td>\n",
       "      <td>3.970994</td>\n",
       "      <td>1.122243</td>\n",
       "      <td>0.187031</td>\n",
       "    </tr>\n",
       "    <tr>\n",
       "      <th>std</th>\n",
       "      <td>42426.728869</td>\n",
       "      <td>9.693730e+06</td>\n",
       "      <td>1.099062</td>\n",
       "      <td>7.596347</td>\n",
       "      <td>1.415764</td>\n",
       "    </tr>\n",
       "    <tr>\n",
       "      <th>min</th>\n",
       "      <td>0.000000</td>\n",
       "      <td>8.660000e+02</td>\n",
       "      <td>0.000000</td>\n",
       "      <td>-2.000000</td>\n",
       "      <td>-1.000000</td>\n",
       "    </tr>\n",
       "    <tr>\n",
       "      <th>25%</th>\n",
       "      <td>36742.250000</td>\n",
       "      <td>2.488710e+05</td>\n",
       "      <td>3.000000</td>\n",
       "      <td>0.000000</td>\n",
       "      <td>0.000000</td>\n",
       "    </tr>\n",
       "    <tr>\n",
       "      <th>50%</th>\n",
       "      <td>73484.500000</td>\n",
       "      <td>1.008811e+07</td>\n",
       "      <td>4.000000</td>\n",
       "      <td>0.000000</td>\n",
       "      <td>0.000000</td>\n",
       "    </tr>\n",
       "    <tr>\n",
       "      <th>75%</th>\n",
       "      <td>110226.750000</td>\n",
       "      <td>1.935104e+07</td>\n",
       "      <td>5.000000</td>\n",
       "      <td>1.000000</td>\n",
       "      <td>0.000000</td>\n",
       "    </tr>\n",
       "    <tr>\n",
       "      <th>max</th>\n",
       "      <td>146969.000000</td>\n",
       "      <td>3.249757e+07</td>\n",
       "      <td>5.000000</td>\n",
       "      <td>806.000000</td>\n",
       "      <td>121.000000</td>\n",
       "    </tr>\n",
       "  </tbody>\n",
       "</table>\n",
       "</div>"
      ],
      "text/plain": [
       "          Unnamed: 0       book_id         rating        n_votes  \\\n",
       "count  146970.000000  1.469700e+05  146970.000000  146970.000000   \n",
       "mean    73484.500000  1.104313e+07       3.970994       1.122243   \n",
       "std     42426.728869  9.693730e+06       1.099062       7.596347   \n",
       "min         0.000000  8.660000e+02       0.000000      -2.000000   \n",
       "25%     36742.250000  2.488710e+05       3.000000       0.000000   \n",
       "50%     73484.500000  1.008811e+07       4.000000       0.000000   \n",
       "75%    110226.750000  1.935104e+07       5.000000       1.000000   \n",
       "max    146969.000000  3.249757e+07       5.000000     806.000000   \n",
       "\n",
       "          n_comments  \n",
       "count  146970.000000  \n",
       "mean        0.187031  \n",
       "std         1.415764  \n",
       "min        -1.000000  \n",
       "25%         0.000000  \n",
       "50%         0.000000  \n",
       "75%         0.000000  \n",
       "max       121.000000  "
      ]
     },
     "execution_count": 20,
     "metadata": {},
     "output_type": "execute_result"
    }
   ],
   "source": [
    "reviews.describe()"
   ]
  },
  {
   "cell_type": "markdown",
   "id": "c1540754",
   "metadata": {},
   "source": [
    "**The minimum value of n_votes and n_comments is negative."
   ]
  },
  {
   "cell_type": "code",
   "execution_count": 21,
   "id": "3a56f7dc",
   "metadata": {
    "scrolled": true
   },
   "outputs": [
    {
     "data": {
      "text/html": [
       "<div>\n",
       "<style scoped>\n",
       "    .dataframe tbody tr th:only-of-type {\n",
       "        vertical-align: middle;\n",
       "    }\n",
       "\n",
       "    .dataframe tbody tr th {\n",
       "        vertical-align: top;\n",
       "    }\n",
       "\n",
       "    .dataframe thead th {\n",
       "        text-align: right;\n",
       "    }\n",
       "</style>\n",
       "<table border=\"1\" class=\"dataframe\">\n",
       "  <thead>\n",
       "    <tr style=\"text-align: right;\">\n",
       "      <th></th>\n",
       "      <th>Unnamed: 0</th>\n",
       "      <th>book_id</th>\n",
       "      <th>Unnamed: 0.1</th>\n",
       "      <th>rating</th>\n",
       "    </tr>\n",
       "  </thead>\n",
       "  <tbody>\n",
       "    <tr>\n",
       "      <th>count</th>\n",
       "      <td>2.396877e+06</td>\n",
       "      <td>2.396877e+06</td>\n",
       "      <td>2.396877e+06</td>\n",
       "      <td>2.396877e+06</td>\n",
       "    </tr>\n",
       "    <tr>\n",
       "      <th>mean</th>\n",
       "      <td>1.198438e+06</td>\n",
       "      <td>7.108368e+06</td>\n",
       "      <td>3.767019e+06</td>\n",
       "      <td>2.649616e+00</td>\n",
       "    </tr>\n",
       "    <tr>\n",
       "      <th>std</th>\n",
       "      <td>6.919189e+05</td>\n",
       "      <td>8.950455e+06</td>\n",
       "      <td>2.170317e+06</td>\n",
       "      <td>2.128187e+00</td>\n",
       "    </tr>\n",
       "    <tr>\n",
       "      <th>min</th>\n",
       "      <td>0.000000e+00</td>\n",
       "      <td>8.660000e+02</td>\n",
       "      <td>0.000000e+00</td>\n",
       "      <td>0.000000e+00</td>\n",
       "    </tr>\n",
       "    <tr>\n",
       "      <th>25%</th>\n",
       "      <td>5.992190e+05</td>\n",
       "      <td>7.129200e+04</td>\n",
       "      <td>1.882588e+06</td>\n",
       "      <td>0.000000e+00</td>\n",
       "    </tr>\n",
       "    <tr>\n",
       "      <th>50%</th>\n",
       "      <td>1.198438e+06</td>\n",
       "      <td>1.111811e+06</td>\n",
       "      <td>3.773139e+06</td>\n",
       "      <td>4.000000e+00</td>\n",
       "    </tr>\n",
       "    <tr>\n",
       "      <th>75%</th>\n",
       "      <td>1.797657e+06</td>\n",
       "      <td>1.353225e+07</td>\n",
       "      <td>5.675562e+06</td>\n",
       "      <td>5.000000e+00</td>\n",
       "    </tr>\n",
       "    <tr>\n",
       "      <th>max</th>\n",
       "      <td>2.396876e+06</td>\n",
       "      <td>3.249757e+07</td>\n",
       "      <td>7.347629e+06</td>\n",
       "      <td>5.000000e+00</td>\n",
       "    </tr>\n",
       "  </tbody>\n",
       "</table>\n",
       "</div>"
      ],
      "text/plain": [
       "         Unnamed: 0       book_id  Unnamed: 0.1        rating\n",
       "count  2.396877e+06  2.396877e+06  2.396877e+06  2.396877e+06\n",
       "mean   1.198438e+06  7.108368e+06  3.767019e+06  2.649616e+00\n",
       "std    6.919189e+05  8.950455e+06  2.170317e+06  2.128187e+00\n",
       "min    0.000000e+00  8.660000e+02  0.000000e+00  0.000000e+00\n",
       "25%    5.992190e+05  7.129200e+04  1.882588e+06  0.000000e+00\n",
       "50%    1.198438e+06  1.111811e+06  3.773139e+06  4.000000e+00\n",
       "75%    1.797657e+06  1.353225e+07  5.675562e+06  5.000000e+00\n",
       "max    2.396876e+06  3.249757e+07  7.347629e+06  5.000000e+00"
      ]
     },
     "execution_count": 21,
     "metadata": {},
     "output_type": "execute_result"
    }
   ],
   "source": [
    "interactions.describe()"
   ]
  },
  {
   "cell_type": "code",
   "execution_count": 22,
   "id": "6d8eb93d",
   "metadata": {},
   "outputs": [],
   "source": [
    "#Checking the level of data"
   ]
  },
  {
   "cell_type": "code",
   "execution_count": 23,
   "id": "993cd9cc",
   "metadata": {},
   "outputs": [
    {
     "data": {
      "text/html": [
       "<div>\n",
       "<style scoped>\n",
       "    .dataframe tbody tr th:only-of-type {\n",
       "        vertical-align: middle;\n",
       "    }\n",
       "\n",
       "    .dataframe tbody tr th {\n",
       "        vertical-align: top;\n",
       "    }\n",
       "\n",
       "    .dataframe thead th {\n",
       "        text-align: right;\n",
       "    }\n",
       "</style>\n",
       "<table border=\"1\" class=\"dataframe\">\n",
       "  <thead>\n",
       "    <tr style=\"text-align: right;\">\n",
       "      <th></th>\n",
       "      <th>book_id</th>\n",
       "    </tr>\n",
       "    <tr>\n",
       "      <th>count</th>\n",
       "      <th></th>\n",
       "    </tr>\n",
       "  </thead>\n",
       "  <tbody>\n",
       "    <tr>\n",
       "      <th>1</th>\n",
       "      <td>1000</td>\n",
       "    </tr>\n",
       "  </tbody>\n",
       "</table>\n",
       "</div>"
      ],
      "text/plain": [
       "       book_id\n",
       "count         \n",
       "1         1000"
      ]
     },
     "execution_count": 23,
     "metadata": {},
     "output_type": "execute_result"
    }
   ],
   "source": [
    "i = books.groupby(\"book_id\")['book_id'].count()\n",
    "j = i.to_frame().rename(columns = {'book_id':'count'})\n",
    "j.reset_index(inplace=True)\n",
    "j.groupby('count').count()"
   ]
  },
  {
   "cell_type": "code",
   "execution_count": 24,
   "id": "f243e7ad",
   "metadata": {},
   "outputs": [
    {
     "data": {
      "text/html": [
       "<div>\n",
       "<style scoped>\n",
       "    .dataframe tbody tr th:only-of-type {\n",
       "        vertical-align: middle;\n",
       "    }\n",
       "\n",
       "    .dataframe tbody tr th {\n",
       "        vertical-align: top;\n",
       "    }\n",
       "\n",
       "    .dataframe thead th {\n",
       "        text-align: right;\n",
       "    }\n",
       "</style>\n",
       "<table border=\"1\" class=\"dataframe\">\n",
       "  <thead>\n",
       "    <tr style=\"text-align: right;\">\n",
       "      <th></th>\n",
       "      <th>review_id</th>\n",
       "    </tr>\n",
       "    <tr>\n",
       "      <th>count</th>\n",
       "      <th></th>\n",
       "    </tr>\n",
       "  </thead>\n",
       "  <tbody>\n",
       "    <tr>\n",
       "      <th>1</th>\n",
       "      <td>2396877</td>\n",
       "    </tr>\n",
       "  </tbody>\n",
       "</table>\n",
       "</div>"
      ],
      "text/plain": [
       "       review_id\n",
       "count           \n",
       "1        2396877"
      ]
     },
     "execution_count": 24,
     "metadata": {},
     "output_type": "execute_result"
    }
   ],
   "source": [
    "i = interactions.groupby(\"review_id\")['review_id'].count()\n",
    "j = i.to_frame().rename(columns = {'review_id':'count'})\n",
    "j.reset_index(inplace=True)\n",
    "j.groupby('count').count()"
   ]
  },
  {
   "cell_type": "code",
   "execution_count": 25,
   "id": "8dbe791a",
   "metadata": {},
   "outputs": [
    {
     "data": {
      "text/html": [
       "<div>\n",
       "<style scoped>\n",
       "    .dataframe tbody tr th:only-of-type {\n",
       "        vertical-align: middle;\n",
       "    }\n",
       "\n",
       "    .dataframe tbody tr th {\n",
       "        vertical-align: top;\n",
       "    }\n",
       "\n",
       "    .dataframe thead th {\n",
       "        text-align: right;\n",
       "    }\n",
       "</style>\n",
       "<table border=\"1\" class=\"dataframe\">\n",
       "  <thead>\n",
       "    <tr style=\"text-align: right;\">\n",
       "      <th></th>\n",
       "      <th>review_id</th>\n",
       "    </tr>\n",
       "    <tr>\n",
       "      <th>count</th>\n",
       "      <th></th>\n",
       "    </tr>\n",
       "  </thead>\n",
       "  <tbody>\n",
       "    <tr>\n",
       "      <th>1</th>\n",
       "      <td>146970</td>\n",
       "    </tr>\n",
       "  </tbody>\n",
       "</table>\n",
       "</div>"
      ],
      "text/plain": [
       "       review_id\n",
       "count           \n",
       "1         146970"
      ]
     },
     "execution_count": 25,
     "metadata": {},
     "output_type": "execute_result"
    }
   ],
   "source": [
    "i = reviews.groupby(\"review_id\")['review_id'].count()\n",
    "j = i.to_frame().rename(columns = {'review_id':'count'})\n",
    "j.reset_index(inplace=True)\n",
    "j.groupby('count').count()"
   ]
  },
  {
   "cell_type": "code",
   "execution_count": 26,
   "id": "f8b1f0ec",
   "metadata": {},
   "outputs": [
    {
     "data": {
      "text/plain": [
       "0    ['22421', '59966', '22409', '79426', '25102', ...\n",
       "1    ['9517', '39916', '229823', '548934', '2248795...\n",
       "2    ['106069', '3316474', '10889279', '1309276', '...\n",
       "3    ['868', '228067', '271265', '6867952', '200958...\n",
       "4    ['17277800', '23012877', '21329', '16164271', ...\n",
       "Name: similar_books, dtype: object"
      ]
     },
     "execution_count": 26,
     "metadata": {},
     "output_type": "execute_result"
    }
   ],
   "source": [
    "#Checking the values in 'similar_books' column for books\n",
    "\n",
    "books['similar_books'].head()"
   ]
  },
  {
   "cell_type": "code",
   "execution_count": 53,
   "id": "1f98f3bf",
   "metadata": {},
   "outputs": [
    {
     "data": {
      "text/plain": [
       "array([\"[{'author_id': '3961', 'role': ''}, {'author_id': '3960', 'role': 'Illustrator'}]\",\n",
       "       \"[{'author_id': '5117', 'role': ''}]\",\n",
       "       \"[{'author_id': '15085', 'role': ''}, {'author_id': '28995', 'role': 'Illustrator'}, {'author_id': '821898', 'role': 'Colorist'}, {'author_id': '28710', 'role': 'Introduction'}]\",\n",
       "       \"[{'author_id': '5502079', 'role': ''}, {'author_id': '15577045', 'role': 'Illustrator'}]\",\n",
       "       \"[{'author_id': '24514', 'role': 'Writer'}, {'author_id': '304633', 'role': 'Artist'}]\",\n",
       "       \"[{'author_id': '15085', 'role': ''}, {'author_id': '12740', 'role': 'Illustrator'}, {'author_id': '29578', 'role': 'Illustrator'}]\",\n",
       "       \"[{'author_id': '16807', 'role': 'Writer, Artist'}]\",\n",
       "       \"[{'author_id': '1221698', 'role': ''}, {'author_id': '13359', 'role': 'Illustrator'}, {'author_id': '7271', 'role': 'Illustrator'}, {'author_id': '52930', 'role': 'Illustrator'}, {'author_id': '321799', 'role': 'Letterer'}, {'author_id': '4323624', 'role': 'Introduction/Editor'}]\",\n",
       "       \"[{'author_id': '1977', 'role': ''}]\",\n",
       "       \"[{'author_id': '6984726', 'role': ''}]\",\n",
       "       \"[{'author_id': '26306', 'role': ''}, {'author_id': '17406', 'role': 'Translator'}, {'author_id': '1313638', 'role': 'Translator'}]\",\n",
       "       \"[{'author_id': '6238', 'role': ''}, {'author_id': '3043169', 'role': 'Translator'}]\",\n",
       "       \"[{'author_id': '3961', 'role': ''}, {'author_id': '55409', 'role': 'Illustrator'}, {'author_id': '61388', 'role': 'Introduction'}]\",\n",
       "       \"[{'author_id': '144405', 'role': ''}]\",\n",
       "       \"[{'author_id': '11047', 'role': ''}, {'author_id': '2586822', 'role': 'Translator'}]\",\n",
       "       \"[{'author_id': '24514', 'role': ''}, {'author_id': '304633', 'role': 'Illustrator'}]\",\n",
       "       \"[{'author_id': '21618', 'role': ''}]\",\n",
       "       \"[{'author_id': '12444', 'role': 'Writer'}, {'author_id': '171691', 'role': 'Artist'}, {'author_id': '74339', 'role': 'Artist'}, {'author_id': '180972', 'role': 'Artist'}, {'author_id': '92148', 'role': 'Cover Artist'}]\",\n",
       "       \"[{'author_id': '4698899', 'role': ''}, {'author_id': '1945379', 'role': 'Translator'}]\",\n",
       "       \"[{'author_id': '153732', 'role': ''}, {'author_id': '1411091', 'role': 'Translator'}]\",\n",
       "       \"[{'author_id': '5365396', 'role': ''}, {'author_id': '3014566', 'role': 'Translator'}]\",\n",
       "       \"[{'author_id': '24514', 'role': ''}, {'author_id': '90560', 'role': 'Illustrator'}, {'author_id': '1624574', 'role': 'Illustrator'}]\",\n",
       "       \"[{'author_id': '2988406', 'role': ''}, {'author_id': '1411091', 'role': 'Translator'}]\",\n",
       "       \"[{'author_id': '14151', 'role': ''}]\",\n",
       "       \"[{'author_id': '1221698', 'role': ''}, {'author_id': '10296', 'role': 'Illustrator'}, {'author_id': '10763', 'role': 'Illustrator'}, {'author_id': '24604', 'role': 'Illustrator'}, {'author_id': '52930', 'role': 'Illustrator'}, {'author_id': '5279', 'role': 'Introduction'}]\",\n",
       "       \"[{'author_id': '208650', 'role': ''}, {'author_id': '572105', 'role': 'Translator'}]\",\n",
       "       \"[{'author_id': '150810', 'role': ''}, {'author_id': '362098', 'role': 'Translator'}]\",\n",
       "       \"[{'author_id': '5951', 'role': ''}, {'author_id': '166029', 'role': 'Colorist  '}]\",\n",
       "       \"[{'author_id': '13681', 'role': ''}, {'author_id': '3470', 'role': ''}, {'author_id': '12738', 'role': 'Illustrator'}, {'author_id': '156274', 'role': 'Illustrator'}, {'author_id': '3389', 'role': 'original story'}]\",\n",
       "       \"[{'author_id': '815259', 'role': ''}, {'author_id': '4978', 'role': 'Artist'}]\",\n",
       "       \"[{'author_id': '12425', 'role': ''}]\",\n",
       "       \"[{'author_id': '55794', 'role': 'Adaptor'}, {'author_id': '3389', 'role': 'Story'}, {'author_id': '61368', 'role': 'Illustrator'}, {'author_id': '57450', 'role': 'Illustrator'}]\",\n",
       "       \"[{'author_id': '32594', 'role': ''}, {'author_id': '61388', 'role': 'Illustrator'}, {'author_id': '399434', 'role': 'Colors'}, {'author_id': '93215', 'role': 'Letters'}]\",\n",
       "       \"[{'author_id': '1221698', 'role': ''}, {'author_id': '554069', 'role': 'Illustrator'}, {'author_id': '12726', 'role': 'Illustrator'}, {'author_id': '10224', 'role': 'Illustrator'}, {'author_id': '7271', 'role': 'Illustrator'}, {'author_id': '52930', 'role': 'Illustrator'}, {'author_id': '321799', 'role': 'Letterer'}, {'author_id': '10366', 'role': 'Introduction'}]\",\n",
       "       \"[{'author_id': '14965', 'role': ''}, {'author_id': '33532', 'role': 'Illustrator'}, {'author_id': '58971', 'role': 'Introduction'}]\",\n",
       "       \"[{'author_id': '5129', 'role': ''}]\",\n",
       "       \"[{'author_id': '68959', 'role': ''}]\",\n",
       "       \"[{'author_id': '10182', 'role': ''}, {'author_id': '15083', 'role': ''}]\",\n",
       "       \"[{'author_id': '21982', 'role': ''}]\",\n",
       "       \"[{'author_id': '13778', 'role': ''}]\",\n",
       "       \"[{'author_id': '6887314', 'role': ''}]\",\n",
       "       \"[{'author_id': '164127', 'role': ''}, {'author_id': '1411091', 'role': 'Translator'}]\",\n",
       "       \"[{'author_id': '12948', 'role': ''}]\",\n",
       "       \"[{'author_id': '6238', 'role': ''}, {'author_id': '3141986', 'role': 'Translator'}]\",\n",
       "       \"[{'author_id': '12732', 'role': ''}, {'author_id': '10365', 'role': 'Illustrator'}]\",\n",
       "       \"[{'author_id': '21618', 'role': ''}, {'author_id': '536204', 'role': 'Colorist'}]\",\n",
       "       \"[{'author_id': '1221698', 'role': ''}, {'author_id': '9934', 'role': 'Illustrator'}, {'author_id': '61983', 'role': 'Illustrator'}, {'author_id': '81221', 'role': 'Illustrator'}, {'author_id': '10296', 'role': 'Illustrator'}, {'author_id': '38328', 'role': 'Illustrator'}, {'author_id': '7271', 'role': 'Illustrator'}, {'author_id': '52930', 'role': 'Illustrator'}, {'author_id': '321799', 'role': 'Letterer'}, {'author_id': '7415', 'role': 'Introduction'}]\",\n",
       "       \"[{'author_id': '1221698', 'role': ''}, {'author_id': '9717', 'role': 'Illustrator'}, {'author_id': '156274', 'role': 'Digital Painter'}, {'author_id': '15392', 'role': 'Introduction'}]\",\n",
       "       \"[{'author_id': '14144506', 'role': ''}]\",\n",
       "       \"[{'author_id': '5363', 'role': ''}, {'author_id': '13265', 'role': 'Illustrator'}, {'author_id': '7154717', 'role': 'Introduction'}]\",\n",
       "       \"[{'author_id': '15085', 'role': ''}]\",\n",
       "       \"[{'author_id': '5770', 'role': 'Adaptor'}, {'author_id': '3565', 'role': ''}, {'author_id': '2983802', 'role': 'Illustrator'}]\",\n",
       "       \"[{'author_id': '568999', 'role': ''}]\",\n",
       "       \"[{'author_id': '3961', 'role': ''}, {'author_id': '61919', 'role': 'Illustrator'}]\",\n",
       "       \"[{'author_id': '4107314', 'role': ''}, {'author_id': '4820144', 'role': 'Translator'}]\",\n",
       "       \"[{'author_id': '21578', 'role': ''}]\",\n",
       "       \"[{'author_id': '2830569', 'role': ''}, {'author_id': '1411091', 'role': 'Translator'}]\",\n",
       "       \"[{'author_id': '941441', 'role': ''}, {'author_id': '4379470', 'role': 'Art/Adaptation'}]\",\n",
       "       \"[{'author_id': '1221698', 'role': ''}, {'author_id': '330166', 'role': 'Illustrator'}, {'author_id': '24604', 'role': 'Illustrator'}, {'author_id': '264213', 'role': 'Illustrator'}, {'author_id': '61983', 'role': 'Illustrator'}, {'author_id': '430044', 'role': 'Illustrator'}, {'author_id': '81221', 'role': 'Illustrator'}, {'author_id': '321799', 'role': 'Letterer'}]\",\n",
       "       \"[{'author_id': '18100', 'role': ''}, {'author_id': '7870196', 'role': 'Translator'}]\",\n",
       "       \"[{'author_id': '1221698', 'role': ''}, {'author_id': '9931', 'role': 'Illustrator'}, {'author_id': '92725', 'role': 'Illustrator'}, {'author_id': '6941', 'role': 'Introduction'}]\",\n",
       "       \"[{'author_id': '12736', 'role': ''}, {'author_id': '52927', 'role': 'Illustrator'}, {'author_id': '69030', 'role': 'Illustrator'}, {'author_id': '234377', 'role': 'Illustrator'}, {'author_id': '17303138', 'role': 'Illustrator'}]\",\n",
       "       \"[{'author_id': '1221698', 'role': ''}, {'author_id': '264213', 'role': 'Illustrator'}, {'author_id': '430044', 'role': 'Illustrator'}, {'author_id': '38328', 'role': 'Illustrator'}, {'author_id': '330166', 'role': 'Illustrator'}, {'author_id': '2568404', 'role': 'Illustrator'}, {'author_id': '9931', 'role': 'Illustrator'}, {'author_id': '2896679', 'role': 'Illustrator'}, {'author_id': '723222', 'role': 'Illustrator'}, {'author_id': '321799', 'role': 'Letterer'}]\",\n",
       "       \"[{'author_id': '2776647', 'role': 'Illustrator'}]\",\n",
       "       \"[{'author_id': '117369', 'role': ''}]\",\n",
       "       \"[{'author_id': '8476', 'role': ''}, {'author_id': '3855795', 'role': 'Translator'}]\",\n",
       "       \"[{'author_id': '12732', 'role': ''}, {'author_id': '21709', 'role': ''}]\",\n",
       "       \"[{'author_id': '1221698', 'role': ''}, {'author_id': '12726', 'role': 'Illustrator'}, {'author_id': '55811', 'role': 'Illustrator'}, {'author_id': '43292', 'role': 'Introduction'}]\",\n",
       "       \"[{'author_id': '3447947', 'role': ''}]\",\n",
       "       \"[{'author_id': '8476', 'role': ''}, {'author_id': '550302', 'role': 'Translator'}]\",\n",
       "       \"[{'author_id': '27372', 'role': ''}]\",\n",
       "       \"[{'author_id': '38954', 'role': ''}]\",\n",
       "       \"[{'author_id': '21574', 'role': ''}]\",\n",
       "       \"[{'author_id': '61382', 'role': 'Writer'}, {'author_id': '61385', 'role': 'Artist, #1-3'}, {'author_id': '205814', 'role': 'Artist, #4-5'}, {'author_id': '29683', 'role': 'Color Artist'}, {'author_id': '92897', 'role': 'Letterer'}, {'author_id': '15089', 'role': 'Penciler'}]\",\n",
       "       \"[{'author_id': '1221698', 'role': ''}, {'author_id': '10224', 'role': 'Illustrator'}, {'author_id': '12733', 'role': 'Illustrator'}, {'author_id': '10763', 'role': 'Illustrator'}, {'author_id': '9081', 'role': 'Introduction'}]\",\n",
       "       \"[{'author_id': '6887314', 'role': ''}, {'author_id': '8202497', 'role': ''}, {'author_id': '304640', 'role': ''}, {'author_id': '3335762', 'role': 'Illustrator'}, {'author_id': '6928546', 'role': ''}, {'author_id': '8421036', 'role': ''}, {'author_id': '288119', 'role': 'Illustrator'}, {'author_id': '9836416', 'role': 'Illustrator'}, {'author_id': '5481957', 'role': 'Illustrator'}, {'author_id': '8504554', 'role': 'Illustrator'}]\",\n",
       "       \"[{'author_id': '1221698', 'role': ''}, {'author_id': '40292', 'role': 'Illustrator'}, {'author_id': '89468', 'role': 'Illustrator'}, {'author_id': '19291', 'role': 'Illustrator'}, {'author_id': '188344', 'role': 'Illustrator'}, {'author_id': '2896686', 'role': 'Illustrator'}, {'author_id': '10763', 'role': 'Illustrator'}, {'author_id': '114430', 'role': 'Illustrator'}, {'author_id': '14022', 'role': 'Illustrator'}, {'author_id': '321799', 'role': 'Letterer'}, {'author_id': '779', 'role': 'Introduction'}]\",\n",
       "       \"[{'author_id': '32594', 'role': ''}, {'author_id': '15090', 'role': 'Illustrator'}, {'author_id': '5763607', 'role': 'Illustrator'}]\",\n",
       "       \"[{'author_id': '1221698', 'role': ''}, {'author_id': '57285', 'role': 'Illustrator'}, {'author_id': '1231342', 'role': 'Illustrator'}, {'author_id': '55811', 'role': 'Illustrator'}, {'author_id': '2896683', 'role': 'Illustrator'}, {'author_id': '24595', 'role': 'Illustrator'}, {'author_id': '74339', 'role': 'Illustrator'}, {'author_id': '92725', 'role': 'Illustrator'}, {'author_id': '105778', 'role': 'Illustrator'}, {'author_id': '1373293', 'role': 'Illustrator'}, {'author_id': '264213', 'role': 'Illustrator'}, {'author_id': '2568404', 'role': 'Illustrator'}, {'author_id': '321799', 'role': 'Letterer'}, {'author_id': '10224', 'role': 'Illustrator'}, {'author_id': '3389', 'role': 'Introduction'}]\",\n",
       "       \"[{'author_id': '483588', 'role': ''}, {'author_id': '634455', 'role': ''}]\",\n",
       "       \"[{'author_id': '12425', 'role': ''}, {'author_id': '16965', 'role': 'Penciller/Inker/Gray-toner'}, {'author_id': '16962', 'role': 'Penciller/Inker'}, {'author_id': '16966', 'role': 'Gray-toner'}]\",\n",
       "       \"[{'author_id': '70026', 'role': 'Writer'}, {'author_id': '166639', 'role': 'Illustrator'}, {'author_id': '436713', 'role': 'Illustrator'}]\",\n",
       "       \"[{'author_id': '12772', 'role': ''}, {'author_id': '4825247', 'role': 'Illustrator'}, {'author_id': '14965', 'role': 'Introduction'}]\",\n",
       "       \"[{'author_id': '12736', 'role': ''}, {'author_id': '444929', 'role': 'Illustrator'}, {'author_id': '93208', 'role': 'Introduction'}]\",\n",
       "       \"[{'author_id': '732829', 'role': ''}]\",\n",
       "       \"[{'author_id': '9018', 'role': ''}, {'author_id': '205493', 'role': 'Illustrator'}, {'author_id': '1221698', 'role': ''}]\",\n",
       "       \"[{'author_id': '184459', 'role': ''}, {'author_id': '15553', 'role': 'Colorist '}]\",\n",
       "       \"[{'author_id': '93094', 'role': ''}, {'author_id': '16658071', 'role': 'Illustrator'}]\",\n",
       "       \"[{'author_id': '24514', 'role': ''}, {'author_id': '674079', 'role': 'Illustrator'}, {'author_id': '93125', 'role': 'Illustrator'}]\",\n",
       "       \"[{'author_id': '5951', 'role': ''}]\",\n",
       "       \"[{'author_id': '2686', 'role': ''}]\",\n",
       "       \"[{'author_id': '155990', 'role': ''}, {'author_id': '7376837', 'role': 'Translator'}, {'author_id': '790145', 'role': 'Editor'}]\",\n",
       "       \"[{'author_id': '439887', 'role': ''}, {'author_id': '221821', 'role': 'Illustrations'}, {'author_id': '705826', 'role': 'Colorist'}, {'author_id': '6523626', 'role': ''}]\",\n",
       "       \"[{'author_id': '5737121', 'role': ''}, {'author_id': '4024810', 'role': 'Artist'}]\",\n",
       "       \"[{'author_id': '3780', 'role': ''}, {'author_id': '1351538', 'role': 'Illustrator'}]\",\n",
       "       \"[{'author_id': '12425', 'role': ''}, {'author_id': '16962', 'role': 'Illustrator'}, {'author_id': '16966', 'role': 'Illustrator'}]\",\n",
       "       \"[{'author_id': '12444', 'role': 'Writer'}, {'author_id': '55811', 'role': 'Artist'}, {'author_id': '74339', 'role': 'Artist'}, {'author_id': '92148', 'role': 'Cover Artist'}]\",\n",
       "       \"[{'author_id': '9355', 'role': 'writer'}, {'author_id': '4845', 'role': 'co-author'}, {'author_id': '28709', 'role': 'adapter'}, {'author_id': '8621', 'role': 'Illustrator'}]\",\n",
       "       \"[{'author_id': '13557729', 'role': 'Adaptation'}, {'author_id': '346732', 'role': ''}, {'author_id': '2924855', 'role': 'Artist'}]\",\n",
       "       \"[{'author_id': '24514', 'role': ''}, {'author_id': '90560', 'role': 'Illustrator'}, {'author_id': '1624574', 'role': 'Illustrator'}, {'author_id': '52926', 'role': 'Illustrator'}]\",\n",
       "       \"[{'author_id': '32594', 'role': ''}, {'author_id': '15090', 'role': 'Illustrator'}, {'author_id': '5763607', 'role': 'Illustrator'}, {'author_id': '162369', 'role': 'Colorist'}, {'author_id': '93215', 'role': 'Letterer'}]\",\n",
       "       \"[{'author_id': '14965', 'role': ''}, {'author_id': '33532', 'role': 'Illustrator'}]\",\n",
       "       \"[{'author_id': '117884', 'role': ''}, {'author_id': '62104', 'role': 'Illustrator'}, {'author_id': '3242', 'role': ''}]\",\n",
       "       \"[{'author_id': '17272', 'role': ''}, {'author_id': '42506', 'role': 'Translator'}]\",\n",
       "       \"[{'author_id': '24514', 'role': ''}, {'author_id': '90560', 'role': 'Illustrator'}, {'author_id': '325407', 'role': 'Illustrator'}, {'author_id': '1624574', 'role': 'Illustrator'}]\",\n",
       "       \"[{'author_id': '3961', 'role': ''}, {'author_id': '5122', 'role': 'illustrator'}, {'author_id': '1935483', 'role': 'illustrator'}]\",\n",
       "       \"[{'author_id': '311098', 'role': ''}, {'author_id': '2855546', 'role': 'Translator'}]\",\n",
       "       \"[{'author_id': '12444', 'role': ''}, {'author_id': '55811', 'role': 'Artist'}, {'author_id': '74339', 'role': 'Artist'}, {'author_id': '92148', 'role': 'Cover Artist'}]\",\n",
       "       \"[{'author_id': '12736', 'role': 'Writer'}, {'author_id': '52727', 'role': 'Artist'}, {'author_id': '611843', 'role': 'Inker'}, {'author_id': '2901524', 'role': 'Colourist'}]\",\n",
       "       \"[{'author_id': '12444', 'role': 'Writer'}, {'author_id': '55811', 'role': 'Artist'}, {'author_id': '180972', 'role': 'Artist'}, {'author_id': '74339', 'role': 'Artist'}, {'author_id': '38328', 'role': 'Artist'}]\",\n",
       "       \"[{'author_id': '17029', 'role': ''}, {'author_id': '184312', 'role': 'Illustrator'}]\",\n",
       "       \"[{'author_id': '18015', 'role': ''}, {'author_id': '77185', 'role': ''}, {'author_id': '77186', 'role': 'Illustrator'}]\",\n",
       "       \"[{'author_id': '3409358', 'role': ''}, {'author_id': '6586067', 'role': ''}]\",\n",
       "       \"[{'author_id': '88506', 'role': ''}, {'author_id': '2751991', 'role': 'Artist'}]\",\n",
       "       \"[{'author_id': '32594', 'role': ''}, {'author_id': '61388', 'role': 'Illustrator'}]\",\n",
       "       \"[{'author_id': '61382', 'role': 'Writer'}, {'author_id': '7359829', 'role': 'Artist'}]\",\n",
       "       \"[{'author_id': '18015', 'role': 'Writer'}, {'author_id': '12775', 'role': 'Artist'}]\",\n",
       "       \"[{'author_id': '24514', 'role': ''}, {'author_id': '90560', 'role': 'Illustrator'}, {'author_id': '54925', 'role': 'Illustrator'}, {'author_id': '1624574', 'role': 'Illustrator'}]\",\n",
       "       \"[{'author_id': '7338', 'role': ''}, {'author_id': '13265', 'role': 'Illustrator'}]\",\n",
       "       \"[{'author_id': '16807', 'role': ''}, {'author_id': '6497026', 'role': 'Colorist'}]\",\n",
       "       \"[{'author_id': '3091065', 'role': ''}, {'author_id': '1411091', 'role': 'Translator'}]\",\n",
       "       \"[{'author_id': '6429079', 'role': ''}, {'author_id': '6928034', 'role': 'Co-writer'}, {'author_id': '51924', 'role': 'Artist'}]\",\n",
       "       \"[{'author_id': '2921970', 'role': ''}]\",\n",
       "       \"[{'author_id': '1221698', 'role': ''}, {'author_id': '105518', 'role': 'Illustrator'}, {'author_id': '2719', 'role': 'Illustrator'}, {'author_id': '205493', 'role': 'Illustrator'}, {'author_id': '10365', 'role': 'Illustrator'}, {'author_id': '38328', 'role': 'Illustrator'}, {'author_id': '31795', 'role': 'Illustrator'}, {'author_id': '260429', 'role': 'Illustrator'}, {'author_id': '21709', 'role': 'Illustrator'}, {'author_id': '321799', 'role': 'Letterer'}]\",\n",
       "       \"[{'author_id': '2849126', 'role': ''}]\",\n",
       "       \"[{'author_id': '18313', 'role': ''}, {'author_id': '61925', 'role': 'Illustrator'}, {'author_id': '61926', 'role': 'Illustrator'}]\",\n",
       "       \"[{'author_id': '19928', 'role': ''}]\",\n",
       "       \"[{'author_id': '1977411', 'role': ''}, {'author_id': '1977410', 'role': ''}]\",\n",
       "       \"[{'author_id': '28995', 'role': ''}]\",\n",
       "       \"[{'author_id': '68959', 'role': 'Writer'}, {'author_id': '1160825', 'role': 'Writer'}, {'author_id': '90808', 'role': 'Writer'}, {'author_id': '1104332', 'role': 'Editor'}, {'author_id': '536204', 'role': 'Illustrator'}]\",\n",
       "       \"[{'author_id': '311365', 'role': ''}, {'author_id': '1411091', 'role': 'Translator'}]\",\n",
       "       \"[{'author_id': '14965', 'role': ''}, {'author_id': '33532', 'role': 'Illustrator'}, {'author_id': '134143', 'role': 'Introduction'}]\",\n",
       "       \"[{'author_id': '56952', 'role': ''}]\",\n",
       "       \"[{'author_id': '12732', 'role': 'Writer'}, {'author_id': '21709', 'role': 'Artist'}]\",\n",
       "       \"[{'author_id': '13557729', 'role': 'Adaptation'}, {'author_id': '346732', 'role': ''}, {'author_id': '2924855', 'role': 'Illustrator'}]\",\n",
       "       \"[{'author_id': '12444', 'role': 'Writer'}, {'author_id': '55811', 'role': 'Illustrator'}, {'author_id': '21708', 'role': 'Illustrator'}, {'author_id': '74339', 'role': 'Illustrator'}]\",\n",
       "       \"[{'author_id': '243395', 'role': ''}, {'author_id': '6154058', 'role': ''}]\",\n",
       "       \"[{'author_id': '24514', 'role': ''}, {'author_id': '4978', 'role': 'Artist'}]\",\n",
       "       \"[{'author_id': '80769', 'role': ''}, {'author_id': '3124779', 'role': 'Illustrator'}]\",\n",
       "       \"[{'author_id': '19886', 'role': ''}, {'author_id': '28709', 'role': ''}, {'author_id': '61925', 'role': 'Illustrator'}, {'author_id': '190062', 'role': 'Illustrator'}, {'author_id': '415768', 'role': 'Illustrator'}, {'author_id': '89150', 'role': 'Illustrator'}]\",\n",
       "       \"[{'author_id': '12444', 'role': 'Writer'}, {'author_id': '55811', 'role': 'Illustrator'}, {'author_id': '74339', 'role': 'Illustrator'}, {'author_id': '148764', 'role': 'Illustrator'}, {'author_id': '54927', 'role': 'Illustrator'}]\",\n",
       "       \"[{'author_id': '732829', 'role': ''}, {'author_id': '8486', 'role': 'Translator'}]\",\n",
       "       \"[{'author_id': '454774', 'role': ''}, {'author_id': '313357', 'role': ''}, {'author_id': '14151', 'role': 'Introduction'}, {'author_id': '18833', 'role': 'Colours'}, {'author_id': '3347127', 'role': 'Lettering'}]\",\n",
       "       \"[{'author_id': '6887314', 'role': ''}, {'author_id': '8202497', 'role': ''}, {'author_id': '6928546', 'role': ''}, {'author_id': '17026335', 'role': ''}, {'author_id': '3335762', 'role': 'Illustrator'}, {'author_id': '8421036', 'role': ''}, {'author_id': '288119', 'role': 'Illustrator'}, {'author_id': '304640', 'role': 'Illustrator'}, {'author_id': '3447947', 'role': 'Illustrator'}, {'author_id': '5481957', 'role': 'Illustrator'}, {'author_id': '907202', 'role': 'Illustrator'}, {'author_id': '9836416', 'role': 'Illustrator'}]\",\n",
       "       \"[{'author_id': '104017', 'role': ''}]\",\n",
       "       \"[{'author_id': '70026', 'role': 'Writer'}, {'author_id': '3389', 'role': ''}, {'author_id': '580495', 'role': 'Illustrator'}]\",\n",
       "       \"[{'author_id': '8476', 'role': ''}, {'author_id': '1892274', 'role': 'Translator'}]\",\n",
       "       \"[{'author_id': '1218557', 'role': 'Writer'}, {'author_id': '313357', 'role': ''}, {'author_id': '18833', 'role': 'Colourist'}, {'author_id': '4497193', 'role': 'Letterer'}, {'author_id': '7756914', 'role': 'Designer'}]\",\n",
       "       \"[{'author_id': '815259', 'role': ''}, {'author_id': '4978', 'role': 'Artist'}, {'author_id': '7376591', 'role': 'Artist'}]\",\n",
       "       \"[{'author_id': '24514', 'role': ''}, {'author_id': '61216', 'role': 'Illustrator'}]\",\n",
       "       \"[{'author_id': '12581', 'role': ''}, {'author_id': '1557381', 'role': 'Illustrations'}]\",\n",
       "       \"[{'author_id': '37450', 'role': ''}, {'author_id': '89369', 'role': 'Illustrator'}, {'author_id': '61371', 'role': 'Illustrator'}, {'author_id': '169663', 'role': 'Illustrator'}, {'author_id': '243826', 'role': 'Illustrator'}]\",\n",
       "       \"[{'author_id': '12425', 'role': ''}, {'author_id': '16962', 'role': ''}, {'author_id': '16966', 'role': ''}]\",\n",
       "       \"[{'author_id': '5737121', 'role': ''}, {'author_id': '4024810', 'role': 'Artist'}, {'author_id': '617155', 'role': 'Artist'}]\",\n",
       "       \"[{'author_id': '1041311', 'role': ''}, {'author_id': '26082', 'role': 'Illustrator'}, {'author_id': '25355', 'role': 'Translator'}, {'author_id': '214952', 'role': 'Translator'}]\",\n",
       "       \"[{'author_id': '9018', 'role': 'Writer'}, {'author_id': '12444', 'role': 'Introduction'}, {'author_id': '14304', 'role': 'Writer, Artist'}]\",\n",
       "       \"[{'author_id': '5365396', 'role': ''}]\",\n",
       "       \"[{'author_id': '17029', 'role': 'Writer'}, {'author_id': '674079', 'role': 'Artist'}, {'author_id': '148764', 'role': 'Artist'}, {'author_id': '131303', 'role': 'Inker'}, {'author_id': '93125', 'role': 'Colourist'}, {'author_id': '2350131', 'role': 'Letterer'}]\",\n",
       "       \"[{'author_id': '14610', 'role': ''}, {'author_id': '304873', 'role': 'Illustrator'}, {'author_id': '321634', 'role': 'Illustrator'}, {'author_id': '18015', 'role': 'Introduction'}]\",\n",
       "       \"[{'author_id': '14965', 'role': ''}, {'author_id': '33532', 'role': 'Illustrator'}, {'author_id': '60520', 'role': 'Illustrator'}]\",\n",
       "       \"[{'author_id': '12425', 'role': ''}, {'author_id': '16962', 'role': 'Illustrator'}]\",\n",
       "       \"[{'author_id': '35022', 'role': 'Writer'}, {'author_id': '377312', 'role': 'Artist'}, {'author_id': '6560735', 'role': 'Letterer, Designer'}]\",\n",
       "       \"[{'author_id': '127404', 'role': ''}, {'author_id': '1360332', 'role': 'Translator'}]\",\n",
       "       \"[{'author_id': '3961', 'role': ''}, {'author_id': '3201168', 'role': 'Illustrator'}, {'author_id': '61338', 'role': 'Illustrator'}, {'author_id': '63220', 'role': 'Illustrator'}, {'author_id': '18253', 'role': 'Foreword'}]\",\n",
       "       \"[{'author_id': '10182', 'role': ''}]\",\n",
       "       \"[{'author_id': '189344', 'role': ''}]\",\n",
       "       \"[{'author_id': '53559', 'role': ''}, {'author_id': '3887388', 'role': 'Translator'}, {'author_id': '15087879', 'role': 'Translator'}, {'author_id': '61913', 'role': 'Translator'}]\",\n",
       "       \"[{'author_id': '70026', 'role': 'Writer'}, {'author_id': '59840', 'role': 'Artist'}, {'author_id': '286833', 'role': 'Artist'}, {'author_id': '2350131', 'role': 'Letterer'}, {'author_id': '3500055', 'role': 'Letterer'}, {'author_id': '14919094', 'role': 'Colourist'}]\",\n",
       "       \"[{'author_id': '61382', 'role': 'Writer'}, {'author_id': '61385', 'role': 'Artist, #6 & #8-11'}, {'author_id': '286833', 'role': 'Art & Color, #10'}, {'author_id': '2720', 'role': 'Artist, #7'}, {'author_id': '1002810', 'role': 'Artist, #7'}, {'author_id': '3193036', 'role': 'Cover Art, #8'}, {'author_id': '29683', 'role': 'Color Artist, #6-9 & #11'}, {'author_id': '92897', 'role': 'Letterer'}]\",\n",
       "       \"[{'author_id': '19710', 'role': 'adaptor'}, {'author_id': '2751991', 'role': 'Artist'}, {'author_id': '10366', 'role': 'Based On Work by'}]\",\n",
       "       \"[{'author_id': '12444', 'role': 'Writer'}, {'author_id': '55811', 'role': 'Illustrator'}, {'author_id': '74339', 'role': 'Illustrator'}, {'author_id': '330166', 'role': 'Illustrator'}, {'author_id': '148765', 'role': 'Illustrator'}]\",\n",
       "       \"[{'author_id': '11047', 'role': ''}, {'author_id': '429889', 'role': 'Translator'}]\",\n",
       "       \"[{'author_id': '803937', 'role': ''}, {'author_id': '5225537', 'role': ''}]\",\n",
       "       \"[{'author_id': '12444', 'role': 'Writer'}, {'author_id': '55811', 'role': 'Illustrator'}, {'author_id': '74339', 'role': 'Illustrator'}, {'author_id': '148765', 'role': 'Illustrator'}, {'author_id': '89614', 'role': 'Illustrator'}, {'author_id': '261703', 'role': 'Illustrator'}, {'author_id': '1385318', 'role': 'Illustrator'}, {'author_id': '57285', 'role': 'Illustrator'}]\",\n",
       "       \"[{'author_id': '1221698', 'role': ''}, {'author_id': '38328', 'role': 'Adaptor/Illustrator'}]\",\n",
       "       \"[{'author_id': '14965', 'role': ''}, {'author_id': '33532', 'role': 'Illustrator'}, {'author_id': '191938', 'role': 'Illustrator'}, {'author_id': '29683', 'role': 'Colors'}, {'author_id': '54919', 'role': 'Illustrator'}, {'author_id': '89468', 'role': 'Illustrator'}]\",\n",
       "       \"[{'author_id': '12424', 'role': 'Writer'}, {'author_id': '61314', 'role': 'Penciler'}, {'author_id': '8503442', 'role': 'Inker'}, {'author_id': '55804', 'role': 'Inker'}, {'author_id': '89366', 'role': 'Inker'}, {'author_id': '286007', 'role': 'Inker'}, {'author_id': '3874180', 'role': 'Colourist'}, {'author_id': '92897', 'role': 'Letterer'}, {'author_id': '15550777', 'role': 'Production'}, {'author_id': '15553102', 'role': 'Production'}, {'author_id': '15554080', 'role': 'Production'}, {'author_id': '414057', 'role': 'Cover Artist'}]\",\n",
       "       \"[{'author_id': '1221698', 'role': ''}, {'author_id': '4743', 'role': 'Illustrator'}]\",\n",
       "       \"[{'author_id': '2789878', 'role': ''}, {'author_id': '4636983', 'role': ''}]\",\n",
       "       \"[{'author_id': '153732', 'role': ''}]\",\n",
       "       \"[{'author_id': '1221698', 'role': ''}, {'author_id': '9717', 'role': 'Illustrator'}, {'author_id': '9934', 'role': 'Illustrator'}, {'author_id': '78730', 'role': 'Illustrator'}, {'author_id': '9937', 'role': 'Illustrator'}, {'author_id': '55811', 'role': 'Illustrator'}]\",\n",
       "       \"[{'author_id': '14965', 'role': ''}, {'author_id': '33532', 'role': 'Illustrator'}, {'author_id': '54918', 'role': 'Illustrator'}]\",\n",
       "       \"[{'author_id': '1018547', 'role': ''}, {'author_id': '6420321', 'role': ''}]\",\n",
       "       \"[{'author_id': '12732', 'role': 'Writer'}, {'author_id': '21709', 'role': 'Artist'}, {'author_id': '166641', 'role': 'Penciler'}, {'author_id': '436713', 'role': 'Inker'}, {'author_id': '162369', 'role': 'Colourist'}]\",\n",
       "       \"[{'author_id': '70026', 'role': 'Writer'}, {'author_id': '166639', 'role': 'Illustrator'}, {'author_id': '436713', 'role': 'Illustrator'}, {'author_id': '6852949', 'role': 'Writer'}, {'author_id': '580495', 'role': 'Illustrator'}, {'author_id': '6840806', 'role': 'Illustrator'}, {'author_id': '40998', 'role': 'Illustrator'}, {'author_id': '17256038', 'role': 'Illustrator'}, {'author_id': '323516', 'role': 'Illustrator'}]\",\n",
       "       \"[{'author_id': '227159', 'role': ''}]\",\n",
       "       \"[{'author_id': '878225', 'role': ''}]\",\n",
       "       \"[{'author_id': '16587', 'role': 'Writer'}, {'author_id': '93099', 'role': 'Artist'}, {'author_id': '7255732', 'role': 'Artist'}]\",\n",
       "       \"[{'author_id': '137561', 'role': ''}, {'author_id': '266721', 'role': ''}]\",\n",
       "       \"[{'author_id': '45429', 'role': ''}]\",\n",
       "       \"[{'author_id': '2881050', 'role': ''}]\",\n",
       "       \"[{'author_id': '131388', 'role': ''}]\",\n",
       "       \"[{'author_id': '247415', 'role': ''}, {'author_id': '4060930', 'role': 'Translator'}]\",\n",
       "       \"[{'author_id': '12444', 'role': 'Writer'}, {'author_id': '55811', 'role': 'Pencils'}, {'author_id': '74339', 'role': 'Inks'}, {'author_id': '176141', 'role': 'Pencils'}, {'author_id': '54927', 'role': 'Inks'}, {'author_id': '148765', 'role': 'Inks'}]\",\n",
       "       \"[{'author_id': '243395', 'role': ''}]\",\n",
       "       \"[{'author_id': '10746', 'role': ''}, {'author_id': '1186079', 'role': 'Illustrator'}]\",\n",
       "       \"[{'author_id': '12772', 'role': ''}, {'author_id': '12771', 'role': 'Illustrator'}]\",\n",
       "       \"[{'author_id': '731384', 'role': ''}]\",\n",
       "       \"[{'author_id': '12425', 'role': ''}, {'author_id': '16962', 'role': ''}]\",\n",
       "       \"[{'author_id': '12444', 'role': 'Writer'}, {'author_id': '55811', 'role': 'Illustrator'}, {'author_id': '74339', 'role': 'Illustrator'}, {'author_id': '735312', 'role': 'Illustrator'}, {'author_id': '148765', 'role': 'Illustrator'}]\",\n",
       "       \"[{'author_id': '1221698', 'role': 'Writer'}, {'author_id': '7271', 'role': 'Artist'}, {'author_id': '12726', 'role': 'Artist'}, {'author_id': '10224', 'role': 'Artist'}, {'author_id': '61959', 'role': 'Artist'}, {'author_id': '10763', 'role': 'Artist'}, {'author_id': '24604', 'role': 'Artist'}, {'author_id': '52930', 'role': 'Artist'}, {'author_id': '554069', 'role': 'Artist'}, {'author_id': '2807481', 'role': 'Colourist'}, {'author_id': '2808576', 'role': 'Colourist'}, {'author_id': '61964', 'role': 'Colourist'}, {'author_id': '321799', 'role': 'Letterer'}, {'author_id': '10365', 'role': 'Cover Artist'}, {'author_id': '13359', 'role': 'Artist'}]\",\n",
       "       \"[{'author_id': '11047', 'role': ''}]\",\n",
       "       \"[{'author_id': '204812', 'role': ''}, {'author_id': '204811', 'role': 'Illustrator'}]\",\n",
       "       \"[{'author_id': '46027', 'role': ''}]\",\n",
       "       \"[{'author_id': '815259', 'role': ''}, {'author_id': '98075', 'role': 'Artist'}, {'author_id': '13840521', 'role': 'Artist'}]\",\n",
       "       \"[{'author_id': '311365', 'role': ''}]\",\n",
       "       \"[{'author_id': '2689', 'role': 'Writer'}, {'author_id': '53979', 'role': 'Artist'}, {'author_id': '701950', 'role': 'Inker'}, {'author_id': '7456734', 'role': 'Colourist'}, {'author_id': '1227266', 'role': 'Letterer'}]\",\n",
       "       \"[{'author_id': '17029', 'role': ''}, {'author_id': '54360', 'role': 'Illustrator'}]\",\n",
       "       \"[{'author_id': '6153795', 'role': ''}, {'author_id': '183475', 'role': 'Illustrator'}, {'author_id': '63221', 'role': 'Illustrator'}]\",\n",
       "       \"[{'author_id': '153742', 'role': ''}]\",\n",
       "       \"[{'author_id': '4958172', 'role': ''}]\",\n",
       "       \"[{'author_id': '439887', 'role': ''}, {'author_id': '221821', 'role': 'Illustrator'}, {'author_id': '705826', 'role': 'Colorist'}, {'author_id': '6523626', 'role': ''}]\",\n",
       "       \"[{'author_id': '10178', 'role': ''}, {'author_id': '1425345', 'role': 'Illustrator'}]\",\n",
       "       \"[{'author_id': '24610', 'role': ''}, {'author_id': '4457930', 'role': ''}]\",\n",
       "       \"[{'author_id': '49177', 'role': ''}, {'author_id': '556969', 'role': 'Illustrator'}, {'author_id': '1157440', 'role': ''}]\",\n",
       "       \"[{'author_id': '2688', 'role': ''}, {'author_id': '22723', 'role': ''}, {'author_id': '89525', 'role': 'Illustrator'}, {'author_id': '89526', 'role': 'Illustrator'}, {'author_id': '67362', 'role': ''}, {'author_id': '22722', 'role': ''}, {'author_id': '89520', 'role': 'Illustrator'}, {'author_id': '36048', 'role': 'Illustrator'}, {'author_id': '4960064', 'role': 'Illustrator'}, {'author_id': '89522', 'role': 'Illustrator'}, {'author_id': '89523', 'role': 'Illustrator'}, {'author_id': '91788', 'role': 'Illustrator'}]\",\n",
       "       \"[{'author_id': '276252', 'role': ''}]\",\n",
       "       \"[{'author_id': '12425', 'role': 'Writer'}, {'author_id': '16962', 'role': 'Illustrator'}]\",\n",
       "       \"[{'author_id': '304060', 'role': ''}]\",\n",
       "       \"[{'author_id': '150820', 'role': 'Adapter'}, {'author_id': '106', 'role': ''}]\",\n",
       "       \"[{'author_id': '15872', 'role': ''}, {'author_id': '105630', 'role': 'Adaptor'}, {'author_id': '12739', 'role': 'Illustrator'}, {'author_id': '3376756', 'role': 'Illustrator'}]\",\n",
       "       \"[{'author_id': '68959', 'role': ''}, {'author_id': '90808', 'role': ''}, {'author_id': '536204', 'role': ''}, {'author_id': '1160825', 'role': ''}]\",\n",
       "       \"[{'author_id': '12732', 'role': ''}, {'author_id': '21709', 'role': 'Illustrator'}]\",\n",
       "       \"[{'author_id': '8454', 'role': 'Adapted by'}, {'author_id': '8455', 'role': 'Artist'}, {'author_id': '346732', 'role': ''}]\",\n",
       "       \"[{'author_id': '6887314', 'role': 'Writer, Creator'}, {'author_id': '8202497', 'role': 'Writer, Creator'}, {'author_id': '6928546', 'role': 'Creator'}, {'author_id': '6851809', 'role': 'Colourist'}, {'author_id': '3335762', 'role': 'Illustrator'}]\",\n",
       "       \"[{'author_id': '12425', 'role': 'Scriptwriter'}, {'author_id': '16962', 'role': 'Penciller/Inker'}, {'author_id': '16966', 'role': 'Gray-toner'}, {'author_id': '6560735', 'role': 'Letterer'}]\",\n",
       "       \"[{'author_id': '12772', 'role': ''}, {'author_id': '12771', 'role': 'Illustrator'}, {'author_id': '12773', 'role': 'Illustrator'}]\",\n",
       "       \"[{'author_id': '8476', 'role': ''}, {'author_id': '299142', 'role': 'Translator'}]\",\n",
       "       \"[{'author_id': '137561', 'role': ''}, {'author_id': '266721', 'role': 'Illustrations'}, {'author_id': '2679817', 'role': 'Colorist'}]\",\n",
       "       \"[{'author_id': '1221698', 'role': ''}, {'author_id': '15087', 'role': 'Illustrator'}, {'author_id': '10762', 'role': 'Illustrator'}, {'author_id': '10763', 'role': 'Illustrator'}, {'author_id': '1230637', 'role': 'Illustrator'}, {'author_id': '3619', 'role': 'Introduction'}]\",\n",
       "       \"[{'author_id': '10746', 'role': ''}, {'author_id': '203762', 'role': ''}, {'author_id': '1186079', 'role': 'Illustrator'}]\",\n",
       "       \"[{'author_id': '12772', 'role': 'Writer'}, {'author_id': '12775', 'role': 'Artist'}]\",\n",
       "       \"[{'author_id': '150038', 'role': ''}, {'author_id': '7741274', 'role': 'Illustrator'}]\",\n",
       "       \"[{'author_id': '96428', 'role': 'Adaptor'}, {'author_id': '1630', 'role': ''}]\",\n",
       "       \"[{'author_id': '10305', 'role': 'Writer'}, {'author_id': '15090', 'role': 'Penciler'}, {'author_id': '5763607', 'role': 'Inker'}, {'author_id': '306749', 'role': 'Artist'}, {'author_id': '701950', 'role': 'Inker'}, {'author_id': '1644135', 'role': 'Inker'}, {'author_id': '98333', 'role': 'Inker'}, {'author_id': '1200380', 'role': 'Letterer'}, {'author_id': '162369', 'role': 'Colourist'}, {'author_id': '7008579', 'role': 'Colourist'}, {'author_id': '4019594', 'role': 'Colourist'}]\",\n",
       "       \"[{'author_id': '5553', 'role': ''}, {'author_id': '1221698', 'role': 'introduction'}]\",\n",
       "       \"[{'author_id': '12444', 'role': 'Writer'}, {'author_id': '55811', 'role': 'Illustrator'}, {'author_id': '74339', 'role': 'Illustrator'}, {'author_id': '61216', 'role': 'Illustrator'}, {'author_id': '148765', 'role': 'Illustrator'}]\",\n",
       "       \"[{'author_id': '7241543', 'role': ''}, {'author_id': '5951', 'role': 'Illustrator'}, {'author_id': '27140', 'role': ''}, {'author_id': '166029', 'role': 'Colorist'}]\",\n",
       "       \"[{'author_id': '1221698', 'role': ''}, {'author_id': '12726', 'role': 'Illustrator'}, {'author_id': '55811', 'role': 'Illustrator'}, {'author_id': '305137', 'role': 'Illustrator'}, {'author_id': '3499618', 'role': 'Introduction'}]\",\n",
       "       \"[{'author_id': '10305', 'role': 'Writer'}, {'author_id': '57742', 'role': 'Penciller'}, {'author_id': '3995439', 'role': 'Inker'}, {'author_id': '20041', 'role': 'Colourist, Cover Artist'}, {'author_id': '1227266', 'role': 'Letterer'}]\",\n",
       "       \"[{'author_id': '543719', 'role': 'Writer, Artist, Water Colourist'}, {'author_id': '12739', 'role': 'Colourist'}, {'author_id': '6950033', 'role': 'Letterer'}]\",\n",
       "       \"[{'author_id': '12444', 'role': 'Writer'}, {'author_id': '8999', 'role': 'Illustrator'}, {'author_id': '15087', 'role': 'Illustrator'}, {'author_id': '55811', 'role': 'Illustrator'}, {'author_id': '92148', 'role': 'Illustrator'}, {'author_id': '150817', 'role': 'Illustrator'}, {'author_id': '4593073', 'role': 'Illustrator'}, {'author_id': '9931', 'role': 'Illustrator'}, {'author_id': '118461', 'role': 'Illustrator'}, {'author_id': '13853447', 'role': 'Illustrator'}, {'author_id': '10763', 'role': 'Illustrator'}]\",\n",
       "       \"[{'author_id': '12772', 'role': ''}, {'author_id': '12771', 'role': 'Illustrator'}, {'author_id': '12773', 'role': 'Illustrator'}, {'author_id': '4825240', 'role': 'Illustrator'}]\",\n",
       "       \"[{'author_id': '32716', 'role': ''}, {'author_id': '80147', 'role': ''}, {'author_id': '5399893', 'role': 'Illustrator'}, {'author_id': '4423366', 'role': 'Illustrator'}]\",\n",
       "       \"[{'author_id': '15085', 'role': 'Writer/Illustrator'}, {'author_id': '29578', 'role': 'Colorist'}, {'author_id': '321799', 'role': 'Letterer'}]\",\n",
       "       \"[{'author_id': '3212743', 'role': ''}]\",\n",
       "       \"[{'author_id': '15091', 'role': ''}, {'author_id': '15083', 'role': 'Illustrator'}]\",\n",
       "       \"[{'author_id': '18327', 'role': ''}, {'author_id': '884135', 'role': 'Illustrator'}, {'author_id': '4085286', 'role': 'Introduction'}]\",\n",
       "       \"[{'author_id': '61384', 'role': 'Adaptor'}, {'author_id': '56059', 'role': 'Illustrator'}, {'author_id': '3389', 'role': 'original story'}]\",\n",
       "       \"[{'author_id': '82969', 'role': ''}]\",\n",
       "       \"[{'author_id': '12803', 'role': 'Script, plot'}, {'author_id': '9717', 'role': 'Pencils'}, {'author_id': '156274', 'role': 'Digital painting'}, {'author_id': '12801', 'role': 'Plot'}, {'author_id': '12802', 'role': 'Plot'}]\",\n",
       "       \"[{'author_id': '996558', 'role': ''}]\",\n",
       "       \"[{'author_id': '2802356', 'role': ''}, {'author_id': '913590', 'role': 'Translator'}, {'author_id': '85169', 'role': 'Translator'}]\",\n",
       "       \"[{'author_id': '9018', 'role': ''}, {'author_id': '10762', 'role': 'Illustrator'}, {'author_id': '24602', 'role': 'Illustrator'}, {'author_id': '2976808', 'role': 'Illustrator'}, {'author_id': '488727', 'role': 'Illustrator'}, {'author_id': '114430', 'role': 'Illustrator'}, {'author_id': '1221698', 'role': 'Foreword'}]\",\n",
       "       \"[{'author_id': '145435', 'role': ''}, {'author_id': '241687', 'role': 'Translator'}]\",\n",
       "       \"[{'author_id': '68959', 'role': 'Writer'}, {'author_id': '90808', 'role': 'Writer'}, {'author_id': '1160825', 'role': 'Writer'}, {'author_id': '536204', 'role': 'Illustrator'}]\",\n",
       "       \"[{'author_id': '6884287', 'role': ''}]\",\n",
       "       \"[{'author_id': '12424', 'role': 'Writer'}, {'author_id': '12443', 'role': 'Artist'}]\",\n",
       "       \"[{'author_id': '3961', 'role': ''}, {'author_id': '93458', 'role': 'Illustrator'}, {'author_id': '1425345', 'role': 'Illustrator'}, {'author_id': '375505', 'role': 'Illustrator'}]\",\n",
       "       \"[{'author_id': '24514', 'role': 'Writer'}, {'author_id': '90560', 'role': 'Penciller'}, {'author_id': '1624574', 'role': 'Inker'}, {'author_id': '2921827', 'role': 'Colorist'}, {'author_id': '54362', 'role': 'Letterer'}, {'author_id': '89372', 'role': 'Covers'}]\",\n",
       "       \"[{'author_id': '18015', 'role': ''}, {'author_id': '453843', 'role': 'Penciller'}, {'author_id': '306751', 'role': 'Inker'}, {'author_id': '18833', 'role': 'Colorist'}, {'author_id': '452070', 'role': 'Colorist, Letterer'}]\",\n",
       "       \"[{'author_id': '162936', 'role': 'Writer'}, {'author_id': '330166', 'role': 'Illustrator'}, {'author_id': '6851813', 'role': 'Cover Artist'}]\",\n",
       "       \"[{'author_id': '12772', 'role': ''}, {'author_id': '12771', 'role': 'Illustrator'}, {'author_id': '12773', 'role': 'Illustrator'}, {'author_id': '2256865', 'role': 'Introduction'}]\",\n",
       "       \"[{'author_id': '12444', 'role': 'Writer'}, {'author_id': '55811', 'role': 'Illustrator'}, {'author_id': '14304', 'role': 'Illustrator'}, {'author_id': '148765', 'role': 'Illustrator'}, {'author_id': '57285', 'role': 'Illustrator'}, {'author_id': '21708', 'role': 'Illustrator'}]\",\n",
       "       \"[{'author_id': '6429079', 'role': ''}, {'author_id': '6928034', 'role': ''}, {'author_id': '51924', 'role': 'Illustrator'}]\",\n",
       "       \"[{'author_id': '12736', 'role': 'Writer'}, {'author_id': '52727', 'role': 'Illustrator'}]\",\n",
       "       \"[{'author_id': '33907', 'role': ''}]\",\n",
       "       \"[{'author_id': '26306', 'role': ''}]\",\n",
       "       \"[{'author_id': '57952', 'role': ''}, {'author_id': '13265', 'role': ''}, {'author_id': '61904', 'role': 'Illustrator'}]\",\n",
       "       \"[{'author_id': '15708586', 'role': ''}, {'author_id': '17355', 'role': 'Translator'}, {'author_id': '544208', 'role': 'Adaptation'}]\",\n",
       "       \"[{'author_id': '12772', 'role': ''}, {'author_id': '12771', 'role': 'Illustrator'}, {'author_id': '12773', 'role': 'Illustrator'}, {'author_id': '53010', 'role': 'Introduction'}]\",\n",
       "       \"[{'author_id': '12732', 'role': 'Writer'}, {'author_id': '323516', 'role': 'Inker'}, {'author_id': '1226213', 'role': 'Penciler'}, {'author_id': '2867686', 'role': 'Penciler'}, {'author_id': '404630', 'role': 'Inker'}, {'author_id': '377381', 'role': 'Colourist'}, {'author_id': '162369', 'role': 'Colourist'}, {'author_id': '3927282', 'role': 'Letterer'}, {'author_id': '2350131', 'role': 'Letterer'}, {'author_id': '2741650', 'role': 'Letterer'}, {'author_id': '13265', 'role': 'Cover Artist'}]\",\n",
       "       \"[{'author_id': '12732', 'role': ''}, {'author_id': '9717', 'role': 'Illustrator'}, {'author_id': '52923', 'role': 'Illustrator'}, {'author_id': '2748655', 'role': 'Illustrator'}]\",\n",
       "       \"[{'author_id': '32468', 'role': ''}, {'author_id': '24390', 'role': 'Introduction'}]\",\n",
       "       \"[{'author_id': '55794', 'role': 'Adaptor'}, {'author_id': '61368', 'role': 'Illustrator'}, {'author_id': '57450', 'role': 'Illustrator'}, {'author_id': '3389', 'role': 'Story'}]\",\n",
       "       \"[{'author_id': '40563', 'role': ''}, {'author_id': '10604071', 'role': ''}, {'author_id': '2045223', 'role': 'Illustrator'}, {'author_id': '4083207', 'role': 'Illustrator'}]\",\n",
       "       \"[{'author_id': '61382', 'role': 'Writer'}, {'author_id': '7359829', 'role': 'Illustrations'}]\",\n",
       "       \"[{'author_id': '2776647', 'role': ''}]\",\n",
       "       \"[{'author_id': '24514', 'role': ''}, {'author_id': '24595', 'role': 'Illustrator'}, {'author_id': '485220', 'role': 'Illustrator'}, {'author_id': '3952953', 'role': 'Illustrator'}]\",\n",
       "       \"[{'author_id': '2018764', 'role': ''}]\",\n",
       "       \"[{'author_id': '20493', 'role': ''}, {'author_id': '644911', 'role': 'Illustrator'}, {'author_id': '17029', 'role': 'Introduction'}]\",\n",
       "       \"[{'author_id': '45687', 'role': ''}]\",\n",
       "       \"[{'author_id': '45103', 'role': 'Writer'}, {'author_id': '1186079', 'role': 'Illustrator'}, {'author_id': '4608379', 'role': 'Illustrator'}]\",\n",
       "       \"[{'author_id': '45763', 'role': 'Writer'}, {'author_id': '375348', 'role': 'Artist'}]\",\n",
       "       \"[{'author_id': '61386', 'role': 'Writer, Artist'}, {'author_id': '18833', 'role': 'Colourist'}, {'author_id': '2350131', 'role': 'Letterer'}]\",\n",
       "       \"[{'author_id': '45763', 'role': ''}, {'author_id': '5759317', 'role': ''}, {'author_id': '3392844', 'role': 'Illustrator'}]\",\n",
       "       \"[{'author_id': '8564', 'role': ''}]\",\n",
       "       \"[{'author_id': '815259', 'role': ''}, {'author_id': '4978', 'role': 'Illustrator'}]\",\n",
       "       \"[{'author_id': '3409358', 'role': ''}]\",\n",
       "       \"[{'author_id': '18015', 'role': ''}, {'author_id': '63765', 'role': ''}, {'author_id': '18833', 'role': 'Artist'}, {'author_id': '290348', 'role': 'Artist'}, {'author_id': '3189062', 'role': ''}]\",\n",
       "       \"[{'author_id': '24514', 'role': ''}, {'author_id': '325522', 'role': 'Artist'}, {'author_id': '18015', 'role': 'Executive Producer'}]\",\n",
       "       \"[{'author_id': '12772', 'role': 'Writer'}, {'author_id': '24605', 'role': 'Artist'}]\",\n",
       "       \"[{'author_id': '356424', 'role': 'Writer'}, {'author_id': '205810', 'role': 'Artist'}, {'author_id': '102291', 'role': 'Colourist'}, {'author_id': '6560735', 'role': 'Letterer'}]\",\n",
       "       \"[{'author_id': '18119', 'role': ''}, {'author_id': '3281851', 'role': 'Artist'}]\",\n",
       "       \"[{'author_id': '9018', 'role': 'Writer'}, {'author_id': '14304', 'role': 'Writer, Artist'}]\",\n",
       "       \"[{'author_id': '79805', 'role': ''}, {'author_id': '42126', 'role': ''}, {'author_id': '56059', 'role': 'Illustrator'}, {'author_id': '329305', 'role': 'Illustrator'}]\",\n",
       "       \"[{'author_id': '1221698', 'role': ''}]\",\n",
       "       \"[{'author_id': '16807', 'role': ''}]\",\n",
       "       \"[{'author_id': '36203', 'role': ''}]\",\n",
       "       \"[{'author_id': '5951', 'role': ''}, {'author_id': '27140', 'role': ''}, {'author_id': '166029', 'role': 'Colorist'}]\",\n",
       "       \"[{'author_id': '12444', 'role': 'Writer'}, {'author_id': '55811', 'role': 'Illustrator'}, {'author_id': '74339', 'role': 'Illustrator'}, {'author_id': '1385318', 'role': 'Illustrator'}, {'author_id': '148765', 'role': 'Illustrator'}, {'author_id': '131303', 'role': 'Illustrator'}]\",\n",
       "       \"[{'author_id': '2802356', 'role': ''}]\",\n",
       "       \"[{'author_id': '16587', 'role': ''}, {'author_id': '2888650', 'role': 'Illustrator'}]\",\n",
       "       \"[{'author_id': '5365396', 'role': 'Original Author'}, {'author_id': '7476990', 'role': ''}, {'author_id': '7476989', 'role': ''}]\",\n",
       "       \"[{'author_id': '16587', 'role': 'Writer'}, {'author_id': '4730241', 'role': 'Artist'}]\",\n",
       "       \"[{'author_id': '144405', 'role': ''}, {'author_id': '5238413', 'role': 'Translator'}]\",\n",
       "       \"[{'author_id': '151717', 'role': ''}]\",\n",
       "       \"[{'author_id': '56002', 'role': ''}]\",\n",
       "       \"[{'author_id': '3617', 'role': ''}, {'author_id': '311480', 'role': 'Illustrator'}]\",\n",
       "       \"[{'author_id': '89393', 'role': 'Writer'}, {'author_id': '17476', 'role': ''}, {'author_id': '47762', 'role': ''}, {'author_id': '340534', 'role': 'Illustrations'}, {'author_id': '57742', 'role': 'Illustrations'}, {'author_id': '98075', 'role': 'Illustrations'}]\",\n",
       "       \"[{'author_id': '70026', 'role': 'Writer'}, {'author_id': '580495', 'role': 'Illustrator'}, {'author_id': '2942085', 'role': 'Illustrator'}]\",\n",
       "       \"[{'author_id': '483588', 'role': ''}, {'author_id': '634455', 'role': 'Illustrator'}]\",\n",
       "       \"[{'author_id': '49185', 'role': ''}, {'author_id': '10182', 'role': 'Illustrator'}, {'author_id': '38328', 'role': 'Illustrator'}, {'author_id': '75828', 'role': 'Illustrator'}, {'author_id': '12540', 'role': 'Introduction'}]\",\n",
       "       \"[{'author_id': '6557086', 'role': 'Adaptor/Illustrator'}, {'author_id': '7577', 'role': ''}]\",\n",
       "       \"[{'author_id': '12732', 'role': 'Writer'}, {'author_id': '317625', 'role': 'Artist'}, {'author_id': '17256038', 'role': 'Penciler'}, {'author_id': '286007', 'role': 'Inker'}, {'author_id': '306735', 'role': 'Artist'}]\",\n",
       "       \"[{'author_id': '7338', 'role': ''}, {'author_id': '40749', 'role': 'Artist'}, {'author_id': '13265', 'role': 'Covers'}]\",\n",
       "       \"[{'author_id': '171132', 'role': 'Writer'}, {'author_id': '241175', 'role': 'Penciler'}, {'author_id': '187093', 'role': 'Inker'}, {'author_id': '377381', 'role': 'Inker'}, {'author_id': '7409374', 'role': 'Colourist'}, {'author_id': '1200380', 'role': 'Letterer'}]\",\n",
       "       \"[{'author_id': '24514', 'role': ''}, {'author_id': '4978', 'role': 'Illustrator'}, {'author_id': '98075', 'role': 'Illustrations'}]\",\n",
       "       \"[{'author_id': '19928', 'role': ''}, {'author_id': '11885726', 'role': ''}]\",\n",
       "       \"[{'author_id': '42508', 'role': ''}]\",\n",
       "       \"[{'author_id': '85232', 'role': ''}]\",\n",
       "       \"[{'author_id': '12860', 'role': ''}, {'author_id': '304909', 'role': ''}]\",\n",
       "       \"[{'author_id': '116615', 'role': ''}, {'author_id': '325522', 'role': 'Artist'}, {'author_id': '18015', 'role': 'Executive Producer'}]\",\n",
       "       \"[{'author_id': '12444', 'role': 'Writer'}, {'author_id': '176141', 'role': 'Artist'}, {'author_id': '148765', 'role': 'Artist'}, {'author_id': '180972', 'role': 'Artist'}, {'author_id': '55811', 'role': 'Artist'}, {'author_id': '74339', 'role': 'Artist'}, {'author_id': '52924', 'role': 'Artist'}]\",\n",
       "       \"[{'author_id': '227160', 'role': ''}]\",\n",
       "       \"[{'author_id': '90808', 'role': 'Creator'}, {'author_id': '1160825', 'role': 'Creator'}]\",\n",
       "       \"[{'author_id': '1221698', 'role': ''}, {'author_id': '38328', 'role': 'Illustrator/Adaptor'}]\",\n",
       "       \"[{'author_id': '5596285', 'role': ''}]\",\n",
       "       \"[{'author_id': '5770', 'role': 'Adapter'}, {'author_id': '2983802', 'role': 'Illustrator'}, {'author_id': '2448', 'role': ''}]\",\n",
       "       \"[{'author_id': '33280', 'role': ''}]\",\n",
       "       \"[{'author_id': '255466', 'role': ''}, {'author_id': '3057364', 'role': 'Artist'}, {'author_id': '3012492', 'role': 'Illustrator'}]\",\n",
       "       \"[{'author_id': '70026', 'role': 'Writer'}, {'author_id': '59840', 'role': 'Illustrator'}, {'author_id': '29683', 'role': 'colorist'}, {'author_id': '54362', 'role': 'letterer'}]\",\n",
       "       \"[{'author_id': '390509', 'role': ''}, {'author_id': '6720844', 'role': 'Illustrator'}, {'author_id': '8388608', 'role': 'Colors'}]\",\n",
       "       \"[{'author_id': '12732', 'role': ''}, {'author_id': '12737', 'role': 'Illustrator'}, {'author_id': '9931', 'role': 'Illustrator'}, {'author_id': '183', 'role': 'Illustrator'}, {'author_id': '19445', 'role': 'Introduction'}]\",\n",
       "       \"[{'author_id': '14965', 'role': ''}, {'author_id': '12771', 'role': ''}]\",\n",
       "       \"[{'author_id': '14965', 'role': ''}, {'author_id': '55686', 'role': 'Illustrator'}, {'author_id': '305137', 'role': 'Illustrator'}, {'author_id': '2822720', 'role': 'Illustrator'}, {'author_id': '52930', 'role': 'Illustrator'}]\",\n",
       "       \"[{'author_id': '18327', 'role': ''}, {'author_id': '61366', 'role': 'Artist'}, {'author_id': '1524501', 'role': 'Illustrator'}]\",\n",
       "       \"[{'author_id': '208650', 'role': ''}]\",\n",
       "       \"[{'author_id': '24514', 'role': ''}, {'author_id': '674079', 'role': 'Illustrator'}, {'author_id': '705826', 'role': 'Colorist'}, {'author_id': '2350131', 'role': 'Letterer'}]\",\n",
       "       \"[{'author_id': '3247665', 'role': 'Writer'}, {'author_id': '9932', 'role': 'Artist'}, {'author_id': '6523626', 'role': 'Letterer'}]\",\n",
       "       \"[{'author_id': '439887', 'role': 'Writer'}, {'author_id': '221821', 'role': 'Illustrator'}, {'author_id': '62105', 'role': 'Illustrator'}]\",\n",
       "       \"[{'author_id': '4684322', 'role': ''}, {'author_id': '2799765', 'role': 'Illustrations'}]\",\n",
       "       \"[{'author_id': '1221698', 'role': ''}, {'author_id': '10365', 'role': 'Illustrator'}]\",\n",
       "       \"[{'author_id': '815278', 'role': ''}, {'author_id': '5147040', 'role': 'Typography'}]\",\n",
       "       \"[{'author_id': '12424', 'role': 'Writer'}, {'author_id': '61322', 'role': ''}]\",\n",
       "       \"[{'author_id': '12424', 'role': ''}, {'author_id': '9933', 'role': ''}]\",\n",
       "       \"[{'author_id': '12425', 'role': ''}, {'author_id': '16962', 'role': 'Artist'}, {'author_id': '16966', 'role': 'Illustrator'}]\",\n",
       "       \"[{'author_id': '12424', 'role': 'Writer'}, {'author_id': '52727', 'role': 'Artist'}, {'author_id': '7043300', 'role': 'Artist'}, {'author_id': '9933', 'role': 'Artist'}, {'author_id': '2933192', 'role': 'Artist'}]\",\n",
       "       \"[{'author_id': '12444', 'role': 'Writer'}, {'author_id': '171691', 'role': 'Artist'}, {'author_id': '55811', 'role': 'Artist'}, {'author_id': '74339', 'role': 'Artist'}, {'author_id': '180972', 'role': 'Artist'}, {'author_id': '2780427', 'role': 'Colorist'}, {'author_id': '2807481', 'role': 'Colorist'}, {'author_id': '2808576', 'role': 'Colourist'}, {'author_id': '321799', 'role': 'Letterer'}, {'author_id': '92148', 'role': 'Cover Artist'}]\",\n",
       "       \"[{'author_id': '45388', 'role': ''}]\",\n",
       "       \"[{'author_id': '61382', 'role': 'Writer'}, {'author_id': '205814', 'role': 'Artist & Cover'}, {'author_id': '29683', 'role': 'Color Artist'}, {'author_id': '13542203', 'role': 'Letterer'}, {'author_id': '3193036', 'role': 'Artist'}, {'author_id': '61385', 'role': 'Cover Art'}]\",\n",
       "       \"[{'author_id': '1642', 'role': ''}]\",\n",
       "       \"[{'author_id': '11646', 'role': ''}]\",\n",
       "       \"[{'author_id': '215013', 'role': ''}]\",\n",
       "       \"[{'author_id': '18015', 'role': ''}, {'author_id': '325522', 'role': 'Artist'}, {'author_id': '32594', 'role': ''}]\",\n",
       "       \"[{'author_id': '408864', 'role': ''}]\",\n",
       "       \"[{'author_id': '5951', 'role': ''}, {'author_id': '166029', 'role': 'Colorist'}]\",\n",
       "       \"[{'author_id': '184607', 'role': 'Writer, Artist'}, {'author_id': '573149', 'role': 'Writer, Colourist'}]\",\n",
       "       \"[{'author_id': '884135', 'role': 'Writer, Illustrator'}, {'author_id': '17744', 'role': 'Writer'}, {'author_id': '5387809', 'role': 'Illustrator'}, {'author_id': '306736', 'role': 'Illustrator'}, {'author_id': '18833', 'role': 'Colourist'}]\",\n",
       "       \"[{'author_id': '3470', 'role': 'Adaptor'}, {'author_id': '13681', 'role': 'Adaptor'}, {'author_id': '12738', 'role': 'Illustrator'}, {'author_id': '156274', 'role': 'Illustrator'}, {'author_id': '3389', 'role': 'Story'}]\",\n",
       "       \"[{'author_id': '815278', 'role': ''}]\",\n",
       "       \"[{'author_id': '10305', 'role': 'Writer'}, {'author_id': '37507', 'role': 'Illustrator'}, {'author_id': '2870457', 'role': 'Illustrator'}, {'author_id': '631030', 'role': 'Illustrator'}]\",\n",
       "       \"[{'author_id': '7076636', 'role': ''}]\",\n",
       "       \"[{'author_id': '8477', 'role': ''}, {'author_id': '15577045', 'role': 'Illustrator'}]\",\n",
       "       \"[{'author_id': '543719', 'role': 'Writer'}, {'author_id': '306735', 'role': 'Artist'}, {'author_id': '3372257', 'role': 'Letterer'}]\",\n",
       "       \"[{'author_id': '6887314', 'role': ''}, {'author_id': '6928546', 'role': ''}, {'author_id': '9836416', 'role': 'Illustrator'}, {'author_id': '6851809', 'role': 'Colorist'}, {'author_id': '8337554', 'role': 'Letterer'}, {'author_id': '8012130', 'role': 'Illustrator'}, {'author_id': '8716879', 'role': 'Illustrator'}, {'author_id': '996558', 'role': 'Author/Illustrator'}, {'author_id': '57441', 'role': 'Illustrator'}, {'author_id': '15221663', 'role': 'Illustrator'}, {'author_id': '7837420', 'role': 'Illustrator'}]\",\n",
       "       \"[{'author_id': '4698899', 'role': ''}, {'author_id': '1945379', 'role': ''}]\",\n",
       "       \"[{'author_id': '10305', 'role': 'Writer'}, {'author_id': '37507', 'role': 'Penciler'}, {'author_id': '15932407', 'role': 'Inker'}]\",\n",
       "       \"[{'author_id': '3456441', 'role': ''}, {'author_id': '10435638', 'role': 'Translator'}]\",\n",
       "       \"[{'author_id': '4822', 'role': ''}, {'author_id': '89369', 'role': 'Illustrator'}, {'author_id': '18834', 'role': 'Illustrator'}, {'author_id': '86488', 'role': 'Illustrator'}, {'author_id': '53979', 'role': 'Illustrator'}, {'author_id': '306740', 'role': 'Illustrator'}, {'author_id': '419912', 'role': 'Illustrator'}, {'author_id': '536800', 'role': 'Illustrator'}, {'author_id': '12773', 'role': 'Illustrator'}]\",\n",
       "       \"[{'author_id': '8483', 'role': ''}]\",\n",
       "       \"[{'author_id': '10305', 'role': 'Writer'}, {'author_id': '12754', 'role': 'Artist'}, {'author_id': '93063', 'role': 'Colourist'}, {'author_id': '14610', 'role': 'Introduction'}]\",\n",
       "       \"[{'author_id': '37450', 'role': 'Writer'}, {'author_id': '61366', 'role': 'Artist'}, {'author_id': '61367', 'role': 'Artist'}, {'author_id': '12742', 'role': 'Artist'}, {'author_id': '3874180', 'role': 'Colourist'}, {'author_id': '3927282', 'role': 'Letterer'}]\",\n",
       "       \"[{'author_id': '61382', 'role': 'Writer'}, {'author_id': '7359829', 'role': 'Illustrator'}]\",\n",
       "       \"[{'author_id': '439887', 'role': ''}, {'author_id': '221821', 'role': 'Artist'}]\",\n",
       "       \"[{'author_id': '155990', 'role': ''}]\",\n",
       "       \"[{'author_id': '2901559', 'role': ''}]\",\n",
       "       \"[{'author_id': '439887', 'role': 'Writer'}, {'author_id': '221821', 'role': 'Illustrations'}, {'author_id': '504788', 'role': 'Illustrations'}, {'author_id': '93125', 'role': 'Colourist'}]\",\n",
       "       \"[{'author_id': '5055739', 'role': 'Writer'}, {'author_id': '418985', 'role': 'Illustrations'}]\",\n",
       "       \"[{'author_id': '2266124', 'role': ''}, {'author_id': '300529', 'role': ''}, {'author_id': '15197773', 'role': 'Translator'}, {'author_id': '15197774', 'role': 'Translator'}]\",\n",
       "       \"[{'author_id': '12425', 'role': ''}, {'author_id': '16962', 'role': 'Penciller/Inker'}, {'author_id': '16966', 'role': 'Gray-toner'}]\",\n",
       "       \"[{'author_id': '32594', 'role': ''}, {'author_id': '61853', 'role': 'Illustrator'}, {'author_id': '611843', 'role': 'Illustrator'}, {'author_id': '61388', 'role': 'Illustrator'}]\",\n",
       "       \"[{'author_id': '12736', 'role': ''}, {'author_id': '15397834', 'role': 'Illustrator'}]\",\n",
       "       \"[{'author_id': '61935', 'role': ''}, {'author_id': '190063', 'role': ''}]\",\n",
       "       \"[{'author_id': '294649', 'role': ''}, {'author_id': '6458617', 'role': 'Translator'}]\",\n",
       "       \"[{'author_id': '12736', 'role': ''}, {'author_id': '444929', 'role': 'Illustrator'}]\",\n",
       "       \"[{'author_id': '1041311', 'role': ''}, {'author_id': '26082', 'role': 'Illustrator'}]\",\n",
       "       \"[{'author_id': '4866', 'role': ''}]\",\n",
       "       \"[{'author_id': '1251403', 'role': ''}]\",\n",
       "       \"[{'author_id': '70026', 'role': 'Writer'}, {'author_id': '580495', 'role': 'Illustrator'}, {'author_id': '13558419', 'role': 'Illustrator'}, {'author_id': '308584', 'role': 'Illustrator'}]\",\n",
       "       \"[{'author_id': '2876763', 'role': ''}, {'author_id': '3007480', 'role': ''}, {'author_id': '241686', 'role': 'Illustrator'}, {'author_id': '7619755', 'role': 'Illustrator'}, {'author_id': '7619756', 'role': 'Illustrator'}]\",\n",
       "       \"[{'author_id': '10305', 'role': ''}, {'author_id': '12762', 'role': 'Illustrator'}, {'author_id': '1425345', 'role': 'Illustrator'}, {'author_id': '22723', 'role': 'Illustrator'}, {'author_id': '37507', 'role': 'Illustrator'}, {'author_id': '37508', 'role': 'Illustrator'}, {'author_id': '450204', 'role': 'Introduction'}]\",\n",
       "       \"[{'author_id': '61935', 'role': ''}, {'author_id': '306735', 'role': 'Illustrator'}, {'author_id': '1025714', 'role': 'Illustrator'}]\",\n",
       "       \"[{'author_id': '12425', 'role': ''}, {'author_id': '16962', 'role': 'Illustrations'}, {'author_id': '16966', 'role': 'Illustrator'}]\",\n",
       "       \"[{'author_id': '12425', 'role': ''}, {'author_id': '125987', 'role': 'Illustrator'}, {'author_id': '125988', 'role': 'Illustrator'}, {'author_id': '1074448', 'role': 'Illustrator'}, {'author_id': '228586', 'role': 'Illustrator'}, {'author_id': '125990', 'role': 'Illustrator'}, {'author_id': '17303138', 'role': 'Illustrator'}, {'author_id': '16966', 'role': 'Illustrator'}, {'author_id': '12424', 'role': 'Introduction'}]\",\n",
       "       \"[{'author_id': '9550', 'role': ''}, {'author_id': '2950834', 'role': 'Text'}, {'author_id': '4154297', 'role': 'Text'}, {'author_id': '8621', 'role': 'Illustrations'}]\",\n",
       "       \"[{'author_id': '7009690', 'role': ''}]\",\n",
       "       \"[{'author_id': '15085', 'role': ''}, {'author_id': '28995', 'role': 'Illustrator'}]\",\n",
       "       \"[{'author_id': '151716', 'role': 'Artist'}, {'author_id': '7372180', 'role': ''}]\",\n",
       "       \"[{'author_id': '3116974', 'role': 'Writer'}, {'author_id': '172167', 'role': 'Illustrator'}, {'author_id': '101873', 'role': 'Illustrator'}, {'author_id': '40986', 'role': 'Illustrator'}, {'author_id': '2140731', 'role': 'Illustrator'}]\",\n",
       "       \"[{'author_id': '12736', 'role': 'Writer'}, {'author_id': '15397834', 'role': 'Pencils'}, {'author_id': '438009', 'role': 'Inks'}]\",\n",
       "       \"[{'author_id': '543719', 'role': ''}]\",\n",
       "       \"[{'author_id': '6558611', 'role': ''}, {'author_id': '996558', 'role': 'Illustrations'}]\",\n",
       "       \"[{'author_id': '4215822', 'role': ''}]\",\n",
       "       \"[{'author_id': '12444', 'role': 'Writer'}, {'author_id': '92149', 'role': 'Writer'}, {'author_id': '3035546', 'role': 'Illustrator'}, {'author_id': '1624574', 'role': 'Illustrator'}, {'author_id': '55811', 'role': 'Illustrator'}, {'author_id': '148765', 'role': 'Illustrator'}]\",\n",
       "       \"[{'author_id': '6113990', 'role': 'English Script'}, {'author_id': '8204545', 'role': 'Art'}, {'author_id': '14899824', 'role': 'Adaptation'}, {'author_id': '13661', 'role': 'Original Story'}]\",\n",
       "       \"[{'author_id': '21618', 'role': ''}, {'author_id': '21616', 'role': ''}]\",\n",
       "       \"[{'author_id': '15942951', 'role': ''}]\",\n",
       "       \"[{'author_id': '42508', 'role': ''}, {'author_id': '7376837', 'role': 'Translator'}]\",\n",
       "       \"[{'author_id': '5787', 'role': 'Editor'}]\",\n",
       "       \"[{'author_id': '3470', 'role': 'Adaptor'}, {'author_id': '13681', 'role': 'Adaptor'}, {'author_id': '3389', 'role': 'Story'}, {'author_id': '12738', 'role': 'Illustrator'}, {'author_id': '156274', 'role': 'Illustrator'}]\",\n",
       "       \"[{'author_id': '5502079', 'role': ''}, {'author_id': '15577045', 'role': 'Illustrator'}, {'author_id': '15050424', 'role': 'Translator'}]\",\n",
       "       \"[{'author_id': '3033809', 'role': ''}, {'author_id': '3475439', 'role': 'Illustrator'}, {'author_id': '6186532', 'role': 'Colorist '}, {'author_id': '8349680', 'role': 'Colorist '}]\",\n",
       "       \"[{'author_id': '32594', 'role': ''}, {'author_id': '2851794', 'role': 'Illustrator'}, {'author_id': '1347666', 'role': 'Colorist'}, {'author_id': '93215', 'role': 'Letterer'}]\",\n",
       "       \"[{'author_id': '146783', 'role': ''}, {'author_id': '384702', 'role': ''}]\",\n",
       "       \"[{'author_id': '12772', 'role': ''}, {'author_id': '4825247', 'role': 'Illustrator'}, {'author_id': '12424', 'role': 'Illustrator'}, {'author_id': '8289697', 'role': 'Illustrator'}, {'author_id': '55811', 'role': 'Illustrator'}, {'author_id': '201505', 'role': 'Illustrator'}, {'author_id': '12775', 'role': 'Illustrator'}, {'author_id': '33532', 'role': 'Illustrator'}, {'author_id': '205493', 'role': 'Illustrator'}, {'author_id': '24595', 'role': 'Illustrator'}, {'author_id': '12740', 'role': 'Illustrator'}, {'author_id': '17303138', 'role': 'Illustrator'}, {'author_id': '10455', 'role': 'Illustrator'}, {'author_id': '205814', 'role': 'Illustrator'}, {'author_id': '54360', 'role': 'Illustrator'}, {'author_id': '52180', 'role': 'Illustrator'}, {'author_id': '317625', 'role': 'Illustrator'}, {'author_id': '4822', 'role': 'Illustrator'}]\",\n",
       "       \"[{'author_id': '38954', 'role': ''}, {'author_id': '28756', 'role': 'Contributor'}]\",\n",
       "       \"[{'author_id': '64565', 'role': ''}]\",\n",
       "       \"[{'author_id': '46655', 'role': ''}]\",\n",
       "       \"[{'author_id': '20493', 'role': ''}, {'author_id': '644911', 'role': 'Illustrator'}, {'author_id': '137864', 'role': 'Illustrator'}]\",\n",
       "       \"[{'author_id': '5282', 'role': ''}]\",\n",
       "       \"[{'author_id': '580494', 'role': 'Writer'}, {'author_id': '3455156', 'role': 'Illustrator'}, {'author_id': '1985483', 'role': 'Illustrator'}]\",\n",
       "       \"[{'author_id': '208650', 'role': ''}, {'author_id': '222347', 'role': 'Editor'}, {'author_id': '572105', 'role': 'Translator'}]\",\n",
       "       \"[{'author_id': '27498', 'role': 'Creator'}, {'author_id': '73351', 'role': ''}, {'author_id': '1871685', 'role': 'Illustrator'}]\",\n",
       "       \"[{'author_id': '4837403', 'role': ''}, {'author_id': '1193457', 'role': 'Illustrator'}, {'author_id': '7575607', 'role': 'Translator'}, {'author_id': '654570', 'role': 'Translator'}]\",\n",
       "       \"[{'author_id': '70532', 'role': ''}]\",\n",
       "       \"[{'author_id': '815259', 'role': ''}, {'author_id': '98075', 'role': 'Artist'}, {'author_id': '4978', 'role': 'Artist'}, {'author_id': '14688425', 'role': 'Artist'}]\",\n",
       "       \"[{'author_id': '43554', 'role': ''}]\",\n",
       "       \"[{'author_id': '569', 'role': ''}, {'author_id': '4747040', 'role': 'Illustrator'}, {'author_id': '5773381', 'role': 'Illustrator'}, {'author_id': '15672121', 'role': 'Script'}]\",\n",
       "       \"[{'author_id': '3046613', 'role': ''}, {'author_id': '5377476', 'role': ''}]\",\n",
       "       \"[{'author_id': '2689', 'role': 'Writer'}, {'author_id': '61314', 'role': 'Penciler'}, {'author_id': '61324', 'role': 'Inker'}]\",\n",
       "       \"[{'author_id': '27372', 'role': ''}, {'author_id': '14981940', 'role': 'Editor'}]\",\n",
       "       \"[{'author_id': '117369', 'role': ''}, {'author_id': '362098', 'role': 'Translator'}]\",\n",
       "       \"[{'author_id': '37450', 'role': 'Writer'}, {'author_id': '22671', 'role': 'Artist, Letterer'}, {'author_id': '18833', 'role': 'Colourist'}]\",\n",
       "       \"[{'author_id': '38328', 'role': 'Adaptor'}, {'author_id': '1221698', 'role': ''}, {'author_id': '14022', 'role': 'Illustrator'}, {'author_id': '24595', 'role': 'Illustrator'}, {'author_id': '10762', 'role': 'Illustrator'}, {'author_id': '153691', 'role': 'Illustrator'}, {'author_id': '9931', 'role': 'Illustrator'}, {'author_id': '8395591', 'role': 'Illustrator'}, {'author_id': '431316', 'role': 'Colorist '}]\",\n",
       "       \"[{'author_id': '39248', 'role': ''}]\",\n",
       "       \"[{'author_id': '356424', 'role': 'Writer'}, {'author_id': '5289109', 'role': 'Artist'}, {'author_id': '3193030', 'role': 'Colourist'}, {'author_id': '6560735', 'role': 'Letterer'}]\",\n",
       "       \"[{'author_id': '9018', 'role': 'Writer'}, {'author_id': '14304', 'role': 'Illustrator'}, {'author_id': '83727', 'role': 'Foreword by'}]\",\n",
       "       \"[{'author_id': '37607', 'role': ''}, {'author_id': '62105', 'role': 'Illustrator'}, {'author_id': '125990', 'role': 'Illustrator'}]\",\n",
       "       \"[{'author_id': '580494', 'role': ''}, {'author_id': '2817232', 'role': 'Artist'}, {'author_id': '24514', 'role': 'Introduction'}]\",\n",
       "       \"[{'author_id': '9355', 'role': ''}, {'author_id': '189761', 'role': ''}]\",\n",
       "       \"[{'author_id': '555805', 'role': ''}, {'author_id': '555804', 'role': ''}]\",\n",
       "       \"[{'author_id': '12772', 'role': ''}, {'author_id': '24599', 'role': 'Illustrator'}]\",\n",
       "       \"[{'author_id': '3961', 'role': ''}, {'author_id': '55409', 'role': 'Illustrator'}, {'author_id': '93215', 'role': 'Letterer'}, {'author_id': '61388', 'role': 'Introduction'}]\",\n",
       "       \"[{'author_id': '37450', 'role': 'Writer'}, {'author_id': '9018', 'role': 'Writer'}, {'author_id': '38491', 'role': 'Writer'}, {'author_id': '38492', 'role': 'Writer'}, {'author_id': '12726', 'role': 'Penciler'}, {'author_id': '55812', 'role': 'Penciler'}, {'author_id': '8503442', 'role': 'Inker'}, {'author_id': '24597', 'role': 'Penciler'}, {'author_id': '54937', 'role': 'Penciler'}, {'author_id': '7770422', 'role': 'Colourist'}, {'author_id': '5752958', 'role': 'Letterer'}, {'author_id': '61322', 'role': 'Artist'}, {'author_id': '2901524', 'role': 'Colourist'}, {'author_id': '3995439', 'role': 'Inker'}, {'author_id': '4592654', 'role': 'Inker'}, {'author_id': '390798', 'role': 'Inker'}, {'author_id': '3861517', 'role': 'Colourist'}]\",\n",
       "       \"[{'author_id': '5737121', 'role': ''}, {'author_id': '3457152', 'role': 'Artist'}]\",\n",
       "       \"[{'author_id': '4107314', 'role': ''}]\",\n",
       "       \"[{'author_id': '826097', 'role': ''}]\",\n",
       "       \"[{'author_id': '1067608', 'role': ''}, {'author_id': '4388268', 'role': 'Adaptor'}, {'author_id': '4595107', 'role': 'illustrator'}, {'author_id': '4044040', 'role': 'illustrator'}]\",\n",
       "       \"[{'author_id': '696185', 'role': ''}]\",\n",
       "       \"[{'author_id': '40998', 'role': ''}, {'author_id': '1230366', 'role': 'Illustrations'}, {'author_id': '3174231', 'role': ''}]\",\n",
       "       \"[{'author_id': '17029', 'role': 'Writer'}, {'author_id': '674079', 'role': 'Artist'}, {'author_id': '148764', 'role': 'Penciler'}, {'author_id': '186671', 'role': 'Artist'}, {'author_id': '131303', 'role': 'Inker'}, {'author_id': '93125', 'role': 'Colourist'}, {'author_id': '2350131', 'role': 'Letterer'}]\",\n",
       "       \"[{'author_id': '12732', 'role': 'Writer'}, {'author_id': '12429', 'role': 'Artist'}, {'author_id': '61322', 'role': 'Penciler'}, {'author_id': '1644135', 'role': 'Inker'}, {'author_id': '14291584', 'role': 'Inker'}]\",\n",
       "       \"[{'author_id': '390509', 'role': ''}, {'author_id': '6720844', 'role': 'Illustrator'}, {'author_id': '14676997', 'role': 'Illustrator'}, {'author_id': '8388608', 'role': 'Colorist'}]\",\n",
       "       \"[{'author_id': '4593587', 'role': ''}]\",\n",
       "       \"[{'author_id': '543719', 'role': 'Writer'}, {'author_id': '20025', 'role': 'Artist'}]\",\n",
       "       \"[{'author_id': '1221698', 'role': 'Editor'}, {'author_id': '5621921', 'role': 'Editor'}, {'author_id': '122629', 'role': ''}, {'author_id': '43734', 'role': ''}, {'author_id': '205075', 'role': ''}, {'author_id': '645128', 'role': ''}, {'author_id': '10333', 'role': ''}, {'author_id': '39852', 'role': ''}, {'author_id': '76471', 'role': ''}, {'author_id': '4798562', 'role': ''}, {'author_id': '52181', 'role': ''}, {'author_id': '6587', 'role': ''}, {'author_id': '157655', 'role': ''}, {'author_id': '62156', 'role': ''}, {'author_id': '130014', 'role': ''}, {'author_id': '24', 'role': ''}, {'author_id': '48397', 'role': ''}, {'author_id': '23069', 'role': ''}, {'author_id': '27704', 'role': ''}, {'author_id': '8842', 'role': ''}, {'author_id': '779', 'role': 'Preface'}, {'author_id': '43292', 'role': 'Afterword'}]\",\n",
       "       \"[{'author_id': '376347', 'role': ''}]\",\n",
       "       \"[{'author_id': '61386', 'role': 'Author/Illustrator'}, {'author_id': '13634', 'role': 'Based On Work by'}]\",\n",
       "       \"[{'author_id': '543719', 'role': ''}, {'author_id': '3372257', 'role': 'Lettering'}]\",\n",
       "       \"[{'author_id': '16587', 'role': 'Writer'}, {'author_id': '4227720', 'role': 'Illustrations'}, {'author_id': '2888650', 'role': 'Illustrations'}, {'author_id': '623638', 'role': 'Illustrator'}, {'author_id': '10311', 'role': 'Illustrator'}, {'author_id': '693542', 'role': 'Illustrator'}]\",\n",
       "       \"[{'author_id': '68959', 'role': ''}, {'author_id': '295142', 'role': 'Illustrations'}, {'author_id': '8440853', 'role': ''}]\",\n",
       "       \"[{'author_id': '2689', 'role': ''}, {'author_id': '444929', 'role': 'Illustrator'}]\",\n",
       "       \"[{'author_id': '10305', 'role': 'Writer'}, {'author_id': '241175', 'role': 'Artist'}, {'author_id': '729136', 'role': 'Artist'}, {'author_id': '13285', 'role': 'Co-Writer'}, {'author_id': '12754', 'role': 'Artist'}, {'author_id': '37507', 'role': 'Penciler'}, {'author_id': '631030', 'role': 'Inker'}]\",\n",
       "       \"[{'author_id': '15091', 'role': ''}, {'author_id': '15085', 'role': 'Illustrator'}, {'author_id': '8314502', 'role': 'Illustrator'}]\",\n",
       "       \"[{'author_id': '32468', 'role': ''}, {'author_id': '3956', 'role': 'Introduction'}]\",\n",
       "       \"[{'author_id': '1221698', 'role': 'Writer'}, {'author_id': '40292', 'role': 'Artist'}, {'author_id': '10224', 'role': 'Artist'}, {'author_id': '19291', 'role': 'Artist'}, {'author_id': '89468', 'role': 'Artist'}, {'author_id': '10763', 'role': 'Artist'}, {'author_id': '188344', 'role': 'Artist'}, {'author_id': '12733', 'role': 'Artist'}, {'author_id': '14022', 'role': 'Artist'}, {'author_id': '114430', 'role': 'Artist'}, {'author_id': '14276366', 'role': 'Artist'}, {'author_id': '2807481', 'role': 'Colourist'}, {'author_id': '321799', 'role': 'Letterer'}, {'author_id': '10365', 'role': 'Cover Artist'}]\",\n",
       "       \"[{'author_id': '164714', 'role': ''}, {'author_id': '198168', 'role': 'Translator'}]\",\n",
       "       \"[{'author_id': '321800', 'role': 'Editor'}, {'author_id': '52922', 'role': ''}, {'author_id': '190063', 'role': ''}, {'author_id': '20323', 'role': ''}, {'author_id': '2718', 'role': ''}, {'author_id': '44712', 'role': ''}, {'author_id': '215886', 'role': 'Illustrator'}, {'author_id': '44724', 'role': ''}, {'author_id': '17734', 'role': ''}, {'author_id': '9019', 'role': 'Illustrator'}, {'author_id': '723222', 'role': ''}, {'author_id': '28709', 'role': ''}, {'author_id': '2800391', 'role': 'Illustrator'}, {'author_id': '1221698', 'role': ''}, {'author_id': '78730', 'role': 'Illustrator'}, {'author_id': '12740', 'role': ''}, {'author_id': '93221', 'role': ''}, {'author_id': '706566', 'role': 'Illustrator'}, {'author_id': '9934', 'role': ''}, {'author_id': '2719', 'role': ''}, {'author_id': '28710', 'role': ''}, {'author_id': '188344', 'role': 'Illustrator'}, {'author_id': '55409', 'role': ''}, {'author_id': '14022', 'role': 'Illustrator'}, {'author_id': '1627', 'role': 'Illustrator'}, {'author_id': '611842', 'role': 'Illustrator'}, {'author_id': '53559', 'role': ''}, {'author_id': '61913', 'role': 'Translator'}]\",\n",
       "       \"[{'author_id': '1221698', 'role': ''}, {'author_id': '5122', 'role': ''}]\",\n",
       "       \"[{'author_id': '5125', 'role': ''}, {'author_id': '5866191', 'role': 'Illustrator'}, {'author_id': '2945478', 'role': 'Illustrator'}, {'author_id': '8982418', 'role': 'Illustrator'}, {'author_id': '7469887', 'role': 'Illustrator'}, {'author_id': '47294', 'role': 'Illustrator'}, {'author_id': '8982419', 'role': 'Illustrator'}, {'author_id': '117678', 'role': ''}, {'author_id': '88005', 'role': 'Illustrator'}, {'author_id': '14875905', 'role': 'Illustrator'}]\",\n",
       "       \"[{'author_id': '12444', 'role': 'Writer'}, {'author_id': '55811', 'role': 'Illustrator'}, {'author_id': '4760543', 'role': 'Illustrations'}, {'author_id': '74339', 'role': 'Illustrator'}, {'author_id': '148765', 'role': 'Illustrator'}, {'author_id': '38328', 'role': 'Illustrator'}, {'author_id': '201506', 'role': 'Illustrator'}]\",\n",
       "       \"[{'author_id': '70026', 'role': 'Writer'}, {'author_id': '5055739', 'role': ''}, {'author_id': '418985', 'role': ''}, {'author_id': '4822', 'role': ''}, {'author_id': '61911', 'role': ''}, {'author_id': '61322', 'role': ''}, {'author_id': '171132', 'role': ''}, {'author_id': '241175', 'role': ''}, {'author_id': '1226213', 'role': ''}, {'author_id': '14461', 'role': ''}, {'author_id': '97136', 'role': ''}, {'author_id': '884135', 'role': ''}, {'author_id': '54927', 'role': ''}]\",\n",
       "       \"[{'author_id': '2980337', 'role': ''}]\",\n",
       "       \"[{'author_id': '19886', 'role': ''}, {'author_id': '28709', 'role': ''}, {'author_id': '28712', 'role': ''}, {'author_id': '28710', 'role': ''}, {'author_id': '61913', 'role': ''}]\",\n",
       "       \"[{'author_id': '39476', 'role': ''}, {'author_id': '2881183', 'role': ''}, {'author_id': '2881184', 'role': ''}, {'author_id': '57952', 'role': ''}, {'author_id': '169497', 'role': ''}, {'author_id': '325522', 'role': 'Artist'}, {'author_id': '18015', 'role': 'Executive Producer'}]\",\n",
       "       \"[{'author_id': '68959', 'role': ''}, {'author_id': '90808', 'role': ''}, {'author_id': '1160825', 'role': ''}, {'author_id': '536204', 'role': 'Artist'}]\",\n",
       "       \"[{'author_id': '18100', 'role': ''}]\",\n",
       "       \"[{'author_id': '12425', 'role': ''}, {'author_id': '16962', 'role': 'Illustrator'}, {'author_id': '518948', 'role': 'Illustrator'}, {'author_id': '16966', 'role': 'Illustrator'}]\",\n",
       "       \"[{'author_id': '24514', 'role': 'Writer'}, {'author_id': '7737628', 'role': 'Penciller'}, {'author_id': '54925', 'role': 'Penciller'}, {'author_id': '52926', 'role': 'Penciller'}, {'author_id': '1624574', 'role': 'Inker'}, {'author_id': '2921827', 'role': 'Colorist'}, {'author_id': '7180767', 'role': 'Colorist'}, {'author_id': '54362', 'role': 'Letterer'}, {'author_id': '89372', 'role': 'Covers'}]\",\n",
       "       \"[{'author_id': '184312', 'role': ''}, {'author_id': '15090', 'role': 'Foreword'}]\",\n",
       "       \"[{'author_id': '5363', 'role': ''}, {'author_id': '304633', 'role': 'Illustrator'}, {'author_id': '3193036', 'role': 'Illustrator'}, {'author_id': '4708517', 'role': 'Illustrator'}]\",\n",
       "       \"[{'author_id': '12444', 'role': 'Writer'}, {'author_id': '55811', 'role': 'illustrator'}, {'author_id': '117884', 'role': 'Illustrator'}, {'author_id': '8914', 'role': 'illustrator'}]\",\n",
       "       \"[{'author_id': '1221698', 'role': 'Writer'}, {'author_id': '9931', 'role': 'Artist'}, {'author_id': '92725', 'role': 'Artist'}, {'author_id': '264213', 'role': 'Artist'}, {'author_id': '55811', 'role': 'Artist'}, {'author_id': '38328', 'role': 'Artist'}, {'author_id': '10224', 'role': 'Artist'}, {'author_id': '2568404', 'role': 'Artist'}, {'author_id': '81221', 'role': 'Inker'}, {'author_id': '57285', 'role': 'Artist'}, {'author_id': '105778', 'role': 'Artist'}, {'author_id': '1373293', 'role': 'Artist'}, {'author_id': '1231342', 'role': 'Artist'}, {'author_id': '723222', 'role': 'Artist'}, {'author_id': '24595', 'role': 'Artist'}, {'author_id': '74339', 'role': 'Artist'}, {'author_id': '2807481', 'role': 'Colourist'}, {'author_id': '431316', 'role': 'Colourist'}, {'author_id': '2780427', 'role': 'Colourist'}, {'author_id': '321799', 'role': 'Letterer'}, {'author_id': '10365', 'role': 'Cover Artist'}]\",\n",
       "       \"[{'author_id': '1221698', 'role': ''}, {'author_id': '171749', 'role': 'Illustrations'}]\",\n",
       "       \"[{'author_id': '114752', 'role': ''}]\",\n",
       "       \"[{'author_id': '2339572', 'role': ''}, {'author_id': '17406', 'role': 'Translator'}, {'author_id': '1313638', 'role': 'Translator'}]\",\n",
       "       \"[{'author_id': '103302', 'role': ''}, {'author_id': '5989', 'role': 'Introduction'}]\",\n",
       "       \"[{'author_id': '12732', 'role': 'Writer'}, {'author_id': '304873', 'role': 'Artist'}, {'author_id': '9717', 'role': 'Artist'}]\",\n",
       "       \"[{'author_id': '7338', 'role': ''}, {'author_id': '14613', 'role': 'Illustrator'}]\",\n",
       "       \"[{'author_id': '6113990', 'role': 'Story Adaptation'}, {'author_id': '8044955', 'role': 'Art by'}, {'author_id': '16669687', 'role': 'Illustrations'}, {'author_id': '1265', 'role': 'Original Story'}]\",\n",
       "       \"[{'author_id': '3470', 'role': 'Adaptor'}, {'author_id': '13681', 'role': 'Adaptor'}, {'author_id': '156274', 'role': 'Illustrator'}, {'author_id': '3389', 'role': 'Story'}]\",\n",
       "       \"[{'author_id': '1226213', 'role': 'Writer/Illustrator'}, {'author_id': '28126', 'role': 'Writer'}, {'author_id': '323516', 'role': 'Illustrator'}, {'author_id': '306735', 'role': 'Illustrator'}, {'author_id': '2883458', 'role': 'Illustrator'}, {'author_id': '917957', 'role': 'Illustrator'}, {'author_id': '221821', 'role': 'Illustrator'}, {'author_id': '2883459', 'role': 'Illustrator'}, {'author_id': '335536', 'role': 'Illustrator'}]\",\n",
       "       \"[{'author_id': '9018', 'role': ''}, {'author_id': '14304', 'role': 'Illustrator'}, {'author_id': '180971', 'role': 'Illustrator'}, {'author_id': '114430', 'role': 'Illustrator'}]\",\n",
       "       \"[{'author_id': '3208481', 'role': 'Story & Art'}, {'author_id': '4823030', 'role': 'Original concept'}, {'author_id': '7258276', 'role': 'Translator'}]\",\n",
       "       \"[{'author_id': '13022', 'role': ''}, {'author_id': '896611', 'role': ''}, {'author_id': '362098', 'role': 'Translator'}]\",\n",
       "       \"[{'author_id': '439887', 'role': 'Writer'}, {'author_id': '221821', 'role': 'Illustrations'}, {'author_id': '139287', 'role': 'Illustrator'}, {'author_id': '2764419', 'role': 'Illustrator'}, {'author_id': '3193036', 'role': 'Illustrator'}]\",\n",
       "       \"[{'author_id': '70026', 'role': 'Writer'}, {'author_id': '166639', 'role': 'Illustrations'}]\",\n",
       "       \"[{'author_id': '18015', 'role': ''}, {'author_id': '1156014', 'role': 'Artist'}, {'author_id': '5399240', 'role': 'Artist'}]\",\n",
       "       \"[{'author_id': '12444', 'role': 'Writer'}, {'author_id': '55811', 'role': 'Artist'}, {'author_id': '74339', 'role': 'Illustrator'}, {'author_id': '3035546', 'role': 'Illustrator'}, {'author_id': '10309', 'role': 'Illustrator'}, {'author_id': '148765', 'role': 'Illustrator'}, {'author_id': '17737', 'role': 'Illustrator'}]\",\n",
       "       \"[{'author_id': '92148', 'role': ''}, {'author_id': '12444', 'role': 'Introduction'}]\",\n",
       "       \"[{'author_id': '70667', 'role': ''}, {'author_id': '9839081', 'role': 'Artist'}]\",\n",
       "       \"[{'author_id': '61382', 'role': 'Writer'}, {'author_id': '92897', 'role': 'Artist'}, {'author_id': '61385', 'role': 'Artist'}, {'author_id': '3193030', 'role': 'Color Artist'}, {'author_id': '286833', 'role': 'Artist'}, {'author_id': '29683', 'role': 'Color Artist'}]\",\n",
       "       \"[{'author_id': '12860', 'role': ''}, {'author_id': '304909', 'role': 'Translator'}]\",\n",
       "       \"[{'author_id': '19928', 'role': ''}, {'author_id': '7103', 'role': 'Foreword by'}, {'author_id': '1397710', 'role': 'Introduction by'}]\",\n",
       "       \"[{'author_id': '70026', 'role': 'Writer'}, {'author_id': '229802', 'role': 'Illustrator'}, {'author_id': '4789859', 'role': 'Illustrator'}, {'author_id': '2964555', 'role': 'Illustrator'}, {'author_id': '2746362', 'role': 'Illustrator'}, {'author_id': '20022', 'role': 'Illustrator'}]\",\n",
       "       \"[{'author_id': '53559', 'role': ''}, {'author_id': '3887388', 'role': 'Translator'}, {'author_id': '61913', 'role': 'Translator'}]\",\n",
       "       \"[{'author_id': '12425', 'role': ''}, {'author_id': '125987', 'role': 'Illustrator'}, {'author_id': '125989', 'role': 'Illustrator'}, {'author_id': '7338', 'role': 'Introduction'}]\",\n",
       "       \"[{'author_id': '33280', 'role': ''}, {'author_id': '140082', 'role': ''}, {'author_id': '140081', 'role': ''}]\",\n",
       "       \"[{'author_id': '463875', 'role': ''}, {'author_id': '362098', 'role': 'Translator'}]\",\n",
       "       \"[{'author_id': '439887', 'role': ''}, {'author_id': '12431', 'role': 'Illustrations'}]\",\n",
       "       \"[{'author_id': '12444', 'role': 'Writer'}, {'author_id': '55811', 'role': 'Illustrator'}, {'author_id': '89614', 'role': 'Illustrator'}]\",\n",
       "       \"[{'author_id': '3116974', 'role': ''}, {'author_id': '20048', 'role': 'Cover Artist'}, {'author_id': '172167', 'role': 'Illustrator'}, {'author_id': '4789859', 'role': 'Illustrator'}, {'author_id': '4788959', 'role': 'Illustrator'}, {'author_id': '6539421', 'role': 'Pencils/Inks'}, {'author_id': '286007', 'role': 'Inks'}, {'author_id': '107510', 'role': 'Colorist'}]\",\n",
       "       \"[{'author_id': '106464', 'role': ''}, {'author_id': '14067221', 'role': 'Translator'}]\",\n",
       "       \"[{'author_id': '1171696', 'role': 'Story and Book Design'}, {'author_id': '12425', 'role': 'Story'}, {'author_id': '16962', 'role': 'Art'}, {'author_id': '16966', 'role': 'Art'}]\",\n",
       "       \"[{'author_id': '2891665', 'role': ''}, {'author_id': '184638', 'role': 'Art and Adaptation'}, {'author_id': '13709050', 'role': 'Lettering'}]\",\n",
       "       \"[{'author_id': '12425', 'role': ''}, {'author_id': '398805', 'role': 'Illustrator'}, {'author_id': '7286630', 'role': 'Colorist'}]\",\n",
       "       \"[{'author_id': '580494', 'role': 'Writer'}, {'author_id': '414057', 'role': 'Illustrations'}]\",\n",
       "       \"[{'author_id': '12732', 'role': ''}, {'author_id': '9931', 'role': 'Illustrator'}, {'author_id': '24602', 'role': 'Illustrator'}, {'author_id': '183475', 'role': 'Illustrator'}, {'author_id': '554069', 'role': 'Illustrator'}, {'author_id': '1230637', 'role': 'Illustrator'}]\",\n",
       "       \"[{'author_id': '52980', 'role': ''}, {'author_id': '3379783', 'role': 'Artist'}, {'author_id': '583666', 'role': 'Colorist'}]\",\n",
       "       \"[{'author_id': '89393', 'role': 'Writer'}, {'author_id': '444929', 'role': ''}, {'author_id': '13681', 'role': 'Illustrations'}, {'author_id': '57742', 'role': 'Illustrations'}]\",\n",
       "       \"[{'author_id': '15083', 'role': ''}, {'author_id': '1630', 'role': 'Introduction'}, {'author_id': '81221', 'role': 'Inker'}]\",\n",
       "       \"[{'author_id': '304949', 'role': ''}]\",\n",
       "       \"[{'author_id': '8476', 'role': ''}, {'author_id': '362098', 'role': 'Translator'}]\",\n",
       "       \"[{'author_id': '5363', 'role': ''}, {'author_id': '89497', 'role': ''}, {'author_id': '12757', 'role': ''}, {'author_id': '18810', 'role': ''}, {'author_id': '10306', 'role': 'Illustrator'}, {'author_id': '1068644', 'role': 'Illustrator'}, {'author_id': '89368', 'role': 'Illustrator'}, {'author_id': '61374', 'role': 'Illustrator'}, {'author_id': '306740', 'role': 'Illustrator'}, {'author_id': '161079', 'role': 'Illustrator'}, {'author_id': '3002836', 'role': 'Illustrator'}]\",\n",
       "       \"[{'author_id': '24514', 'role': ''}, {'author_id': '24595', 'role': 'Illustrator'}, {'author_id': '485220', 'role': 'Illustrator'}, {'author_id': '52180', 'role': 'Illustrator'}, {'author_id': '622042', 'role': 'Illustrator'}, {'author_id': '3952953', 'role': 'Illustrator'}]\",\n",
       "       \"[{'author_id': '29482', 'role': ''}]\",\n",
       "       \"[{'author_id': '8469', 'role': ''}, {'author_id': '54848', 'role': 'English adaption'}, {'author_id': '15080169', 'role': 'Translator'}, {'author_id': '234377', 'role': 'Touch-Up Art & Lettering'}]\",\n",
       "       \"[{'author_id': '5363', 'role': 'Writer'}, {'author_id': '6518797', 'role': 'Illustrator'}, {'author_id': '121424', 'role': 'Illustrator'}]\",\n",
       "       \"[{'author_id': '12424', 'role': ''}, {'author_id': '12430', 'role': 'Illustrator'}]\",\n",
       "       \"[{'author_id': '24514', 'role': ''}, {'author_id': '4978', 'role': ''}]\",\n",
       "       \"[{'author_id': '2830569', 'role': ''}, {'author_id': '7376837', 'role': 'Translator'}]\",\n",
       "       \"[{'author_id': '24514', 'role': ''}, {'author_id': '4978', 'role': 'Illustrator'}]\",\n",
       "       \"[{'author_id': '12424', 'role': 'Writer'}, {'author_id': '61322', 'role': 'Penciler'}, {'author_id': '61333', 'role': 'Inker'}, {'author_id': '3874180', 'role': 'Colourist'}, {'author_id': '2924969', 'role': 'Letterer'}, {'author_id': '10303', 'role': 'Scripter'}, {'author_id': '10299', 'role': 'Penciler, Writer'}, {'author_id': '324208', 'role': 'Inker'}, {'author_id': '2437990', 'role': 'Colourist'}, {'author_id': '61314', 'role': 'Penciler'}, {'author_id': '1425345', 'role': 'Artist'}, {'author_id': '15083', 'role': 'Artist'}, {'author_id': '61318', 'role': 'Penciler'}, {'author_id': '169661', 'role': 'Inker'}, {'author_id': '15089', 'role': 'Artist'}, {'author_id': '15078', 'role': 'Artist'}, {'author_id': '40749', 'role': 'Artist'}, {'author_id': '89372', 'role': 'Artist'}, {'author_id': '56059', 'role': 'Artist'}, {'author_id': '61367', 'role': 'Artist'}, {'author_id': '61317', 'role': 'Artist'}, {'author_id': '7770422', 'role': 'Colourist'}, {'author_id': '66497', 'role': 'Artist'}, {'author_id': '12771', 'role': 'Artist'}, {'author_id': '2901524', 'role': 'Colourist'}, {'author_id': '391524', 'role': 'Artist'}, {'author_id': '14852944', 'role': 'Colourist'}, {'author_id': '57742', 'role': 'Artist'}, {'author_id': '9933', 'role': 'Artist'}, {'author_id': '5035010', 'role': 'Colourist'}, {'author_id': '190061', 'role': 'Penciler'}, {'author_id': '61324', 'role': 'Inker'}, {'author_id': '924912', 'role': 'Colourist'}, {'author_id': '52727', 'role': 'Penciler'}, {'author_id': '61368', 'role': 'Inker'}, {'author_id': '61970', 'role': 'Artist'}, {'author_id': '57450', 'role': 'Colourist'}, {'author_id': '10455', 'role': 'Artist'}]\",\n",
       "       \"[{'author_id': '5502630', 'role': ''}, {'author_id': '7448765', 'role': 'Illustrator'}]\",\n",
       "       \"[{'author_id': '24514', 'role': 'Writer'}, {'author_id': '90560', 'role': 'Penciller'}, {'author_id': '325407', 'role': 'Penciller'}, {'author_id': '1624574', 'role': 'Inker'}, {'author_id': '54362', 'role': 'Letterer'}]\",\n",
       "       \"[{'author_id': '5595081', 'role': ''}, {'author_id': '17060339', 'role': 'Translator'}]\",\n",
       "       \"[{'author_id': '15872', 'role': ''}, {'author_id': '3376756', 'role': ''}, {'author_id': '4982463', 'role': ''}, {'author_id': '105630', 'role': 'adaptor'}]\",\n",
       "       \"[{'author_id': '6586803', 'role': 'Writer'}, {'author_id': '594966', 'role': 'Text'}, {'author_id': '16965', 'role': 'Illustrations'}]\",\n",
       "       \"[{'author_id': '55743', 'role': ''}]\",\n",
       "       \"[{'author_id': '10305', 'role': 'Writer'}, {'author_id': '9717', 'role': 'Penciler'}, {'author_id': '701950', 'role': 'Inker'}, {'author_id': '2748655', 'role': 'Inker'}, {'author_id': '162369', 'role': 'Colourist'}, {'author_id': '2741650', 'role': 'Letterer'}]\",\n",
       "       \"[{'author_id': '3961', 'role': ''}, {'author_id': '61919', 'role': 'Illustrator'}, {'author_id': '506243', 'role': '3D'}]\",\n",
       "       \"[{'author_id': '4822', 'role': ''}, {'author_id': '89369', 'role': 'Illustrator'}, {'author_id': '53979', 'role': 'Illustrator'}, {'author_id': '306740', 'role': 'Illustrator'}]\",\n",
       "       \"[{'author_id': '15091', 'role': ''}, {'author_id': '40749', 'role': 'Illustrator'}]\",\n",
       "       \"[{'author_id': '1226213', 'role': 'Writer, Penciler'}, {'author_id': '323516', 'role': 'Inker'}, {'author_id': '6967235', 'role': 'Inker'}, {'author_id': '671509', 'role': 'Artist'}]\",\n",
       "       \"[{'author_id': '4263', 'role': 'Scriptwriter/Illustrator'}, {'author_id': '7381779', 'role': 'Translator'}, {'author_id': '94765', 'role': 'Translator'}, {'author_id': '2873504', 'role': 'Translator'}, {'author_id': '3110459', 'role': 'Translator'}]\",\n",
       "       \"[{'author_id': '12732', 'role': ''}]\",\n",
       "       \"[{'author_id': '137902', 'role': 'Adapter'}, {'author_id': '139287', 'role': 'Illustrator'}, {'author_id': '2442007', 'role': 'Adapter'}]\",\n",
       "       \"[{'author_id': '68959', 'role': 'Writer'}, {'author_id': '90808', 'role': 'Writer'}, {'author_id': '1160825', 'role': 'Writer'}, {'author_id': '536204', 'role': 'Illustrator'}, {'author_id': '1104332', 'role': 'Editor'}]\",\n",
       "       \"[{'author_id': '9018', 'role': 'Writer'}, {'author_id': '14304', 'role': ''}, {'author_id': '92725', 'role': 'Finishes'}]\",\n",
       "       \"[{'author_id': '2402', 'role': ''}, {'author_id': '4395846', 'role': ''}]\",\n",
       "       \"[{'author_id': '87205', 'role': ''}, {'author_id': '87206', 'role': 'Translator'}]\",\n",
       "       \"[{'author_id': '28463', 'role': ''}, {'author_id': '28462', 'role': 'Illustrator'}]\",\n",
       "       \"[{'author_id': '6423138', 'role': 'Writer'}, {'author_id': '3856312', 'role': 'Artist'}, {'author_id': '3193030', 'role': 'Colorist'}, {'author_id': '6523626', 'role': 'Letterer'}, {'author_id': '7031121', 'role': 'Cover Artist'}]\",\n",
       "       \"[{'author_id': '6887314', 'role': ''}, {'author_id': '8202497', 'role': ''}, {'author_id': '3335762', 'role': 'Illustrator'}]\",\n",
       "       \"[{'author_id': '629150', 'role': ''}]\",\n",
       "       \"[{'author_id': '3961', 'role': ''}, {'author_id': '89614', 'role': 'Illustrator'}, {'author_id': '2398', 'role': 'Illustrator'}]\",\n",
       "       \"[{'author_id': '11528', 'role': 'Adapted by'}, {'author_id': '6967537', 'role': ''}]\",\n",
       "       \"[{'author_id': '1221698', 'role': ''}, {'author_id': '13359', 'role': 'Illustrator'}, {'author_id': '7271', 'role': 'Illustrator'}, {'author_id': '52930', 'role': 'Illustrator'}, {'author_id': '89606', 'role': 'Introduction'}]\",\n",
       "       \"[{'author_id': '2688', 'role': ''}, {'author_id': '10311', 'role': ''}, {'author_id': '22722', 'role': ''}]\",\n",
       "       \"[{'author_id': '12424', 'role': 'Writer'}, {'author_id': '14613', 'role': 'Penciler'}, {'author_id': '89373', 'role': 'Inker'}, {'author_id': '6548737', 'role': 'Colourist'}, {'author_id': '5752958', 'role': 'Letterer'}]\",\n",
       "       \"[{'author_id': '2877597', 'role': ''}]\",\n",
       "       \"[{'author_id': '255466', 'role': 'writer'}]\",\n",
       "       \"[{'author_id': '70026', 'role': 'Writer'}, {'author_id': '580495', 'role': 'Illustrations'}, {'author_id': '6448312', 'role': 'Illustrations'}]\",\n",
       "       \"[{'author_id': '4822', 'role': 'Writer'}, {'author_id': '89369', 'role': 'Illustrator'}, {'author_id': '18834', 'role': 'Illustrator'}, {'author_id': '53979', 'role': 'Illustrator'}, {'author_id': '306740', 'role': 'Illustrator'}, {'author_id': '419912', 'role': 'Illustrator'}, {'author_id': '536800', 'role': 'Illustrator'}, {'author_id': '12773', 'role': 'Illustrator'}, {'author_id': '86488', 'role': 'Illustrator'}, {'author_id': '4320339', 'role': 'Illustrator'}, {'author_id': '61324', 'role': 'Illustrator'}]\",\n",
       "       \"[{'author_id': '50040', 'role': ''}, {'author_id': '61914', 'role': ''}]\",\n",
       "       \"[{'author_id': '5741473', 'role': ''}]\",\n",
       "       \"[{'author_id': '4198059', 'role': ''}]\",\n",
       "       \"[{'author_id': '998418', 'role': ''}, {'author_id': '17444', 'role': 'Illustrator'}]\",\n",
       "       \"[{'author_id': '162936', 'role': ''}, {'author_id': '57285', 'role': 'Illustrator'}, {'author_id': '15076', 'role': 'Colorist'}, {'author_id': '321799', 'role': 'Letterer'}]\",\n",
       "       \"[{'author_id': '209672', 'role': ''}, {'author_id': '2014', 'role': 'Introduction'}, {'author_id': '54620', 'role': 'Afterword'}]\",\n",
       "       \"[{'author_id': '133217', 'role': ''}]\",\n",
       "       \"[{'author_id': '10299', 'role': 'Author and Illustrator'}, {'author_id': '133284', 'role': 'Illustrator'}, {'author_id': '89161', 'role': 'Introduction'}]\",\n",
       "       \"[{'author_id': '2397976', 'role': ''}]\",\n",
       "       \"[{'author_id': '2689', 'role': ''}, {'author_id': '12424', 'role': ''}, {'author_id': '56059', 'role': 'Illustrator'}, {'author_id': '36047', 'role': 'Illustrator'}, {'author_id': '61326', 'role': 'Illustrator'}, {'author_id': '61327', 'role': 'Illustrator'}]\",\n",
       "       \"[{'author_id': '6887314', 'role': ''}, {'author_id': '6928546', 'role': ''}, {'author_id': '8202497', 'role': 'Co-Creator'}, {'author_id': '6851809', 'role': 'Colorist'}, {'author_id': '8337554', 'role': 'Letterer'}, {'author_id': '3335762', 'role': 'Illustrator'}]\",\n",
       "       \"[{'author_id': '27498', 'role': 'Creator'}, {'author_id': '73351', 'role': 'Writer'}, {'author_id': '469607', 'role': 'Illustrator'}]\",\n",
       "       \"[{'author_id': '791996', 'role': ''}]\",\n",
       "       \"[{'author_id': '92149', 'role': 'Writer'}, {'author_id': '12444', 'role': 'Writer'}, {'author_id': '608866', 'role': 'Artist'}, {'author_id': '2976531', 'role': 'Artist'}, {'author_id': '9931', 'role': 'Artist'}, {'author_id': '7032362', 'role': 'Artist'}, {'author_id': '63764', 'role': 'Artist'}, {'author_id': '13558419', 'role': 'Artist'}, {'author_id': '2808576', 'role': 'Colourist'}, {'author_id': '18833', 'role': 'Colourist'}, {'author_id': '321799', 'role': 'Letterer'}, {'author_id': '8999', 'role': 'Cover Artist'}]\",\n",
       "       \"[{'author_id': '10305', 'role': ''}, {'author_id': '12732', 'role': ''}, {'author_id': '18327', 'role': ''}, {'author_id': '5363', 'role': ''}, {'author_id': '32598', 'role': 'Illustrator'}, {'author_id': '418985', 'role': 'Illustrator'}, {'author_id': '491750', 'role': 'Illustrator'}, {'author_id': '161079', 'role': 'Illustrator'}, {'author_id': '1122123', 'role': 'Illustrator'}, {'author_id': '325563', 'role': 'Illustrator'}, {'author_id': '11881861', 'role': 'Illustrator'}]\",\n",
       "       \"[{'author_id': '49177', 'role': ''}, {'author_id': '65333', 'role': 'Illustrations'}]\",\n",
       "       \"[{'author_id': '24514', 'role': 'Writer'}, {'author_id': '90560', 'role': 'Penciller'}, {'author_id': '325407', 'role': 'Penciller/Inker'}, {'author_id': '1624574', 'role': 'Inker'}, {'author_id': '54362', 'role': 'Letterer'}]\",\n",
       "       \"[{'author_id': '904190', 'role': ''}, {'author_id': '1190990', 'role': 'Illustrations'}, {'author_id': '4416615', 'role': 'Ink'}, {'author_id': '2192311', 'role': 'Translator'}]\",\n",
       "       \"[{'author_id': '61382', 'role': 'Writer'}, {'author_id': '12431', 'role': 'Artist'}, {'author_id': '3874180', 'role': 'Colourist'}]\",\n",
       "       \"[{'author_id': '24514', 'role': ''}, {'author_id': '4978', 'role': 'Artist'}, {'author_id': '62105', 'role': 'Artist'}]\",\n",
       "       \"[{'author_id': '68959', 'role': ''}, {'author_id': '4442162', 'role': ''}]\",\n",
       "       \"[{'author_id': '52980', 'role': 'Writer'}, {'author_id': '945437', 'role': 'Illustrator'}, {'author_id': '2808576', 'role': 'Colorist'}, {'author_id': '52924', 'role': 'Introduction'}]\",\n",
       "       \"[{'author_id': '5182891', 'role': ''}]\",\n",
       "       \"[{'author_id': '3189062', 'role': ''}]\",\n",
       "       \"[{'author_id': '68959', 'role': 'Writer'}, {'author_id': '90808', 'role': 'Writer'}, {'author_id': '1160825', 'role': 'Writer'}, {'author_id': '1104332', 'role': 'Editor'}, {'author_id': '536204', 'role': 'Illustrator'}]\",\n",
       "       \"[{'author_id': '498072', 'role': ''}]\",\n",
       "       \"[{'author_id': '26392', 'role': ''}, {'author_id': '2192311', 'role': 'Translator'}, {'author_id': '3141986', 'role': 'Translator'}]\",\n",
       "       \"[{'author_id': '52980', 'role': 'Writer'}, {'author_id': '268214', 'role': 'Illustrator'}, {'author_id': '184311', 'role': 'Illustrator'}, {'author_id': '583666', 'role': 'Colorist'}]\",\n",
       "       \"[{'author_id': '151716', 'role': ''}, {'author_id': '7372180', 'role': ''}]\",\n",
       "       \"[{'author_id': '311098', 'role': ''}]\",\n",
       "       \"[{'author_id': '270939', 'role': ''}]\",\n",
       "       \"[{'author_id': '32594', 'role': ''}, {'author_id': '61388', 'role': ''}]\",\n",
       "       \"[{'author_id': '7211475', 'role': 'Adaptor'}, {'author_id': '791967', 'role': 'Zuo Hua '}, {'author_id': '18019', 'role': 'Original concept'}, {'author_id': '791968', 'role': 'Yuan Zuo '}]\",\n",
       "       \"[{'author_id': '580494', 'role': ''}, {'author_id': '4456310', 'role': 'Illustrator'}]\",\n",
       "       \"[{'author_id': '634455', 'role': ''}]\",\n",
       "       \"[{'author_id': '67379', 'role': ''}, {'author_id': '5117', 'role': 'Introduction'}, {'author_id': '3002209', 'role': 'Translator'}]\",\n",
       "       \"[{'author_id': '784067', 'role': ''}, {'author_id': '4215745', 'role': 'Translator'}]\",\n",
       "       \"[{'author_id': '18015', 'role': 'Text'}, {'author_id': '12775', 'role': 'Illustrator'}]\",\n",
       "       \"[{'author_id': '13435870', 'role': ''}]\",\n",
       "       \"[{'author_id': '27372', 'role': 'Editor'}]\",\n",
       "       \"[{'author_id': '108424', 'role': ''}, {'author_id': '4173628', 'role': 'Illustrator'}]\",\n",
       "       \"[{'author_id': '9018', 'role': 'Writer'}, {'author_id': '70667', 'role': 'Writer'}, {'author_id': '61382', 'role': 'Writer'}, {'author_id': '38492', 'role': 'Writer'}, {'author_id': '38491', 'role': 'Writer'}, {'author_id': '19020', 'role': 'Penciler'}, {'author_id': '61322', 'role': 'Penciler'}, {'author_id': '424320', 'role': 'Artist'}, {'author_id': '3456179', 'role': 'Artist'}, {'author_id': '6542722', 'role': 'Artist'}, {'author_id': '977133', 'role': 'Colourist'}, {'author_id': '617162', 'role': 'Colourist'}]\",\n",
       "       \"[{'author_id': '16587', 'role': 'Writer'}, {'author_id': '5328799', 'role': 'Text'}, {'author_id': '4227720', 'role': 'Illustrations'}, {'author_id': '4091705', 'role': 'Illustrations'}]\",\n",
       "       \"[{'author_id': '13374043', 'role': ''}]\",\n",
       "       \"[{'author_id': '37450', 'role': 'Writer'}, {'author_id': '61367', 'role': 'Artist'}, {'author_id': '61368', 'role': 'Artist'}, {'author_id': '3874180', 'role': 'Colourist'}, {'author_id': '3400429', 'role': 'Letterer'}]\",\n",
       "       \"[{'author_id': '5248114', 'role': ''}, {'author_id': '14738552', 'role': 'Illustrator'}, {'author_id': '6093780', 'role': 'Contributor'}, {'author_id': '1424560', 'role': 'Contributor'}]\",\n",
       "       \"[{'author_id': '1641284', 'role': 'Writer'}, {'author_id': '205814', 'role': 'Illustrator'}, {'author_id': '4458167', 'role': 'Illustrator'}, {'author_id': '7862532', 'role': 'Cover artist'}]\",\n",
       "       \"[{'author_id': '58128', 'role': 'Writer'}, {'author_id': '1231342', 'role': 'Illustrator'}, {'author_id': '14304', 'role': 'Illustrator'}, {'author_id': '5989', 'role': 'Introduction'}]\",\n",
       "       \"[{'author_id': '12424', 'role': 'Writer'}, {'author_id': '467693', 'role': ''}, {'author_id': '61369', 'role': ''}, {'author_id': '7617084', 'role': ''}, {'author_id': '56059', 'role': 'Illustrations'}, {'author_id': '61368', 'role': 'Illustrations'}, {'author_id': '330671', 'role': 'Illustrations'}, {'author_id': '61371', 'role': 'Illustrations'}]\",\n",
       "       \"[{'author_id': '52980', 'role': 'Writer'}, {'author_id': '89392', 'role': 'Artist'}, {'author_id': '479004', 'role': 'Colourist'}]\",\n",
       "       \"[{'author_id': '70026', 'role': 'Writer'}, {'author_id': '5055739', 'role': 'Writer'}, {'author_id': '6434761', 'role': 'Writer'}, {'author_id': '161080', 'role': 'Illustrator'}, {'author_id': '415768', 'role': 'Illustrator'}, {'author_id': '306735', 'role': 'Illustrator'}, {'author_id': '1007397', 'role': 'Illustrator'}]\",\n",
       "       \"[{'author_id': '24514', 'role': ''}, {'author_id': '4978', 'role': ''}, {'author_id': '98075', 'role': ''}]\",\n",
       "       \"[{'author_id': '12732', 'role': ''}, {'author_id': '884135', 'role': 'Illustrator'}, {'author_id': '1226213', 'role': 'Illustrator'}, {'author_id': '436713', 'role': 'Illustrator'}]\",\n",
       "       \"[{'author_id': '16589', 'role': 'illustrator'}, {'author_id': '16591', 'role': ''}]\",\n",
       "       \"[{'author_id': '32598', 'role': ''}, {'author_id': '50040', 'role': ''}, {'author_id': '26016', 'role': 'Illustrator'}, {'author_id': '194634', 'role': 'Illustrator'}]\",\n",
       "       \"[{'author_id': '61384', 'role': 'Writer'}, {'author_id': '55812', 'role': ''}]\",\n",
       "       \"[{'author_id': '12425', 'role': ''}, {'author_id': '16962', 'role': 'illustrator'}, {'author_id': '518948', 'role': 'illustrator'}]\",\n",
       "       \"[{'author_id': '62104', 'role': 'Writer, Artist'}, {'author_id': '6936228', 'role': 'Colourist'}, {'author_id': '4497193', 'role': 'Letterer'}]\",\n",
       "       \"[{'author_id': '19886', 'role': ''}, {'author_id': '28709', 'role': ''}, {'author_id': '28712', 'role': ''}, {'author_id': '61925', 'role': 'Illustrator'}, {'author_id': '190062', 'role': 'Illustrator'}, {'author_id': '415768', 'role': 'Illustrator'}, {'author_id': '89150', 'role': 'Illustrator'}]\",\n",
       "       \"[{'author_id': '45103', 'role': 'Writer'}, {'author_id': '1186079', 'role': 'Illustrator'}, {'author_id': '45104', 'role': 'Illustrator'}, {'author_id': '4608379', 'role': 'Illustrator'}, {'author_id': '30782', 'role': 'Illustrator'}]\",\n",
       "       \"[{'author_id': '14461', 'role': ''}, {'author_id': '161077', 'role': ''}, {'author_id': '15093', 'role': ''}, {'author_id': '24514', 'role': ''}, {'author_id': '161085', 'role': 'Text'}, {'author_id': '14460', 'role': 'Text'}, {'author_id': '4822', 'role': 'Text'}]\",\n",
       "       \"[{'author_id': '3961', 'role': ''}, {'author_id': '33113', 'role': ''}]\",\n",
       "       \"[{'author_id': '15085', 'role': ''}, {'author_id': '15090', 'role': 'Illustrator'}, {'author_id': '5763607', 'role': 'Illustrator'}, {'author_id': '2348505', 'role': 'Introduction'}]\",\n",
       "       \"[{'author_id': '761380', 'role': ''}, {'author_id': '752696', 'role': 'Illustrator'}, {'author_id': '3309821', 'role': 'Translator'}]\",\n",
       "       \"[{'author_id': '4999130', 'role': ''}]\",\n",
       "       \"[{'author_id': '9550', 'role': ''}, {'author_id': '1992760', 'role': ''}, {'author_id': '242006', 'role': 'Text'}, {'author_id': '8621', 'role': 'Text'}, {'author_id': '822927', 'role': 'Illustrations'}]\",\n",
       "       \"[{'author_id': '580494', 'role': ''}, {'author_id': '12775', 'role': 'Illustrations'}, {'author_id': '57450', 'role': ''}]\",\n",
       "       \"[{'author_id': '594966', 'role': 'Writer'}, {'author_id': '2936063', 'role': 'Illustrator'}]\",\n",
       "       \"[{'author_id': '147221', 'role': ''}, {'author_id': '58917', 'role': ''}, {'author_id': '14369658', 'role': 'Translator'}]\",\n",
       "       \"[{'author_id': '2956016', 'role': ''}]\",\n",
       "       \"[{'author_id': '7812495', 'role': ''}]\",\n",
       "       \"[{'author_id': '37450', 'role': ''}, {'author_id': '18327', 'role': ''}, {'author_id': '61366', 'role': 'Illustrator'}]\",\n",
       "       \"[{'author_id': '61230', 'role': ''}]\",\n",
       "       \"[{'author_id': '543719', 'role': 'Writer, Artist, Water Colourist'}, {'author_id': '10179', 'role': 'Artist'}, {'author_id': '12739', 'role': 'Colourist'}, {'author_id': '6950033', 'role': 'Letterer'}]\",\n",
       "       \"[{'author_id': '21618', 'role': ''}, {'author_id': '21616', 'role': 'creator'}]\",\n",
       "       \"[{'author_id': '24514', 'role': 'Writer'}, {'author_id': '304633', 'role': 'Illustrator'}]\",\n",
       "       \"[{'author_id': '4822', 'role': ''}, {'author_id': '2883458', 'role': 'Illustrations'}]\",\n",
       "       \"[{'author_id': '91876', 'role': ''}]\"], dtype=object)"
      ]
     },
     "execution_count": 53,
     "metadata": {},
     "output_type": "execute_result"
    }
   ],
   "source": [
    "#Checking unique authors \n",
    "\n",
    "books['authors'].unique()"
   ]
  },
  {
   "cell_type": "code",
   "execution_count": 27,
   "id": "3946bd9a",
   "metadata": {},
   "outputs": [
    {
     "data": {
      "text/plain": [
       "array(['Hardcover', 'Paperback', nan, 'Kindle Edition', 'Comic Book',\n",
       "       'Slipcased Hardcover', 'ebook', 'Library Binding', 'Comic'],\n",
       "      dtype=object)"
      ]
     },
     "execution_count": 27,
     "metadata": {},
     "output_type": "execute_result"
    }
   ],
   "source": [
    "#Checking the values in format column for books\n",
    "\n",
    "books['format'].unique()"
   ]
  },
  {
   "cell_type": "code",
   "execution_count": 28,
   "id": "452e4602",
   "metadata": {},
   "outputs": [
    {
     "data": {
      "text/plain": [
       "array(['US'], dtype=object)"
      ]
     },
     "execution_count": 28,
     "metadata": {},
     "output_type": "execute_result"
    }
   ],
   "source": [
    "#Checking types of country_code\n",
    "\n",
    "books['country_code'].unique()"
   ]
  },
  {
   "cell_type": "code",
   "execution_count": 29,
   "id": "8313a225",
   "metadata": {},
   "outputs": [
    {
     "data": {
      "text/plain": [
       "(1588897, 12)"
      ]
     },
     "execution_count": 29,
     "metadata": {},
     "output_type": "execute_result"
    }
   ],
   "source": [
    "#Checking if reviews data a subset of interactions data\n",
    "\n",
    "interactions_read = interactions[interactions['is_read'] == True]\n",
    "\n",
    "interactions_read.shape"
   ]
  },
  {
   "cell_type": "markdown",
   "id": "573edcd5",
   "metadata": {},
   "source": [
    "The reviews data is not a subset of the interactions data based on the 'is_read' column"
   ]
  },
  {
   "cell_type": "code",
   "execution_count": 32,
   "id": "8e0025c1",
   "metadata": {},
   "outputs": [],
   "source": [
    "#Checking the values of maximum and minimum date_updated column in reviews data and interactions data\n",
    "\n",
    "#Reviews data\n",
    "reviews['date_updated'] = reviews['date_updated'].astype('str')"
   ]
  },
  {
   "cell_type": "code",
   "execution_count": 33,
   "id": "4f2ed298",
   "metadata": {},
   "outputs": [],
   "source": [
    "reviews['date_num_updated'] = reviews['date_updated'].str.slice(start = 8, stop = 10)\n",
    "reviews['month_updated'] = reviews['date_updated'].str.slice(start = 4, stop = 7)\n",
    "reviews['year_updated'] = reviews['date_updated'].str.slice(start = 26, stop = 30)"
   ]
  },
  {
   "cell_type": "code",
   "execution_count": 34,
   "id": "1aa68b64",
   "metadata": {},
   "outputs": [],
   "source": [
    "reviews['date_updated_exact'] = reviews['year_updated'] + \" \" + reviews['month_updated'] + \" \" + reviews['date_num_updated']"
   ]
  },
  {
   "cell_type": "code",
   "execution_count": 35,
   "id": "7eea9198",
   "metadata": {},
   "outputs": [],
   "source": [
    "reviews['date_updated_exact'] = pd.to_datetime(reviews['date_updated_exact'], format = \"%Y %b %d\")"
   ]
  },
  {
   "cell_type": "code",
   "execution_count": 36,
   "id": "4d0ab07f",
   "metadata": {
    "scrolled": true
   },
   "outputs": [
    {
     "data": {
      "text/plain": [
       "0   2016-04-21\n",
       "1   2014-12-21\n",
       "2   2008-09-07\n",
       "3   2016-01-30\n",
       "4   2010-01-17\n",
       "Name: date_updated_exact, dtype: datetime64[ns]"
      ]
     },
     "execution_count": 36,
     "metadata": {},
     "output_type": "execute_result"
    }
   ],
   "source": [
    "reviews['date_updated_exact'].head()"
   ]
  },
  {
   "cell_type": "code",
   "execution_count": 37,
   "id": "22337658",
   "metadata": {},
   "outputs": [
    {
     "data": {
      "text/plain": [
       "Timestamp('2007-03-09 00:00:00')"
      ]
     },
     "execution_count": 37,
     "metadata": {},
     "output_type": "execute_result"
    }
   ],
   "source": [
    "reviews['date_updated_exact'].min()"
   ]
  },
  {
   "cell_type": "code",
   "execution_count": 38,
   "id": "21ea32f1",
   "metadata": {},
   "outputs": [
    {
     "data": {
      "text/plain": [
       "Timestamp('2017-11-05 00:00:00')"
      ]
     },
     "execution_count": 38,
     "metadata": {},
     "output_type": "execute_result"
    }
   ],
   "source": [
    "reviews['date_updated_exact'].max()"
   ]
  },
  {
   "cell_type": "code",
   "execution_count": 39,
   "id": "0f9c0be0",
   "metadata": {},
   "outputs": [],
   "source": [
    "#Interactions data\n",
    "interactions['date_updated'] = interactions['date_updated'].astype('str')"
   ]
  },
  {
   "cell_type": "code",
   "execution_count": 40,
   "id": "2a174ac6",
   "metadata": {},
   "outputs": [],
   "source": [
    "interactions['date_num_updated'] = interactions['date_updated'].str.slice(start = 8, stop = 10)\n",
    "interactions['month_updated'] = interactions['date_updated'].str.slice(start = 4, stop = 7)\n",
    "interactions['year_updated'] = interactions['date_updated'].str.slice(start = 26, stop = 30)"
   ]
  },
  {
   "cell_type": "code",
   "execution_count": 41,
   "id": "f5b7b4c9",
   "metadata": {},
   "outputs": [],
   "source": [
    "interactions['date_updated_exact'] = interactions['year_updated'] + \" \" + interactions['month_updated'] + \" \" + interactions['date_num_updated']"
   ]
  },
  {
   "cell_type": "code",
   "execution_count": 42,
   "id": "23633468",
   "metadata": {},
   "outputs": [],
   "source": [
    "interactions['date_updated_exact'] = pd.to_datetime(interactions['date_updated_exact'], format = \"%Y %b %d\")"
   ]
  },
  {
   "cell_type": "code",
   "execution_count": 43,
   "id": "bce69f06",
   "metadata": {},
   "outputs": [
    {
     "data": {
      "text/plain": [
       "0   2012-06-04\n",
       "1   2014-07-14\n",
       "2   2012-07-29\n",
       "3   2012-06-04\n",
       "4   2012-06-04\n",
       "Name: date_updated_exact, dtype: datetime64[ns]"
      ]
     },
     "execution_count": 43,
     "metadata": {},
     "output_type": "execute_result"
    }
   ],
   "source": [
    "interactions['date_updated_exact'].head()"
   ]
  },
  {
   "cell_type": "code",
   "execution_count": 44,
   "id": "e9edb575",
   "metadata": {},
   "outputs": [
    {
     "data": {
      "text/plain": [
       "Timestamp('2006-12-30 00:00:00')"
      ]
     },
     "execution_count": 44,
     "metadata": {},
     "output_type": "execute_result"
    }
   ],
   "source": [
    "interactions['date_updated_exact'].min()"
   ]
  },
  {
   "cell_type": "code",
   "execution_count": 45,
   "id": "309762bd",
   "metadata": {},
   "outputs": [
    {
     "data": {
      "text/plain": [
       "Timestamp('2017-11-05 00:00:00')"
      ]
     },
     "execution_count": 45,
     "metadata": {},
     "output_type": "execute_result"
    }
   ],
   "source": [
    "interactions['date_updated_exact'].max()"
   ]
  },
  {
   "cell_type": "code",
   "execution_count": 46,
   "id": "987f5eda",
   "metadata": {},
   "outputs": [],
   "source": [
    "#Subsetting interactions data without 2016, as it is an extra year as compared to reviews data; Filtering for books read\n",
    "\n",
    "inte_sub = interactions[(interactions['year_updated'] != '2016') & (interactions['is_read'] != False)]"
   ]
  },
  {
   "cell_type": "code",
   "execution_count": 47,
   "id": "f9f682d4",
   "metadata": {},
   "outputs": [],
   "source": [
    "#Merging reiews data and subsetted interactions data to see if they match\n",
    "\n",
    "reader_inter =  pd.merge(reviews[['review_id']], inte_sub, how = \"inner\", on = [\"review_id\"])"
   ]
  },
  {
   "cell_type": "code",
   "execution_count": 48,
   "id": "2806696c",
   "metadata": {},
   "outputs": [
    {
     "data": {
      "text/plain": [
       "(112731, 16)"
      ]
     },
     "execution_count": 48,
     "metadata": {},
     "output_type": "execute_result"
    }
   ],
   "source": [
    "reader_inter.shape"
   ]
  },
  {
   "cell_type": "code",
   "execution_count": 49,
   "id": "5b2ffb12",
   "metadata": {},
   "outputs": [],
   "source": [
    "#Getting review data columns in interactions data \n",
    "\n",
    "interactions = interactions.drop(['review_text_incomplete', 'Unnamed: 0', 'Unnamed: 0.1'], axis = 1)\n",
    "interactions_rev =  pd.merge(interactions, reviews[['review_id', 'n_votes', 'n_comments']], how = \"left\", on = ['review_id'])"
   ]
  },
  {
   "cell_type": "code",
   "execution_count": 50,
   "id": "b8f26e1a",
   "metadata": {
    "scrolled": false
   },
   "outputs": [
    {
     "data": {
      "text/html": [
       "<div>\n",
       "<style scoped>\n",
       "    .dataframe tbody tr th:only-of-type {\n",
       "        vertical-align: middle;\n",
       "    }\n",
       "\n",
       "    .dataframe tbody tr th {\n",
       "        vertical-align: top;\n",
       "    }\n",
       "\n",
       "    .dataframe thead th {\n",
       "        text-align: right;\n",
       "    }\n",
       "</style>\n",
       "<table border=\"1\" class=\"dataframe\">\n",
       "  <thead>\n",
       "    <tr style=\"text-align: right;\">\n",
       "      <th></th>\n",
       "      <th>book_id</th>\n",
       "      <th>user_id</th>\n",
       "      <th>review_id</th>\n",
       "      <th>is_read</th>\n",
       "      <th>rating</th>\n",
       "      <th>date_added</th>\n",
       "      <th>date_updated</th>\n",
       "      <th>read_at</th>\n",
       "      <th>started_at</th>\n",
       "      <th>date_num_updated</th>\n",
       "      <th>month_updated</th>\n",
       "      <th>year_updated</th>\n",
       "      <th>date_updated_exact</th>\n",
       "      <th>n_votes</th>\n",
       "      <th>n_comments</th>\n",
       "    </tr>\n",
       "  </thead>\n",
       "  <tbody>\n",
       "    <tr>\n",
       "      <th>0</th>\n",
       "      <td>5805</td>\n",
       "      <td>06316bec7a49286f1f98d5acce24f923</td>\n",
       "      <td>94fb3ec3a16941c3deaf5b45d9df32c5</td>\n",
       "      <td>True</td>\n",
       "      <td>2</td>\n",
       "      <td>Mon Jun 04 19:15:00 -0700 2012</td>\n",
       "      <td>Mon Jun 04 19:15:00 -0700 2012</td>\n",
       "      <td>NaN</td>\n",
       "      <td>NaN</td>\n",
       "      <td>04</td>\n",
       "      <td>Jun</td>\n",
       "      <td>2012</td>\n",
       "      <td>2012-06-04</td>\n",
       "      <td>NaN</td>\n",
       "      <td>NaN</td>\n",
       "    </tr>\n",
       "    <tr>\n",
       "      <th>1</th>\n",
       "      <td>5805</td>\n",
       "      <td>0b9a0d35734107c5df4a1e3787193afb</td>\n",
       "      <td>cd3c9f155cebe80e88a7a9c411c24360</td>\n",
       "      <td>True</td>\n",
       "      <td>3</td>\n",
       "      <td>Sun Dec 09 16:14:38 -0800 2012</td>\n",
       "      <td>Mon Jul 14 08:38:20 -0700 2014</td>\n",
       "      <td>Wed Apr 10 08:14:47 -0700 2013</td>\n",
       "      <td>NaN</td>\n",
       "      <td>14</td>\n",
       "      <td>Jul</td>\n",
       "      <td>2014</td>\n",
       "      <td>2014-07-14</td>\n",
       "      <td>NaN</td>\n",
       "      <td>NaN</td>\n",
       "    </tr>\n",
       "    <tr>\n",
       "      <th>2</th>\n",
       "      <td>5805</td>\n",
       "      <td>8489357f2f485c1a961d4cbdc54ea84b</td>\n",
       "      <td>d25d8656ccf1824f12c212e7d99bd153</td>\n",
       "      <td>False</td>\n",
       "      <td>0</td>\n",
       "      <td>Sun Jul 29 12:00:06 -0700 2012</td>\n",
       "      <td>Sun Jul 29 12:00:06 -0700 2012</td>\n",
       "      <td>NaN</td>\n",
       "      <td>NaN</td>\n",
       "      <td>29</td>\n",
       "      <td>Jul</td>\n",
       "      <td>2012</td>\n",
       "      <td>2012-07-29</td>\n",
       "      <td>NaN</td>\n",
       "      <td>NaN</td>\n",
       "    </tr>\n",
       "    <tr>\n",
       "      <th>3</th>\n",
       "      <td>5805</td>\n",
       "      <td>5d99e945d98169c37484b38244ac444b</td>\n",
       "      <td>5e5b70ece9ff47b73a12bd9c2461fcc8</td>\n",
       "      <td>False</td>\n",
       "      <td>0</td>\n",
       "      <td>Mon Jun 04 22:12:25 -0700 2012</td>\n",
       "      <td>Mon Jun 04 22:12:25 -0700 2012</td>\n",
       "      <td>NaN</td>\n",
       "      <td>NaN</td>\n",
       "      <td>04</td>\n",
       "      <td>Jun</td>\n",
       "      <td>2012</td>\n",
       "      <td>2012-06-04</td>\n",
       "      <td>NaN</td>\n",
       "      <td>NaN</td>\n",
       "    </tr>\n",
       "    <tr>\n",
       "      <th>4</th>\n",
       "      <td>5805</td>\n",
       "      <td>26b5bed05bcabbabdaec4ee08fc43244</td>\n",
       "      <td>64956c237056a385a30ce71978484001</td>\n",
       "      <td>True</td>\n",
       "      <td>4</td>\n",
       "      <td>Mon Jun 04 22:36:29 -0700 2012</td>\n",
       "      <td>Mon Jun 04 22:36:29 -0700 2012</td>\n",
       "      <td>NaN</td>\n",
       "      <td>NaN</td>\n",
       "      <td>04</td>\n",
       "      <td>Jun</td>\n",
       "      <td>2012</td>\n",
       "      <td>2012-06-04</td>\n",
       "      <td>NaN</td>\n",
       "      <td>NaN</td>\n",
       "    </tr>\n",
       "  </tbody>\n",
       "</table>\n",
       "</div>"
      ],
      "text/plain": [
       "   book_id                           user_id  \\\n",
       "0     5805  06316bec7a49286f1f98d5acce24f923   \n",
       "1     5805  0b9a0d35734107c5df4a1e3787193afb   \n",
       "2     5805  8489357f2f485c1a961d4cbdc54ea84b   \n",
       "3     5805  5d99e945d98169c37484b38244ac444b   \n",
       "4     5805  26b5bed05bcabbabdaec4ee08fc43244   \n",
       "\n",
       "                          review_id  is_read  rating  \\\n",
       "0  94fb3ec3a16941c3deaf5b45d9df32c5     True       2   \n",
       "1  cd3c9f155cebe80e88a7a9c411c24360     True       3   \n",
       "2  d25d8656ccf1824f12c212e7d99bd153    False       0   \n",
       "3  5e5b70ece9ff47b73a12bd9c2461fcc8    False       0   \n",
       "4  64956c237056a385a30ce71978484001     True       4   \n",
       "\n",
       "                       date_added                    date_updated  \\\n",
       "0  Mon Jun 04 19:15:00 -0700 2012  Mon Jun 04 19:15:00 -0700 2012   \n",
       "1  Sun Dec 09 16:14:38 -0800 2012  Mon Jul 14 08:38:20 -0700 2014   \n",
       "2  Sun Jul 29 12:00:06 -0700 2012  Sun Jul 29 12:00:06 -0700 2012   \n",
       "3  Mon Jun 04 22:12:25 -0700 2012  Mon Jun 04 22:12:25 -0700 2012   \n",
       "4  Mon Jun 04 22:36:29 -0700 2012  Mon Jun 04 22:36:29 -0700 2012   \n",
       "\n",
       "                          read_at started_at date_num_updated month_updated  \\\n",
       "0                             NaN        NaN               04           Jun   \n",
       "1  Wed Apr 10 08:14:47 -0700 2013        NaN               14           Jul   \n",
       "2                             NaN        NaN               29           Jul   \n",
       "3                             NaN        NaN               04           Jun   \n",
       "4                             NaN        NaN               04           Jun   \n",
       "\n",
       "  year_updated date_updated_exact  n_votes  n_comments  \n",
       "0         2012         2012-06-04      NaN         NaN  \n",
       "1         2014         2014-07-14      NaN         NaN  \n",
       "2         2012         2012-07-29      NaN         NaN  \n",
       "3         2012         2012-06-04      NaN         NaN  \n",
       "4         2012         2012-06-04      NaN         NaN  "
      ]
     },
     "execution_count": 50,
     "metadata": {},
     "output_type": "execute_result"
    }
   ],
   "source": [
    "interactions_rev.head()"
   ]
  },
  {
   "cell_type": "code",
   "execution_count": 51,
   "id": "999f15a8",
   "metadata": {},
   "outputs": [],
   "source": [
    "interactions_read = interactions_rev[interactions_rev['is_read'] == True]"
   ]
  },
  {
   "cell_type": "code",
   "execution_count": 52,
   "id": "42ebaf0c",
   "metadata": {},
   "outputs": [
    {
     "data": {
      "text/plain": [
       "(1588897, 15)"
      ]
     },
     "execution_count": 52,
     "metadata": {},
     "output_type": "execute_result"
    }
   ],
   "source": [
    "interactions_read.shape"
   ]
  },
  {
   "cell_type": "markdown",
   "id": "d43ec5b4",
   "metadata": {},
   "source": [
    "### EDA"
   ]
  },
  {
   "cell_type": "markdown",
   "id": "8bd616f7",
   "metadata": {},
   "source": [
    "##### Segment : Readers with similar reading habits"
   ]
  },
  {
   "cell_type": "code",
   "execution_count": 54,
   "id": "f66711fc",
   "metadata": {},
   "outputs": [],
   "source": [
    "reviews_b =  pd.merge(interactions_read, books, how=\"left\", on=[\"book_id\"])"
   ]
  },
  {
   "cell_type": "code",
   "execution_count": 55,
   "id": "c52b2ad4",
   "metadata": {},
   "outputs": [
    {
     "data": {
      "text/html": [
       "<div>\n",
       "<style scoped>\n",
       "    .dataframe tbody tr th:only-of-type {\n",
       "        vertical-align: middle;\n",
       "    }\n",
       "\n",
       "    .dataframe tbody tr th {\n",
       "        vertical-align: top;\n",
       "    }\n",
       "\n",
       "    .dataframe thead th {\n",
       "        text-align: right;\n",
       "    }\n",
       "</style>\n",
       "<table border=\"1\" class=\"dataframe\">\n",
       "  <thead>\n",
       "    <tr style=\"text-align: right;\">\n",
       "      <th></th>\n",
       "      <th>book_id</th>\n",
       "      <th>user_id</th>\n",
       "      <th>review_id</th>\n",
       "      <th>is_read</th>\n",
       "      <th>rating</th>\n",
       "      <th>date_added</th>\n",
       "      <th>date_updated</th>\n",
       "      <th>read_at</th>\n",
       "      <th>started_at</th>\n",
       "      <th>date_num_updated</th>\n",
       "      <th>...</th>\n",
       "      <th>isbn13</th>\n",
       "      <th>publication_month</th>\n",
       "      <th>edition_information</th>\n",
       "      <th>publication_year</th>\n",
       "      <th>url</th>\n",
       "      <th>image_url</th>\n",
       "      <th>ratings_count</th>\n",
       "      <th>work_id</th>\n",
       "      <th>title</th>\n",
       "      <th>title_without_series</th>\n",
       "    </tr>\n",
       "  </thead>\n",
       "  <tbody>\n",
       "    <tr>\n",
       "      <th>0</th>\n",
       "      <td>5805</td>\n",
       "      <td>06316bec7a49286f1f98d5acce24f923</td>\n",
       "      <td>94fb3ec3a16941c3deaf5b45d9df32c5</td>\n",
       "      <td>True</td>\n",
       "      <td>2</td>\n",
       "      <td>Mon Jun 04 19:15:00 -0700 2012</td>\n",
       "      <td>Mon Jun 04 19:15:00 -0700 2012</td>\n",
       "      <td>NaN</td>\n",
       "      <td>NaN</td>\n",
       "      <td>04</td>\n",
       "      <td>...</td>\n",
       "      <td>9.7814E+12</td>\n",
       "      <td>11.0</td>\n",
       "      <td>NaN</td>\n",
       "      <td>2005.0</td>\n",
       "      <td>https://www.goodreads.com/book/show/5805.V_for...</td>\n",
       "      <td>https://images.gr-assets.com/books/1343668985m...</td>\n",
       "      <td>212464</td>\n",
       "      <td>392838</td>\n",
       "      <td>V for Vendetta</td>\n",
       "      <td>V for Vendetta</td>\n",
       "    </tr>\n",
       "    <tr>\n",
       "      <th>1</th>\n",
       "      <td>5805</td>\n",
       "      <td>0b9a0d35734107c5df4a1e3787193afb</td>\n",
       "      <td>cd3c9f155cebe80e88a7a9c411c24360</td>\n",
       "      <td>True</td>\n",
       "      <td>3</td>\n",
       "      <td>Sun Dec 09 16:14:38 -0800 2012</td>\n",
       "      <td>Mon Jul 14 08:38:20 -0700 2014</td>\n",
       "      <td>Wed Apr 10 08:14:47 -0700 2013</td>\n",
       "      <td>NaN</td>\n",
       "      <td>14</td>\n",
       "      <td>...</td>\n",
       "      <td>9.7814E+12</td>\n",
       "      <td>11.0</td>\n",
       "      <td>NaN</td>\n",
       "      <td>2005.0</td>\n",
       "      <td>https://www.goodreads.com/book/show/5805.V_for...</td>\n",
       "      <td>https://images.gr-assets.com/books/1343668985m...</td>\n",
       "      <td>212464</td>\n",
       "      <td>392838</td>\n",
       "      <td>V for Vendetta</td>\n",
       "      <td>V for Vendetta</td>\n",
       "    </tr>\n",
       "    <tr>\n",
       "      <th>2</th>\n",
       "      <td>5805</td>\n",
       "      <td>26b5bed05bcabbabdaec4ee08fc43244</td>\n",
       "      <td>64956c237056a385a30ce71978484001</td>\n",
       "      <td>True</td>\n",
       "      <td>4</td>\n",
       "      <td>Mon Jun 04 22:36:29 -0700 2012</td>\n",
       "      <td>Mon Jun 04 22:36:29 -0700 2012</td>\n",
       "      <td>NaN</td>\n",
       "      <td>NaN</td>\n",
       "      <td>04</td>\n",
       "      <td>...</td>\n",
       "      <td>9.7814E+12</td>\n",
       "      <td>11.0</td>\n",
       "      <td>NaN</td>\n",
       "      <td>2005.0</td>\n",
       "      <td>https://www.goodreads.com/book/show/5805.V_for...</td>\n",
       "      <td>https://images.gr-assets.com/books/1343668985m...</td>\n",
       "      <td>212464</td>\n",
       "      <td>392838</td>\n",
       "      <td>V for Vendetta</td>\n",
       "      <td>V for Vendetta</td>\n",
       "    </tr>\n",
       "    <tr>\n",
       "      <th>3</th>\n",
       "      <td>5805</td>\n",
       "      <td>faa322d2624b0e7eb3064e39dac4af9c</td>\n",
       "      <td>be878322d4145c25bf2018e5ce3b692e</td>\n",
       "      <td>True</td>\n",
       "      <td>4</td>\n",
       "      <td>Tue Mar 18 16:24:07 -0700 2008</td>\n",
       "      <td>Tue Mar 18 16:24:07 -0700 2008</td>\n",
       "      <td>NaN</td>\n",
       "      <td>NaN</td>\n",
       "      <td>18</td>\n",
       "      <td>...</td>\n",
       "      <td>9.7814E+12</td>\n",
       "      <td>11.0</td>\n",
       "      <td>NaN</td>\n",
       "      <td>2005.0</td>\n",
       "      <td>https://www.goodreads.com/book/show/5805.V_for...</td>\n",
       "      <td>https://images.gr-assets.com/books/1343668985m...</td>\n",
       "      <td>212464</td>\n",
       "      <td>392838</td>\n",
       "      <td>V for Vendetta</td>\n",
       "      <td>V for Vendetta</td>\n",
       "    </tr>\n",
       "    <tr>\n",
       "      <th>4</th>\n",
       "      <td>5805</td>\n",
       "      <td>ac66a7e4003e36fb1c360e0b375e9d07</td>\n",
       "      <td>089f053ca85dd539d37a7c97d00e1c82</td>\n",
       "      <td>True</td>\n",
       "      <td>4</td>\n",
       "      <td>Tue Jun 05 03:00:26 -0700 2012</td>\n",
       "      <td>Tue Jun 05 03:00:26 -0700 2012</td>\n",
       "      <td>NaN</td>\n",
       "      <td>NaN</td>\n",
       "      <td>05</td>\n",
       "      <td>...</td>\n",
       "      <td>9.7814E+12</td>\n",
       "      <td>11.0</td>\n",
       "      <td>NaN</td>\n",
       "      <td>2005.0</td>\n",
       "      <td>https://www.goodreads.com/book/show/5805.V_for...</td>\n",
       "      <td>https://images.gr-assets.com/books/1343668985m...</td>\n",
       "      <td>212464</td>\n",
       "      <td>392838</td>\n",
       "      <td>V for Vendetta</td>\n",
       "      <td>V for Vendetta</td>\n",
       "    </tr>\n",
       "  </tbody>\n",
       "</table>\n",
       "<p>5 rows × 44 columns</p>\n",
       "</div>"
      ],
      "text/plain": [
       "   book_id                           user_id  \\\n",
       "0     5805  06316bec7a49286f1f98d5acce24f923   \n",
       "1     5805  0b9a0d35734107c5df4a1e3787193afb   \n",
       "2     5805  26b5bed05bcabbabdaec4ee08fc43244   \n",
       "3     5805  faa322d2624b0e7eb3064e39dac4af9c   \n",
       "4     5805  ac66a7e4003e36fb1c360e0b375e9d07   \n",
       "\n",
       "                          review_id  is_read  rating  \\\n",
       "0  94fb3ec3a16941c3deaf5b45d9df32c5     True       2   \n",
       "1  cd3c9f155cebe80e88a7a9c411c24360     True       3   \n",
       "2  64956c237056a385a30ce71978484001     True       4   \n",
       "3  be878322d4145c25bf2018e5ce3b692e     True       4   \n",
       "4  089f053ca85dd539d37a7c97d00e1c82     True       4   \n",
       "\n",
       "                       date_added                    date_updated  \\\n",
       "0  Mon Jun 04 19:15:00 -0700 2012  Mon Jun 04 19:15:00 -0700 2012   \n",
       "1  Sun Dec 09 16:14:38 -0800 2012  Mon Jul 14 08:38:20 -0700 2014   \n",
       "2  Mon Jun 04 22:36:29 -0700 2012  Mon Jun 04 22:36:29 -0700 2012   \n",
       "3  Tue Mar 18 16:24:07 -0700 2008  Tue Mar 18 16:24:07 -0700 2008   \n",
       "4  Tue Jun 05 03:00:26 -0700 2012  Tue Jun 05 03:00:26 -0700 2012   \n",
       "\n",
       "                          read_at started_at date_num_updated  ...  \\\n",
       "0                             NaN        NaN               04  ...   \n",
       "1  Wed Apr 10 08:14:47 -0700 2013        NaN               14  ...   \n",
       "2                             NaN        NaN               04  ...   \n",
       "3                             NaN        NaN               18  ...   \n",
       "4                             NaN        NaN               05  ...   \n",
       "\n",
       "       isbn13 publication_month edition_information  publication_year  \\\n",
       "0  9.7814E+12              11.0                 NaN            2005.0   \n",
       "1  9.7814E+12              11.0                 NaN            2005.0   \n",
       "2  9.7814E+12              11.0                 NaN            2005.0   \n",
       "3  9.7814E+12              11.0                 NaN            2005.0   \n",
       "4  9.7814E+12              11.0                 NaN            2005.0   \n",
       "\n",
       "                                                 url  \\\n",
       "0  https://www.goodreads.com/book/show/5805.V_for...   \n",
       "1  https://www.goodreads.com/book/show/5805.V_for...   \n",
       "2  https://www.goodreads.com/book/show/5805.V_for...   \n",
       "3  https://www.goodreads.com/book/show/5805.V_for...   \n",
       "4  https://www.goodreads.com/book/show/5805.V_for...   \n",
       "\n",
       "                                           image_url ratings_count  work_id  \\\n",
       "0  https://images.gr-assets.com/books/1343668985m...        212464   392838   \n",
       "1  https://images.gr-assets.com/books/1343668985m...        212464   392838   \n",
       "2  https://images.gr-assets.com/books/1343668985m...        212464   392838   \n",
       "3  https://images.gr-assets.com/books/1343668985m...        212464   392838   \n",
       "4  https://images.gr-assets.com/books/1343668985m...        212464   392838   \n",
       "\n",
       "            title title_without_series  \n",
       "0  V for Vendetta       V for Vendetta  \n",
       "1  V for Vendetta       V for Vendetta  \n",
       "2  V for Vendetta       V for Vendetta  \n",
       "3  V for Vendetta       V for Vendetta  \n",
       "4  V for Vendetta       V for Vendetta  \n",
       "\n",
       "[5 rows x 44 columns]"
      ]
     },
     "execution_count": 55,
     "metadata": {},
     "output_type": "execute_result"
    }
   ],
   "source": [
    "reviews_b.head()"
   ]
  },
  {
   "cell_type": "code",
   "execution_count": 56,
   "id": "5f9b3d3a",
   "metadata": {
    "scrolled": true
   },
   "outputs": [],
   "source": [
    "form_readers = reviews_b[['format', 'user_id']].drop_duplicates(['format', 'user_id'])\n",
    "form_readers_count = form_readers.groupby(['format']).count()"
   ]
  },
  {
   "cell_type": "code",
   "execution_count": 57,
   "id": "f6099fa7",
   "metadata": {
    "scrolled": true
   },
   "outputs": [
    {
     "data": {
      "text/html": [
       "<div>\n",
       "<style scoped>\n",
       "    .dataframe tbody tr th:only-of-type {\n",
       "        vertical-align: middle;\n",
       "    }\n",
       "\n",
       "    .dataframe tbody tr th {\n",
       "        vertical-align: top;\n",
       "    }\n",
       "\n",
       "    .dataframe thead th {\n",
       "        text-align: right;\n",
       "    }\n",
       "</style>\n",
       "<table border=\"1\" class=\"dataframe\">\n",
       "  <thead>\n",
       "    <tr style=\"text-align: right;\">\n",
       "      <th></th>\n",
       "      <th>user_id</th>\n",
       "    </tr>\n",
       "    <tr>\n",
       "      <th>format</th>\n",
       "      <th></th>\n",
       "    </tr>\n",
       "  </thead>\n",
       "  <tbody>\n",
       "    <tr>\n",
       "      <th>Comic</th>\n",
       "      <td>943</td>\n",
       "    </tr>\n",
       "    <tr>\n",
       "      <th>Comic Book</th>\n",
       "      <td>1659</td>\n",
       "    </tr>\n",
       "    <tr>\n",
       "      <th>Hardcover</th>\n",
       "      <td>105509</td>\n",
       "    </tr>\n",
       "    <tr>\n",
       "      <th>Kindle Edition</th>\n",
       "      <td>9547</td>\n",
       "    </tr>\n",
       "    <tr>\n",
       "      <th>Library Binding</th>\n",
       "      <td>553</td>\n",
       "    </tr>\n",
       "    <tr>\n",
       "      <th>Paperback</th>\n",
       "      <td>141509</td>\n",
       "    </tr>\n",
       "    <tr>\n",
       "      <th>Slipcased Hardcover</th>\n",
       "      <td>2049</td>\n",
       "    </tr>\n",
       "    <tr>\n",
       "      <th>ebook</th>\n",
       "      <td>3758</td>\n",
       "    </tr>\n",
       "  </tbody>\n",
       "</table>\n",
       "</div>"
      ],
      "text/plain": [
       "                     user_id\n",
       "format                      \n",
       "Comic                    943\n",
       "Comic Book              1659\n",
       "Hardcover             105509\n",
       "Kindle Edition          9547\n",
       "Library Binding          553\n",
       "Paperback             141509\n",
       "Slipcased Hardcover     2049\n",
       "ebook                   3758"
      ]
     },
     "execution_count": 57,
     "metadata": {},
     "output_type": "execute_result"
    }
   ],
   "source": [
    "form_readers_count"
   ]
  },
  {
   "cell_type": "code",
   "execution_count": 58,
   "id": "80cd5ebf",
   "metadata": {},
   "outputs": [
    {
     "data": {
      "text/plain": [
       "Text(0, 0.5, 'no of readers')"
      ]
     },
     "execution_count": 58,
     "metadata": {},
     "output_type": "execute_result"
    },
    {
     "data": {
      "image/png": "[encoded data removed]",
      "text/plain": [
       "<Figure size 432x288 with 1 Axes>"
      ]
     },
     "metadata": {
      "needs_background": "light"
     },
     "output_type": "display_data"
    }
   ],
   "source": [
    "ax = form_readers_count.plot.bar(rot = 90)\n",
    "ax.set_ylabel(\"no of readers\")"
   ]
  },
  {
   "cell_type": "code",
   "execution_count": 59,
   "id": "e77fce26",
   "metadata": {},
   "outputs": [],
   "source": [
    "books_for = books[['format', 'book_id']].groupby('format').count()"
   ]
  },
  {
   "cell_type": "code",
   "execution_count": 60,
   "id": "1a3c3b42",
   "metadata": {},
   "outputs": [
    {
     "data": {
      "text/html": [
       "<div>\n",
       "<style scoped>\n",
       "    .dataframe tbody tr th:only-of-type {\n",
       "        vertical-align: middle;\n",
       "    }\n",
       "\n",
       "    .dataframe tbody tr th {\n",
       "        vertical-align: top;\n",
       "    }\n",
       "\n",
       "    .dataframe thead th {\n",
       "        text-align: right;\n",
       "    }\n",
       "</style>\n",
       "<table border=\"1\" class=\"dataframe\">\n",
       "  <thead>\n",
       "    <tr style=\"text-align: right;\">\n",
       "      <th></th>\n",
       "      <th>book_id</th>\n",
       "    </tr>\n",
       "    <tr>\n",
       "      <th>format</th>\n",
       "      <th></th>\n",
       "    </tr>\n",
       "  </thead>\n",
       "  <tbody>\n",
       "    <tr>\n",
       "      <th>Comic</th>\n",
       "      <td>1</td>\n",
       "    </tr>\n",
       "    <tr>\n",
       "      <th>Comic Book</th>\n",
       "      <td>2</td>\n",
       "    </tr>\n",
       "    <tr>\n",
       "      <th>Hardcover</th>\n",
       "      <td>185</td>\n",
       "    </tr>\n",
       "    <tr>\n",
       "      <th>Kindle Edition</th>\n",
       "      <td>3</td>\n",
       "    </tr>\n",
       "    <tr>\n",
       "      <th>Library Binding</th>\n",
       "      <td>1</td>\n",
       "    </tr>\n",
       "    <tr>\n",
       "      <th>Paperback</th>\n",
       "      <td>688</td>\n",
       "    </tr>\n",
       "    <tr>\n",
       "      <th>Slipcased Hardcover</th>\n",
       "      <td>3</td>\n",
       "    </tr>\n",
       "    <tr>\n",
       "      <th>ebook</th>\n",
       "      <td>4</td>\n",
       "    </tr>\n",
       "  </tbody>\n",
       "</table>\n",
       "</div>"
      ],
      "text/plain": [
       "                     book_id\n",
       "format                      \n",
       "Comic                      1\n",
       "Comic Book                 2\n",
       "Hardcover                185\n",
       "Kindle Edition             3\n",
       "Library Binding            1\n",
       "Paperback                688\n",
       "Slipcased Hardcover        3\n",
       "ebook                      4"
      ]
     },
     "execution_count": 60,
     "metadata": {},
     "output_type": "execute_result"
    }
   ],
   "source": [
    "books_for"
   ]
  },
  {
   "cell_type": "code",
   "execution_count": 61,
   "id": "522c8381",
   "metadata": {},
   "outputs": [],
   "source": [
    "form_pg = books.groupby(\"format\")['num_pages'].mean()"
   ]
  },
  {
   "cell_type": "code",
   "execution_count": 62,
   "id": "8b525629",
   "metadata": {
    "scrolled": true
   },
   "outputs": [
    {
     "data": {
      "text/plain": [
       "format\n",
       "Comic                   32.000000\n",
       "Comic Book              33.000000\n",
       "Hardcover              222.965714\n",
       "Kindle Edition         190.000000\n",
       "Library Binding        186.000000\n",
       "Paperback              188.130564\n",
       "Slipcased Hardcover    612.000000\n",
       "ebook                  224.000000\n",
       "Name: num_pages, dtype: float64"
      ]
     },
     "execution_count": 62,
     "metadata": {},
     "output_type": "execute_result"
    }
   ],
   "source": [
    "form_pg"
   ]
  },
  {
   "cell_type": "code",
   "execution_count": 63,
   "id": "0bb7008b",
   "metadata": {},
   "outputs": [
    {
     "data": {
      "text/plain": [
       "Text(0, 0.5, 'no of book pages on average')"
      ]
     },
     "execution_count": 63,
     "metadata": {},
     "output_type": "execute_result"
    },
    {
     "data": {
      "image/png": "[encoded data removed]",
      "text/plain": [
       "<Figure size 432x288 with 1 Axes>"
      ]
     },
     "metadata": {
      "needs_background": "light"
     },
     "output_type": "display_data"
    }
   ],
   "source": [
    "ax = form_pg.plot.bar(rot = 90)\n",
    "ax.set_ylabel(\"no of book pages on average\")"
   ]
  },
  {
   "cell_type": "markdown",
   "id": "0a3a8dee",
   "metadata": {},
   "source": [
    "##### Segment : Readers who use the reviews of the book as a criterion to decide on reading the book"
   ]
  },
  {
   "cell_type": "code",
   "execution_count": 64,
   "id": "a0b7a4f3",
   "metadata": {},
   "outputs": [],
   "source": [
    "reviews_b_rating = reviews_b[['user_id', 'book_id', 'average_rating']].drop_duplicates(['user_id', 'book_id'])\n",
    "form_readers_count = reviews_b_rating.groupby(['user_id'])['average_rating'].mean()"
   ]
  },
  {
   "cell_type": "code",
   "execution_count": 65,
   "id": "751ead88",
   "metadata": {},
   "outputs": [],
   "source": [
    "form_readers_count = form_readers_count.to_frame()"
   ]
  },
  {
   "cell_type": "code",
   "execution_count": 66,
   "id": "39da549b",
   "metadata": {},
   "outputs": [],
   "source": [
    "form_readers_count.reset_index(inplace=True)"
   ]
  },
  {
   "cell_type": "code",
   "execution_count": 67,
   "id": "0f570b41",
   "metadata": {},
   "outputs": [],
   "source": [
    "conditions = [\n",
    "    (form_readers_count['average_rating'] >= 3) & (form_readers_count['average_rating'] < 4),\n",
    "    (form_readers_count['average_rating'] >= 4) & (form_readers_count['average_rating'] < 5)\n",
    "     ]"
   ]
  },
  {
   "cell_type": "code",
   "execution_count": 68,
   "id": "27a0ed04",
   "metadata": {},
   "outputs": [
    {
     "data": {
      "text/plain": [
       "4.82"
      ]
     },
     "execution_count": 68,
     "metadata": {},
     "output_type": "execute_result"
    }
   ],
   "source": [
    "form_readers_count['average_rating'].max()"
   ]
  },
  {
   "cell_type": "code",
   "execution_count": 69,
   "id": "11c3983f",
   "metadata": {},
   "outputs": [],
   "source": [
    "values = ['3 - 4', '4 - 5']"
   ]
  },
  {
   "cell_type": "code",
   "execution_count": 70,
   "id": "b0c67b13",
   "metadata": {},
   "outputs": [],
   "source": [
    "form_readers_count['average_rating'] = np.select(conditions, values)"
   ]
  },
  {
   "cell_type": "code",
   "execution_count": 71,
   "id": "9677dc44",
   "metadata": {},
   "outputs": [],
   "source": [
    "form_readers_c = form_readers_count.groupby(\"average_rating\")['user_id'].count()"
   ]
  },
  {
   "cell_type": "code",
   "execution_count": 72,
   "id": "14641ce8",
   "metadata": {},
   "outputs": [
    {
     "data": {
      "text/plain": [
       "Text(0.5, 0, 'Book ratings')"
      ]
     },
     "execution_count": 72,
     "metadata": {},
     "output_type": "execute_result"
    },
    {
     "data": {
      "image/png": "[encoded data removed]",
      "text/plain": [
       "<Figure size 432x288 with 1 Axes>"
      ]
     },
     "metadata": {
      "needs_background": "light"
     },
     "output_type": "display_data"
    }
   ],
   "source": [
    "ax = form_readers_c.plot.bar(rot = 90)\n",
    "ax.set_title(\"Effect of book rating on number of readers\")\n",
    "ax.set_ylabel(\"Number of readers\")\n",
    "ax.set_xlabel(\"Book ratings\")"
   ]
  },
  {
   "cell_type": "markdown",
   "id": "1df80d3e",
   "metadata": {},
   "source": [
    "Average book ratings column is skewed."
   ]
  },
  {
   "cell_type": "code",
   "execution_count": 83,
   "id": "528be874",
   "metadata": {},
   "outputs": [],
   "source": [
    "review_b_1 = reviews_b[['user_id', 'book_id', 'text_reviews_count']].drop_duplicates(['user_id', 'book_id'])\n",
    "review_b_2 = review_b_1.groupby(['book_id', 'text_reviews_count'])['user_id'].count()"
   ]
  },
  {
   "cell_type": "code",
   "execution_count": 84,
   "id": "23b844fe",
   "metadata": {},
   "outputs": [],
   "source": [
    "review_b_3 = review_b_2.to_frame()"
   ]
  },
  {
   "cell_type": "code",
   "execution_count": 85,
   "id": "26917a5f",
   "metadata": {},
   "outputs": [],
   "source": [
    "review_b_3.reset_index(inplace=True)"
   ]
  },
  {
   "cell_type": "code",
   "execution_count": 86,
   "id": "dc64f100",
   "metadata": {},
   "outputs": [
    {
     "data": {
      "text/plain": [
       "25"
      ]
     },
     "execution_count": 86,
     "metadata": {},
     "output_type": "execute_result"
    }
   ],
   "source": [
    "review_b_3['text_reviews_count'].min()"
   ]
  },
  {
   "cell_type": "code",
   "execution_count": 106,
   "id": "32b94671",
   "metadata": {},
   "outputs": [],
   "source": [
    "review_b_3_fil = review_b_3[review_b_3['text_reviews_count'] <= 100]"
   ]
  },
  {
   "cell_type": "code",
   "execution_count": 107,
   "id": "039435f4",
   "metadata": {},
   "outputs": [],
   "source": [
    "conditions = [\n",
    "    (review_b_3_fil['text_reviews_count'] > 20) & (review_b_3_fil['text_reviews_count'] <= 30),\n",
    "    (review_b_3_fil['text_reviews_count'] > 30) & (review_b_3_fil['text_reviews_count'] <= 40),\n",
    "    (review_b_3_fil['text_reviews_count'] > 40) & (review_b_3_fil['text_reviews_count'] <= 50),\n",
    "    (review_b_3_fil['text_reviews_count'] > 50) & (review_b_3_fil['text_reviews_count'] <= 100)\n",
    "    ]"
   ]
  },
  {
   "cell_type": "code",
   "execution_count": 108,
   "id": "61873efa",
   "metadata": {},
   "outputs": [],
   "source": [
    "values = ['20-30', '30-40', '40-50', '50-100']"
   ]
  },
  {
   "cell_type": "code",
   "execution_count": 109,
   "id": "9a64cfad",
   "metadata": {},
   "outputs": [
    {
     "name": "stderr",
     "output_type": "stream",
     "text": [
      "<ipython-input-109-14709e80b72d>:1: SettingWithCopyWarning: \n",
      "A value is trying to be set on a copy of a slice from a DataFrame.\n",
      "Try using .loc[row_indexer,col_indexer] = value instead\n",
      "\n",
      "See the caveats in the documentation: https://pandas.pydata.org/pandas-docs/stable/user_guide/indexing.html#returning-a-view-versus-a-copy\n",
      "  review_b_3_fil['reviews_range'] = np.select(conditions, values)\n"
     ]
    }
   ],
   "source": [
    "review_b_3_fil['reviews_range'] = np.select(conditions, values)"
   ]
  },
  {
   "cell_type": "code",
   "execution_count": 110,
   "id": "a95c89e5",
   "metadata": {},
   "outputs": [],
   "source": [
    "review_b_4 = review_b_3_fil.groupby(\"reviews_range\")['user_id'].sum()"
   ]
  },
  {
   "cell_type": "code",
   "execution_count": 111,
   "id": "4d5695db",
   "metadata": {},
   "outputs": [],
   "source": [
    "review_b_4 = review_b_4.to_frame()"
   ]
  },
  {
   "cell_type": "code",
   "execution_count": 112,
   "id": "80ecea38",
   "metadata": {
    "scrolled": false
   },
   "outputs": [
    {
     "data": {
      "text/plain": [
       "Text(0.5, 0, 'Number of book reviews')"
      ]
     },
     "execution_count": 112,
     "metadata": {},
     "output_type": "execute_result"
    },
    {
     "data": {
      "image/png": "[encoded data removed]",
      "text/plain": [
       "<Figure size 432x288 with 1 Axes>"
      ]
     },
     "metadata": {
      "needs_background": "light"
     },
     "output_type": "display_data"
    }
   ],
   "source": [
    "ax = review_b_4.plot.bar(rot = 90)\n",
    "ax.set_title(\"Effect of number of book reviews on number of readers\")\n",
    "ax.set_ylabel(\"Number of readers\")\n",
    "ax.set_xlabel(\"Number of book reviews\")"
   ]
  },
  {
   "cell_type": "markdown",
   "id": "99af5ecd",
   "metadata": {},
   "source": [
    "##### Segement : Readers whose reviews are usually found helpful and are active users"
   ]
  },
  {
   "cell_type": "code",
   "execution_count": 94,
   "id": "a6845da1",
   "metadata": {},
   "outputs": [],
   "source": [
    "review_b_5 = reviews_b.dropna(subset=['n_votes'])"
   ]
  },
  {
   "cell_type": "code",
   "execution_count": 95,
   "id": "175a6b37",
   "metadata": {},
   "outputs": [],
   "source": [
    "review_b_6 = review_b_5.groupby(['user_id'])['n_votes'].mean()"
   ]
  },
  {
   "cell_type": "code",
   "execution_count": 96,
   "id": "1e2d94f9",
   "metadata": {},
   "outputs": [],
   "source": [
    "review_b_7 = review_b_6.to_frame()"
   ]
  },
  {
   "cell_type": "code",
   "execution_count": 97,
   "id": "73000b04",
   "metadata": {},
   "outputs": [],
   "source": [
    "review_b_7.reset_index(inplace=True)"
   ]
  },
  {
   "cell_type": "code",
   "execution_count": 98,
   "id": "07f3c0de",
   "metadata": {},
   "outputs": [],
   "source": [
    "review_b_8 = review_b_7[review_b_7['n_votes'] > 0]"
   ]
  },
  {
   "cell_type": "code",
   "execution_count": 99,
   "id": "c907f546",
   "metadata": {
    "scrolled": true
   },
   "outputs": [
    {
     "data": {
      "text/plain": [
       "0.014705882352941176"
      ]
     },
     "execution_count": 99,
     "metadata": {},
     "output_type": "execute_result"
    }
   ],
   "source": [
    "review_b_8['n_votes'].min()"
   ]
  },
  {
   "cell_type": "code",
   "execution_count": 100,
   "id": "4fe7b2f7",
   "metadata": {},
   "outputs": [],
   "source": [
    "conditions = [\n",
    "    (review_b_8['n_votes'] > 0) & (review_b_8['n_votes'] <= 5),\n",
    "    (review_b_8['n_votes'] > 5) & (review_b_8['n_votes'] <= 10), \n",
    "    (review_b_8['n_votes'] > 10) & (review_b_8['n_votes'] <= 15),\n",
    "    (review_b_8['n_votes'] > 15) & (review_b_8['n_votes'] <= 20),\n",
    "    (review_b_8['n_votes'] > 20)  \n",
    "    ]"
   ]
  },
  {
   "cell_type": "code",
   "execution_count": 101,
   "id": "ae208f69",
   "metadata": {},
   "outputs": [],
   "source": [
    "values = ['0-5', '5-10', '10-15', '15-20', '>20']"
   ]
  },
  {
   "cell_type": "code",
   "execution_count": 102,
   "id": "d2f5d1c9",
   "metadata": {
    "scrolled": true
   },
   "outputs": [
    {
     "name": "stderr",
     "output_type": "stream",
     "text": [
      "<ipython-input-102-efed335ac7a6>:1: SettingWithCopyWarning: \n",
      "A value is trying to be set on a copy of a slice from a DataFrame.\n",
      "Try using .loc[row_indexer,col_indexer] = value instead\n",
      "\n",
      "See the caveats in the documentation: https://pandas.pydata.org/pandas-docs/stable/user_guide/indexing.html#returning-a-view-versus-a-copy\n",
      "  review_b_8['votes_range'] = np.select(conditions, values)\n"
     ]
    }
   ],
   "source": [
    "review_b_8['votes_range'] = np.select(conditions, values)"
   ]
  },
  {
   "cell_type": "code",
   "execution_count": 103,
   "id": "0c6f4213",
   "metadata": {},
   "outputs": [],
   "source": [
    "review_b_9 = review_b_8.groupby(\"votes_range\")['user_id'].count()"
   ]
  },
  {
   "cell_type": "code",
   "execution_count": 104,
   "id": "b9005d8e",
   "metadata": {},
   "outputs": [
    {
     "data": {
      "text/plain": [
       "votes_range\n",
       "0-5      10921\n",
       "10-15      153\n",
       "15-20       52\n",
       "5-10       383\n",
       ">20        118\n",
       "Name: user_id, dtype: int64"
      ]
     },
     "execution_count": 104,
     "metadata": {},
     "output_type": "execute_result"
    }
   ],
   "source": [
    "review_b_9.head()"
   ]
  },
  {
   "cell_type": "code",
   "execution_count": 105,
   "id": "b6f5212c",
   "metadata": {},
   "outputs": [
    {
     "data": {
      "text/plain": [
       "Text(0, 0.5, 'no of readers')"
      ]
     },
     "execution_count": 105,
     "metadata": {},
     "output_type": "execute_result"
    },
    {
     "data": {
      "image/png": "[encoded data removed]",
      "text/plain": [
       "<Figure size 432x288 with 1 Axes>"
      ]
     },
     "metadata": {
      "needs_background": "light"
     },
     "output_type": "display_data"
    }
   ],
   "source": [
    "ax = review_b_9.plot.bar(rot = 90)\n",
    "ax.set_ylabel(\"no of readers\")"
   ]
  }
 ],
 "metadata": {
  "kernelspec": {
   "display_name": "Python 3",
   "language": "python",
   "name": "python3"
  },
  "language_info": {
   "codemirror_mode": {
    "name": "ipython",
    "version": 3
   },
   "file_extension": ".py",
   "mimetype": "text/x-python",
   "name": "python",
   "nbconvert_exporter": "python",
   "pygments_lexer": "ipython3",
   "version": "3.8.8"
  }
 },
 "nbformat": 4,
 "nbformat_minor": 5
}
